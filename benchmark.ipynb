{
 "cells": [
  {
   "cell_type": "code",
   "execution_count": 1,
   "metadata": {},
   "outputs": [],
   "source": [
    "import statsmodels.formula.api as smf\n",
    "import matplotlib.pyplot as plt\n",
    "import fastreg.linear as frl\n",
    "import fastreg.general as frg\n",
    "import fastreg.testing as frt\n",
    "%matplotlib inline"
   ]
  },
  {
   "cell_type": "markdown",
   "metadata": {},
   "source": [
    "### Generate Data"
   ]
  },
  {
   "cell_type": "code",
   "execution_count": 2,
   "metadata": {},
   "outputs": [
    {
     "data": {
      "text/html": [
       "<div>\n",
       "<style scoped>\n",
       "    .dataframe tbody tr th:only-of-type {\n",
       "        vertical-align: middle;\n",
       "    }\n",
       "\n",
       "    .dataframe tbody tr th {\n",
       "        vertical-align: top;\n",
       "    }\n",
       "\n",
       "    .dataframe thead th {\n",
       "        text-align: right;\n",
       "    }\n",
       "</style>\n",
       "<table border=\"1\" class=\"dataframe\">\n",
       "  <thead>\n",
       "    <tr style=\"text-align: right;\">\n",
       "      <th></th>\n",
       "      <th>id1</th>\n",
       "      <th>id2</th>\n",
       "      <th>x1</th>\n",
       "      <th>x2</th>\n",
       "      <th>yhat0</th>\n",
       "      <th>yhat</th>\n",
       "      <th>y0</th>\n",
       "      <th>y</th>\n",
       "      <th>Eb0</th>\n",
       "      <th>Eb</th>\n",
       "      <th>...</th>\n",
       "      <th>Ep0</th>\n",
       "      <th>Ep</th>\n",
       "      <th>p0</th>\n",
       "      <th>p</th>\n",
       "      <th>pz0</th>\n",
       "      <th>pz</th>\n",
       "      <th>nb0</th>\n",
       "      <th>nb</th>\n",
       "      <th>nbz0</th>\n",
       "      <th>nbz</th>\n",
       "    </tr>\n",
       "  </thead>\n",
       "  <tbody>\n",
       "    <tr>\n",
       "      <th>0</th>\n",
       "      <td>4</td>\n",
       "      <td>99</td>\n",
       "      <td>-0.232286</td>\n",
       "      <td>-1.106499</td>\n",
       "      <td>-0.633585</td>\n",
       "      <td>0.756415</td>\n",
       "      <td>1.997507</td>\n",
       "      <td>0.034401</td>\n",
       "      <td>0.346698</td>\n",
       "      <td>0.680575</td>\n",
       "      <td>...</td>\n",
       "      <td>0.530686</td>\n",
       "      <td>2.130624</td>\n",
       "      <td>0</td>\n",
       "      <td>3</td>\n",
       "      <td>0</td>\n",
       "      <td>3</td>\n",
       "      <td>0</td>\n",
       "      <td>1</td>\n",
       "      <td>0</td>\n",
       "      <td>1</td>\n",
       "    </tr>\n",
       "    <tr>\n",
       "      <th>1</th>\n",
       "      <td>8</td>\n",
       "      <td>98</td>\n",
       "      <td>0.457063</td>\n",
       "      <td>0.585081</td>\n",
       "      <td>0.588167</td>\n",
       "      <td>2.368167</td>\n",
       "      <td>2.215314</td>\n",
       "      <td>2.489864</td>\n",
       "      <td>0.642945</td>\n",
       "      <td>0.914367</td>\n",
       "      <td>...</td>\n",
       "      <td>1.800685</td>\n",
       "      <td>10.677805</td>\n",
       "      <td>1</td>\n",
       "      <td>11</td>\n",
       "      <td>1</td>\n",
       "      <td>11</td>\n",
       "      <td>2</td>\n",
       "      <td>26</td>\n",
       "      <td>2</td>\n",
       "      <td>0</td>\n",
       "    </tr>\n",
       "    <tr>\n",
       "      <th>2</th>\n",
       "      <td>8</td>\n",
       "      <td>73</td>\n",
       "      <td>0.761536</td>\n",
       "      <td>-0.705039</td>\n",
       "      <td>-0.094563</td>\n",
       "      <td>1.435437</td>\n",
       "      <td>0.518160</td>\n",
       "      <td>3.194336</td>\n",
       "      <td>0.476377</td>\n",
       "      <td>0.807747</td>\n",
       "      <td>...</td>\n",
       "      <td>0.909771</td>\n",
       "      <td>4.201481</td>\n",
       "      <td>3</td>\n",
       "      <td>4</td>\n",
       "      <td>3</td>\n",
       "      <td>0</td>\n",
       "      <td>0</td>\n",
       "      <td>5</td>\n",
       "      <td>0</td>\n",
       "      <td>5</td>\n",
       "    </tr>\n",
       "    <tr>\n",
       "      <th>3</th>\n",
       "      <td>8</td>\n",
       "      <td>40</td>\n",
       "      <td>-0.251006</td>\n",
       "      <td>-0.884939</td>\n",
       "      <td>-0.506265</td>\n",
       "      <td>0.693735</td>\n",
       "      <td>-1.399765</td>\n",
       "      <td>0.015946</td>\n",
       "      <td>0.376069</td>\n",
       "      <td>0.666797</td>\n",
       "      <td>...</td>\n",
       "      <td>0.602743</td>\n",
       "      <td>2.001176</td>\n",
       "      <td>0</td>\n",
       "      <td>4</td>\n",
       "      <td>0</td>\n",
       "      <td>4</td>\n",
       "      <td>0</td>\n",
       "      <td>0</td>\n",
       "      <td>0</td>\n",
       "      <td>0</td>\n",
       "    </tr>\n",
       "    <tr>\n",
       "      <th>4</th>\n",
       "      <td>6</td>\n",
       "      <td>90</td>\n",
       "      <td>-1.211539</td>\n",
       "      <td>1.763510</td>\n",
       "      <td>0.794644</td>\n",
       "      <td>2.294644</td>\n",
       "      <td>2.340393</td>\n",
       "      <td>2.163917</td>\n",
       "      <td>0.688828</td>\n",
       "      <td>0.908432</td>\n",
       "      <td>...</td>\n",
       "      <td>2.213653</td>\n",
       "      <td>9.920903</td>\n",
       "      <td>8</td>\n",
       "      <td>10</td>\n",
       "      <td>8</td>\n",
       "      <td>10</td>\n",
       "      <td>0</td>\n",
       "      <td>18</td>\n",
       "      <td>0</td>\n",
       "      <td>18</td>\n",
       "    </tr>\n",
       "  </tbody>\n",
       "</table>\n",
       "<p>5 rows × 22 columns</p>\n",
       "</div>"
      ],
      "text/plain": [
       "   id1  id2        x1        x2     yhat0      yhat        y0         y  \\\n",
       "0    4   99 -0.232286 -1.106499 -0.633585  0.756415  1.997507  0.034401   \n",
       "1    8   98  0.457063  0.585081  0.588167  2.368167  2.215314  2.489864   \n",
       "2    8   73  0.761536 -0.705039 -0.094563  1.435437  0.518160  3.194336   \n",
       "3    8   40 -0.251006 -0.884939 -0.506265  0.693735 -1.399765  0.015946   \n",
       "4    6   90 -1.211539  1.763510  0.794644  2.294644  2.340393  2.163917   \n",
       "\n",
       "        Eb0        Eb  ...       Ep0         Ep  p0   p  pz0  pz  nb0  nb  \\\n",
       "0  0.346698  0.680575  ...  0.530686   2.130624   0   3    0   3    0   1   \n",
       "1  0.642945  0.914367  ...  1.800685  10.677805   1  11    1  11    2  26   \n",
       "2  0.476377  0.807747  ...  0.909771   4.201481   3   4    3   0    0   5   \n",
       "3  0.376069  0.666797  ...  0.602743   2.001176   0   4    0   4    0   0   \n",
       "4  0.688828  0.908432  ...  2.213653   9.920903   8  10    8  10    0  18   \n",
       "\n",
       "   nbz0  nbz  \n",
       "0     0    1  \n",
       "1     2    0  \n",
       "2     0    5  \n",
       "3     0    0  \n",
       "4     0   18  \n",
       "\n",
       "[5 rows x 22 columns]"
      ]
     },
     "execution_count": 2,
     "metadata": {},
     "output_type": "execute_result"
    }
   ],
   "source": [
    "data = frt.dataset(N=1_000_000, K1=10, K2=100, seed=89320432)\n",
    "data.head()"
   ]
  },
  {
   "cell_type": "markdown",
   "metadata": {},
   "source": [
    "### Normal OLS"
   ]
  },
  {
   "cell_type": "code",
   "execution_count": 3,
   "metadata": {},
   "outputs": [
    {
     "name": "stdout",
     "output_type": "stream",
     "text": [
      "CPU times: user 418 ms, sys: 283 ms, total: 702 ms\n",
      "Wall time: 158 ms\n"
     ]
    },
    {
     "data": {
      "text/plain": [
       "Intercept    0.099722\n",
       "x1           0.299900\n",
       "x2           0.600421\n",
       "dtype: float64"
      ]
     },
     "execution_count": 3,
     "metadata": {},
     "output_type": "execute_result"
    }
   ],
   "source": [
    "%time smf.ols('y0 ~ x1 + x2', data=data).fit().params"
   ]
  },
  {
   "cell_type": "code",
   "execution_count": 4,
   "metadata": {},
   "outputs": [
    {
     "name": "stdout",
     "output_type": "stream",
     "text": [
      "CPU times: user 62.7 ms, sys: 24.4 ms, total: 87.1 ms\n",
      "Wall time: 25 ms\n"
     ]
    },
    {
     "data": {
      "text/html": [
       "<div>\n",
       "<style scoped>\n",
       "    .dataframe tbody tr th:only-of-type {\n",
       "        vertical-align: middle;\n",
       "    }\n",
       "\n",
       "    .dataframe tbody tr th {\n",
       "        vertical-align: top;\n",
       "    }\n",
       "\n",
       "    .dataframe thead th {\n",
       "        text-align: right;\n",
       "    }\n",
       "</style>\n",
       "<table border=\"1\" class=\"dataframe\">\n",
       "  <thead>\n",
       "    <tr style=\"text-align: right;\">\n",
       "      <th></th>\n",
       "      <th>coeff</th>\n",
       "      <th>stderr</th>\n",
       "      <th>low95</th>\n",
       "      <th>high95</th>\n",
       "      <th>pvalue</th>\n",
       "    </tr>\n",
       "  </thead>\n",
       "  <tbody>\n",
       "    <tr>\n",
       "      <th>one</th>\n",
       "      <td>0.099722</td>\n",
       "      <td>0.001000</td>\n",
       "      <td>0.097763</td>\n",
       "      <td>0.101681</td>\n",
       "      <td>0.0</td>\n",
       "    </tr>\n",
       "    <tr>\n",
       "      <th>x1</th>\n",
       "      <td>0.299900</td>\n",
       "      <td>0.000999</td>\n",
       "      <td>0.297941</td>\n",
       "      <td>0.301858</td>\n",
       "      <td>0.0</td>\n",
       "    </tr>\n",
       "    <tr>\n",
       "      <th>x2</th>\n",
       "      <td>0.600421</td>\n",
       "      <td>0.000998</td>\n",
       "      <td>0.598465</td>\n",
       "      <td>0.602378</td>\n",
       "      <td>0.0</td>\n",
       "    </tr>\n",
       "  </tbody>\n",
       "</table>\n",
       "</div>"
      ],
      "text/plain": [
       "        coeff    stderr     low95    high95  pvalue\n",
       "one  0.099722  0.001000  0.097763  0.101681     0.0\n",
       "x1   0.299900  0.000999  0.297941  0.301858     0.0\n",
       "x2   0.600421  0.000998  0.598465  0.602378     0.0"
      ]
     },
     "execution_count": 4,
     "metadata": {},
     "output_type": "execute_result"
    }
   ],
   "source": [
    "%time frl.ols(y='y0', x=['x1', 'x2'], data=data)"
   ]
  },
  {
   "cell_type": "markdown",
   "metadata": {},
   "source": [
    "### Sparse OLS"
   ]
  },
  {
   "cell_type": "code",
   "execution_count": 5,
   "metadata": {},
   "outputs": [
    {
     "name": "stdout",
     "output_type": "stream",
     "text": [
      "CPU times: user 628 ms, sys: 64.6 ms, total: 692 ms\n",
      "Wall time: 621 ms\n"
     ]
    },
    {
     "data": {
      "text/html": [
       "<div>\n",
       "<style scoped>\n",
       "    .dataframe tbody tr th:only-of-type {\n",
       "        vertical-align: middle;\n",
       "    }\n",
       "\n",
       "    .dataframe tbody tr th {\n",
       "        vertical-align: top;\n",
       "    }\n",
       "\n",
       "    .dataframe thead th {\n",
       "        text-align: right;\n",
       "    }\n",
       "</style>\n",
       "<table border=\"1\" class=\"dataframe\">\n",
       "  <thead>\n",
       "    <tr style=\"text-align: right;\">\n",
       "      <th></th>\n",
       "      <th>coeff</th>\n",
       "      <th>stderr</th>\n",
       "      <th>low95</th>\n",
       "      <th>high95</th>\n",
       "      <th>pvalue</th>\n",
       "    </tr>\n",
       "  </thead>\n",
       "  <tbody>\n",
       "    <tr>\n",
       "      <th>one</th>\n",
       "      <td>0.101112</td>\n",
       "      <td>0.010405</td>\n",
       "      <td>0.080717</td>\n",
       "      <td>0.121506</td>\n",
       "      <td>0.0</td>\n",
       "    </tr>\n",
       "    <tr>\n",
       "      <th>x1</th>\n",
       "      <td>0.300678</td>\n",
       "      <td>0.001000</td>\n",
       "      <td>0.298719</td>\n",
       "      <td>0.302637</td>\n",
       "      <td>0.0</td>\n",
       "    </tr>\n",
       "    <tr>\n",
       "      <th>x2</th>\n",
       "      <td>0.598699</td>\n",
       "      <td>0.000998</td>\n",
       "      <td>0.596742</td>\n",
       "      <td>0.600656</td>\n",
       "      <td>0.0</td>\n",
       "    </tr>\n",
       "    <tr>\n",
       "      <th>id1=1</th>\n",
       "      <td>0.095159</td>\n",
       "      <td>0.004473</td>\n",
       "      <td>0.086391</td>\n",
       "      <td>0.103927</td>\n",
       "      <td>0.0</td>\n",
       "    </tr>\n",
       "    <tr>\n",
       "      <th>id1=2</th>\n",
       "      <td>0.194404</td>\n",
       "      <td>0.004468</td>\n",
       "      <td>0.185646</td>\n",
       "      <td>0.203161</td>\n",
       "      <td>0.0</td>\n",
       "    </tr>\n",
       "    <tr>\n",
       "      <th>...</th>\n",
       "      <td>...</td>\n",
       "      <td>...</td>\n",
       "      <td>...</td>\n",
       "      <td>...</td>\n",
       "      <td>...</td>\n",
       "    </tr>\n",
       "    <tr>\n",
       "      <th>id2=95</th>\n",
       "      <td>0.952153</td>\n",
       "      <td>0.014124</td>\n",
       "      <td>0.924471</td>\n",
       "      <td>0.979836</td>\n",
       "      <td>0.0</td>\n",
       "    </tr>\n",
       "    <tr>\n",
       "      <th>id2=96</th>\n",
       "      <td>0.962016</td>\n",
       "      <td>0.014154</td>\n",
       "      <td>0.934275</td>\n",
       "      <td>0.989757</td>\n",
       "      <td>0.0</td>\n",
       "    </tr>\n",
       "    <tr>\n",
       "      <th>id2=97</th>\n",
       "      <td>0.990319</td>\n",
       "      <td>0.014160</td>\n",
       "      <td>0.962565</td>\n",
       "      <td>1.018072</td>\n",
       "      <td>0.0</td>\n",
       "    </tr>\n",
       "    <tr>\n",
       "      <th>id2=98</th>\n",
       "      <td>0.984403</td>\n",
       "      <td>0.014149</td>\n",
       "      <td>0.956672</td>\n",
       "      <td>1.012135</td>\n",
       "      <td>0.0</td>\n",
       "    </tr>\n",
       "    <tr>\n",
       "      <th>id2=99</th>\n",
       "      <td>0.984027</td>\n",
       "      <td>0.014096</td>\n",
       "      <td>0.956399</td>\n",
       "      <td>1.011655</td>\n",
       "      <td>0.0</td>\n",
       "    </tr>\n",
       "  </tbody>\n",
       "</table>\n",
       "<p>111 rows × 5 columns</p>\n",
       "</div>"
      ],
      "text/plain": [
       "           coeff    stderr     low95    high95  pvalue\n",
       "one     0.101112  0.010405  0.080717  0.121506     0.0\n",
       "x1      0.300678  0.001000  0.298719  0.302637     0.0\n",
       "x2      0.598699  0.000998  0.596742  0.600656     0.0\n",
       "id1=1   0.095159  0.004473  0.086391  0.103927     0.0\n",
       "id1=2   0.194404  0.004468  0.185646  0.203161     0.0\n",
       "...          ...       ...       ...       ...     ...\n",
       "id2=95  0.952153  0.014124  0.924471  0.979836     0.0\n",
       "id2=96  0.962016  0.014154  0.934275  0.989757     0.0\n",
       "id2=97  0.990319  0.014160  0.962565  1.018072     0.0\n",
       "id2=98  0.984403  0.014149  0.956672  1.012135     0.0\n",
       "id2=99  0.984027  0.014096  0.956399  1.011655     0.0\n",
       "\n",
       "[111 rows x 5 columns]"
      ]
     },
     "execution_count": 5,
     "metadata": {},
     "output_type": "execute_result"
    }
   ],
   "source": [
    "%time frl.ols(y='y', x=['x1', 'x2'], fe=['id1', 'id2'], data=data)"
   ]
  },
  {
   "cell_type": "code",
   "execution_count": 6,
   "metadata": {},
   "outputs": [
    {
     "name": "stdout",
     "output_type": "stream",
     "text": [
      "CPU times: user 1.02 s, sys: 521 ms, total: 1.54 s\n",
      "Wall time: 461 ms\n"
     ]
    },
    {
     "data": {
      "text/html": [
       "<div>\n",
       "<style scoped>\n",
       "    .dataframe tbody tr th:only-of-type {\n",
       "        vertical-align: middle;\n",
       "    }\n",
       "\n",
       "    .dataframe tbody tr th {\n",
       "        vertical-align: top;\n",
       "    }\n",
       "\n",
       "    .dataframe thead th {\n",
       "        text-align: right;\n",
       "    }\n",
       "</style>\n",
       "<table border=\"1\" class=\"dataframe\">\n",
       "  <thead>\n",
       "    <tr style=\"text-align: right;\">\n",
       "      <th></th>\n",
       "      <th>coeff</th>\n",
       "      <th>stderr</th>\n",
       "      <th>low95</th>\n",
       "      <th>high95</th>\n",
       "      <th>pvalue</th>\n",
       "    </tr>\n",
       "  </thead>\n",
       "  <tbody>\n",
       "    <tr>\n",
       "      <th>one</th>\n",
       "      <td>1.045036</td>\n",
       "      <td>0.000925</td>\n",
       "      <td>1.043223</td>\n",
       "      <td>1.046849</td>\n",
       "      <td>0.0</td>\n",
       "    </tr>\n",
       "    <tr>\n",
       "      <th>x1</th>\n",
       "      <td>0.300678</td>\n",
       "      <td>0.000990</td>\n",
       "      <td>0.298739</td>\n",
       "      <td>0.302618</td>\n",
       "      <td>0.0</td>\n",
       "    </tr>\n",
       "    <tr>\n",
       "      <th>x2</th>\n",
       "      <td>0.598699</td>\n",
       "      <td>0.000971</td>\n",
       "      <td>0.596796</td>\n",
       "      <td>0.600601</td>\n",
       "      <td>0.0</td>\n",
       "    </tr>\n",
       "  </tbody>\n",
       "</table>\n",
       "</div>"
      ],
      "text/plain": [
       "        coeff    stderr     low95    high95  pvalue\n",
       "one  1.045036  0.000925  1.043223  1.046849     0.0\n",
       "x1   0.300678  0.000990  0.298739  0.302618     0.0\n",
       "x2   0.598699  0.000971  0.596796  0.600601     0.0"
      ]
     },
     "execution_count": 6,
     "metadata": {},
     "output_type": "execute_result"
    }
   ],
   "source": [
    "%time frl.ols(y='y', x=['x1', 'x2'], absorb=('id1', 'id2'), data=data)"
   ]
  },
  {
   "cell_type": "markdown",
   "metadata": {},
   "source": [
    "### Poisson"
   ]
  },
  {
   "cell_type": "code",
   "execution_count": 139,
   "metadata": {},
   "outputs": [
    {
     "name": "stdout",
     "output_type": "stream",
     "text": [
      "[  0] -0.6612: 0.3300 nan\n",
      "[  1] -0.6206: 0.3299 nan\n",
      "[  2] -0.6206: 0.3299 nan\n",
      "CPU times: user 2.25 s, sys: 384 ms, total: 2.64 s\n",
      "Wall time: 1.87 s\n",
      "[0.09874016 0.29497403 0.5959497 ]\n"
     ]
    }
   ],
   "source": [
    "%time param, sigma = frg.poisson(y='p0', x=['x1', 'x2'], data=data, epochs=3)\n",
    "print(param['real'])"
   ]
  },
  {
   "cell_type": "code",
   "execution_count": 157,
   "metadata": {},
   "outputs": [
    {
     "name": "stdout",
     "output_type": "stream",
     "text": [
      "[  0] 1.5467: 0.4922 0.9624\n",
      "[  1] 2.3881: 0.4430 1.0855\n",
      "[  2] 2.3929: 0.4430 1.0855\n",
      "CPU times: user 3.39 s, sys: 593 ms, total: 3.98 s\n",
      "Wall time: 2.79 s\n",
      "[0.28578255 0.6001363 ]\n"
     ]
    }
   ],
   "source": [
    "%time param, sigma = frg.poisson(y='p', x=['x1', 'x2'], fe=['id1'], intercept=False, data=data, epochs=3)\n",
    "print(param['real'])"
   ]
  },
  {
   "cell_type": "code",
   "execution_count": 158,
   "metadata": {},
   "outputs": [
    {
     "data": {
      "image/png": "[encoded data removed]",
      "text/plain": [
       "<Figure size 432x288 with 1 Axes>"
      ]
     },
     "metadata": {
      "needs_background": "light"
     },
     "output_type": "display_data"
    }
   ],
   "source": [
    "bid1 = np.arange(10)/10\n",
    "beta = param['categ']['id1']-param['categ']['id1'][0]\n",
    "berr = beta - bid1\n",
    "stdv = np.sqrt(np.diagonal(sigma['categ']['id1']['categ']['id1']))\n",
    "line, = plt.plot(bid1, berr, marker='o')\n",
    "# plt.plot(bid1, bid1, linestyle='--', linewidth=1, color='k');\n",
    "plt.plot(bid1, np.zeros_like(bid1), linestyle='--', linewidth=1, color='k');\n",
    "plt.errorbar(bid1, berr, yerr=stdv, capsize=4, color=line.get_color());"
   ]
  },
  {
   "cell_type": "markdown",
   "metadata": {},
   "source": [
    "### Negative Binomial"
   ]
  },
  {
   "cell_type": "code",
   "execution_count": 142,
   "metadata": {},
   "outputs": [
    {
     "name": "stdout",
     "output_type": "stream",
     "text": [
      "[  0] -0.6974: 0.3345 nan\n",
      "[  1] -0.6490: 0.3268 nan\n",
      "[  2] -0.6489: 0.3265 nan\n",
      "CPU times: user 5.14 s, sys: 610 ms, total: 5.75 s\n",
      "Wall time: 5.19 s\n",
      "[0.10284007 0.3040837  0.5726317 ]\n"
     ]
    }
   ],
   "source": [
    "%time param, sigma = frg.zinf_negbin(y='nbz0', x=['x1', 'x2'], data=data, epochs=3)\n",
    "print(param['real'])"
   ]
  },
  {
   "cell_type": "code",
   "execution_count": 145,
   "metadata": {},
   "outputs": [
    {
     "name": "stdout",
     "output_type": "stream",
     "text": [
      "[  0] 0.9271: 0.3663 0.9527\n",
      "[  1] 1.1517: 0.3642 1.0383\n",
      "[  2] 1.1537: 0.3640 1.0393\n",
      "[  3] 1.1537: 0.3640 1.0393\n",
      "[  4] 1.1537: 0.3640 1.0393\n",
      "CPU times: user 9.31 s, sys: 1.48 s, total: 10.8 s\n",
      "Wall time: 9.93 s\n"
     ]
    }
   ],
   "source": [
    "%time param, sigma = frg.zinf_negbin(y='nbz', x=['x1', 'x2'], fe=['id2'], intercept=False, data=data, epochs=5)"
   ]
  },
  {
   "cell_type": "code",
   "execution_count": 148,
   "metadata": {},
   "outputs": [
    {
     "data": {
      "image/png": "[encoded data removed]",
      "text/plain": [
       "<Figure size 432x288 with 1 Axes>"
      ]
     },
     "metadata": {
      "needs_background": "light"
     },
     "output_type": "display_data"
    }
   ],
   "source": [
    "bid1 = np.arange(100)/100\n",
    "beta = param['categ']['id2'] - param['categ']['id2'][0]\n",
    "stdv = np.sqrt(np.diagonal(sigma['categ']['id2']['categ']['id2']))\n",
    "line, = plt.plot(bid1, beta, marker='o')\n",
    "plt.plot(bid1, bid1, linestyle='--', linewidth=1, color='k');\n",
    "plt.errorbar(bid1, beta, yerr=stdv, capsize=4, color=line.get_color());"
   ]
  },
  {
   "cell_type": "markdown",
   "metadata": {},
   "source": [
    "### Ultra Wide"
   ]
  },
  {
   "cell_type": "code",
   "execution_count": 42,
   "metadata": {},
   "outputs": [],
   "source": [
    "N = 2_000_000\n",
    "df = pd.DataFrame({ \n",
    "    'x1': np.random.rand(N), \n",
    "    'x2': np.random.rand(N), \n",
    "    'id1': np.ceil(np.arange(N)/200+1e-7).astype(np.int),\n",
    "    'id2': np.random.randint(1, 10001, size=N)\n",
    "})\n",
    "df['y'] = df['x1'] + 2*df['x2'] + np.log10(df['id1']) + np.log10(df['id2']) + np.random.randn(N)"
   ]
  },
  {
   "cell_type": "code",
   "execution_count": 43,
   "metadata": {},
   "outputs": [
    {
     "name": "stdout",
     "output_type": "stream",
     "text": [
      "CPU times: user 2.48 s, sys: 1.19 s, total: 3.67 s\n",
      "Wall time: 2.87 s\n"
     ]
    },
    {
     "data": {
      "text/html": [
       "<div>\n",
       "<style scoped>\n",
       "    .dataframe tbody tr th:only-of-type {\n",
       "        vertical-align: middle;\n",
       "    }\n",
       "\n",
       "    .dataframe tbody tr th {\n",
       "        vertical-align: top;\n",
       "    }\n",
       "\n",
       "    .dataframe thead th {\n",
       "        text-align: right;\n",
       "    }\n",
       "</style>\n",
       "<table border=\"1\" class=\"dataframe\">\n",
       "  <thead>\n",
       "    <tr style=\"text-align: right;\">\n",
       "      <th></th>\n",
       "      <th>coeff</th>\n",
       "      <th>stderr</th>\n",
       "      <th>low95</th>\n",
       "      <th>high95</th>\n",
       "      <th>pvalue</th>\n",
       "    </tr>\n",
       "  </thead>\n",
       "  <tbody>\n",
       "    <tr>\n",
       "      <th>one</th>\n",
       "      <td>7.130328</td>\n",
       "      <td>0.001871</td>\n",
       "      <td>7.126661</td>\n",
       "      <td>7.133995</td>\n",
       "      <td>0.0</td>\n",
       "    </tr>\n",
       "    <tr>\n",
       "      <th>x1</th>\n",
       "      <td>1.000800</td>\n",
       "      <td>0.002451</td>\n",
       "      <td>0.995996</td>\n",
       "      <td>1.005603</td>\n",
       "      <td>0.0</td>\n",
       "    </tr>\n",
       "    <tr>\n",
       "      <th>x2</th>\n",
       "      <td>2.000324</td>\n",
       "      <td>0.002451</td>\n",
       "      <td>1.995521</td>\n",
       "      <td>2.005127</td>\n",
       "      <td>0.0</td>\n",
       "    </tr>\n",
       "  </tbody>\n",
       "</table>\n",
       "</div>"
      ],
      "text/plain": [
       "        coeff    stderr     low95    high95  pvalue\n",
       "one  7.130328  0.001871  7.126661  7.133995     0.0\n",
       "x1   1.000800  0.002451  0.995996  1.005603     0.0\n",
       "x2   2.000324  0.002451  1.995521  2.005127     0.0"
      ]
     },
     "execution_count": 43,
     "metadata": {},
     "output_type": "execute_result"
    }
   ],
   "source": [
    "%time frl.ols(y='y', x=['x1', 'x2'], absorb=['id1', 'id2'], data=df)"
   ]
  },
  {
   "cell_type": "code",
   "execution_count": 44,
   "metadata": {},
   "outputs": [
    {
     "name": "stdout",
     "output_type": "stream",
     "text": [
      "[  0] -18.8119: 0.4889\n",
      "[  1] -4.5593: 0.9647\n",
      "[  2] -1.8222: 1.4436\n",
      "[  3] -1.1681: 1.9268\n",
      "[  4] -0.6874: 1.9705\n",
      "[  5] -0.6495: 1.8507\n",
      "[  6] -0.6485: 1.8133\n",
      "[  7] -0.6407: 1.8083\n",
      "[  8] -0.6338: 1.8086\n",
      "[  9] -0.6278: 1.8099\n",
      "CPU times: user 53.5 s, sys: 10 s, total: 1min 3s\n",
      "Wall time: 44.7 s\n"
     ]
    }
   ],
   "source": [
    "%time beta, sigma = frg.ordinary_least_squares(y='y', x=['x1', 'x2'], fe=['id1', 'id2'], data=df, epochs=10, stderr=False)"
   ]
  },
  {
   "cell_type": "code",
   "execution_count": null,
   "metadata": {},
   "outputs": [],
   "source": []
  }
 ],
 "metadata": {
  "kernelspec": {
   "display_name": "Python 3",
   "language": "python",
   "name": "python3"
  },
  "language_info": {
   "codemirror_mode": {
    "name": "ipython",
    "version": 3
   },
   "file_extension": ".py",
   "mimetype": "text/x-python",
   "name": "python",
   "nbconvert_exporter": "python",
   "pygments_lexer": "ipython3",
   "version": "3.8.2"
  }
 },
 "nbformat": 4,
 "nbformat_minor": 4
}
