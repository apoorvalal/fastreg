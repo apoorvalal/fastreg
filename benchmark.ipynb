{
 "cells": [
  {
   "cell_type": "code",
   "execution_count": 12,
   "metadata": {},
   "outputs": [],
   "source": [
    "import statsmodels.formula.api as smf\n",
    "import matplotlib.pyplot as plt\n",
    "import fastreg.design as frd\n",
    "import fastreg.linear as frl\n",
    "import fastreg.general as frg\n",
    "import fastreg.genjax as frx\n",
    "%matplotlib inline"
   ]
  },
  {
   "cell_type": "markdown",
   "metadata": {},
   "source": [
    "### Generate Data"
   ]
  },
  {
   "cell_type": "code",
   "execution_count": 47,
   "metadata": {},
   "outputs": [],
   "source": [
    "st = np.random.RandomState(89320432)\n",
    "N, K1, K2 = 1_000_000, 10, 100"
   ]
  },
  {
   "cell_type": "code",
   "execution_count": 48,
   "metadata": {},
   "outputs": [
    {
     "data": {
      "text/html": [
       "<div>\n",
       "<style scoped>\n",
       "    .dataframe tbody tr th:only-of-type {\n",
       "        vertical-align: middle;\n",
       "    }\n",
       "\n",
       "    .dataframe tbody tr th {\n",
       "        vertical-align: top;\n",
       "    }\n",
       "\n",
       "    .dataframe thead th {\n",
       "        text-align: right;\n",
       "    }\n",
       "</style>\n",
       "<table border=\"1\" class=\"dataframe\">\n",
       "  <thead>\n",
       "    <tr style=\"text-align: right;\">\n",
       "      <th></th>\n",
       "      <th>id1</th>\n",
       "      <th>id2</th>\n",
       "      <th>x1</th>\n",
       "      <th>x2</th>\n",
       "      <th>y</th>\n",
       "      <th>lEp</th>\n",
       "      <th>Ep</th>\n",
       "      <th>p</th>\n",
       "      <th>p0</th>\n",
       "    </tr>\n",
       "  </thead>\n",
       "  <tbody>\n",
       "    <tr>\n",
       "      <td>0</td>\n",
       "      <td>4</td>\n",
       "      <td>99</td>\n",
       "      <td>-0.232286</td>\n",
       "      <td>-1.106499</td>\n",
       "      <td>4.721238</td>\n",
       "      <td>-0.360671</td>\n",
       "      <td>0.697208</td>\n",
       "      <td>0</td>\n",
       "      <td>0</td>\n",
       "    </tr>\n",
       "    <tr>\n",
       "      <td>1</td>\n",
       "      <td>8</td>\n",
       "      <td>98</td>\n",
       "      <td>0.457063</td>\n",
       "      <td>0.585081</td>\n",
       "      <td>9.168498</td>\n",
       "      <td>0.391254</td>\n",
       "      <td>1.478834</td>\n",
       "      <td>1</td>\n",
       "      <td>0</td>\n",
       "    </tr>\n",
       "    <tr>\n",
       "      <td>2</td>\n",
       "      <td>8</td>\n",
       "      <td>73</td>\n",
       "      <td>0.761536</td>\n",
       "      <td>-0.705039</td>\n",
       "      <td>6.487252</td>\n",
       "      <td>0.315914</td>\n",
       "      <td>1.371512</td>\n",
       "      <td>0</td>\n",
       "      <td>0</td>\n",
       "    </tr>\n",
       "    <tr>\n",
       "      <td>3</td>\n",
       "      <td>8</td>\n",
       "      <td>40</td>\n",
       "      <td>-0.251006</td>\n",
       "      <td>-0.884939</td>\n",
       "      <td>1.583604</td>\n",
       "      <td>-0.327591</td>\n",
       "      <td>0.720657</td>\n",
       "      <td>0</td>\n",
       "      <td>0</td>\n",
       "    </tr>\n",
       "    <tr>\n",
       "      <td>4</td>\n",
       "      <td>6</td>\n",
       "      <td>90</td>\n",
       "      <td>-1.211539</td>\n",
       "      <td>1.763510</td>\n",
       "      <td>6.438151</td>\n",
       "      <td>-0.374222</td>\n",
       "      <td>0.687824</td>\n",
       "      <td>1</td>\n",
       "      <td>0</td>\n",
       "    </tr>\n",
       "  </tbody>\n",
       "</table>\n",
       "</div>"
      ],
      "text/plain": [
       "   id1  id2        x1        x2         y       lEp        Ep  p  p0\n",
       "0    4   99 -0.232286 -1.106499  4.721238 -0.360671  0.697208  0   0\n",
       "1    8   98  0.457063  0.585081  9.168498  0.391254  1.478834  1   0\n",
       "2    8   73  0.761536 -0.705039  6.487252  0.315914  1.371512  0   0\n",
       "3    8   40 -0.251006 -0.884939  1.583604 -0.327591  0.720657  0   0\n",
       "4    6   90 -1.211539  1.763510  6.438151 -0.374222  0.687824  1   0"
      ]
     },
     "execution_count": 48,
     "metadata": {},
     "output_type": "execute_result"
    }
   ],
   "source": [
    "df0 = pd.DataFrame({\n",
    "    'id1': st.randint(K1, size=N),\n",
    "    'id2': st.randint(K2, size=N),\n",
    "    'x1': st.randn(N),\n",
    "    'x2': st.randn(N)\n",
    "})\n",
    "df0['y'] = 5 + 3*df0['x1'] + 2*df0['x2'] + st.randn(N)\n",
    "df0['lEp'] = 0.6*df0['x1'] + 0.2*df0['x2']\n",
    "df0['Ep'] = np.exp(df0['lEp'])\n",
    "df0['p'] = np.random.poisson(df0['Ep'])\n",
    "df0['p0'] = np.where(st.rand(N) < 0.2, 0, df0['p'])\n",
    "df0.head()"
   ]
  },
  {
   "cell_type": "code",
   "execution_count": 49,
   "metadata": {},
   "outputs": [
    {
     "data": {
      "text/html": [
       "<div>\n",
       "<style scoped>\n",
       "    .dataframe tbody tr th:only-of-type {\n",
       "        vertical-align: middle;\n",
       "    }\n",
       "\n",
       "    .dataframe tbody tr th {\n",
       "        vertical-align: top;\n",
       "    }\n",
       "\n",
       "    .dataframe thead th {\n",
       "        text-align: right;\n",
       "    }\n",
       "</style>\n",
       "<table border=\"1\" class=\"dataframe\">\n",
       "  <thead>\n",
       "    <tr style=\"text-align: right;\">\n",
       "      <th></th>\n",
       "      <th>id1</th>\n",
       "      <th>id2</th>\n",
       "      <th>x1</th>\n",
       "      <th>x2</th>\n",
       "      <th>y</th>\n",
       "      <th>lEp</th>\n",
       "      <th>Ep</th>\n",
       "      <th>p</th>\n",
       "    </tr>\n",
       "  </thead>\n",
       "  <tbody>\n",
       "    <tr>\n",
       "      <td>0</td>\n",
       "      <td>4</td>\n",
       "      <td>91</td>\n",
       "      <td>-1.568084</td>\n",
       "      <td>-0.302746</td>\n",
       "      <td>0.198134</td>\n",
       "      <td>-0.538400</td>\n",
       "      <td>0.583682</td>\n",
       "      <td>1</td>\n",
       "    </tr>\n",
       "    <tr>\n",
       "      <td>1</td>\n",
       "      <td>8</td>\n",
       "      <td>34</td>\n",
       "      <td>2.149949</td>\n",
       "      <td>0.738744</td>\n",
       "      <td>15.280657</td>\n",
       "      <td>1.623718</td>\n",
       "      <td>5.071913</td>\n",
       "      <td>3</td>\n",
       "    </tr>\n",
       "    <tr>\n",
       "      <td>2</td>\n",
       "      <td>4</td>\n",
       "      <td>85</td>\n",
       "      <td>0.270684</td>\n",
       "      <td>1.181311</td>\n",
       "      <td>9.546037</td>\n",
       "      <td>0.831672</td>\n",
       "      <td>2.297157</td>\n",
       "      <td>3</td>\n",
       "    </tr>\n",
       "    <tr>\n",
       "      <td>3</td>\n",
       "      <td>4</td>\n",
       "      <td>21</td>\n",
       "      <td>-0.035878</td>\n",
       "      <td>-0.017614</td>\n",
       "      <td>3.982287</td>\n",
       "      <td>0.087950</td>\n",
       "      <td>1.091934</td>\n",
       "      <td>0</td>\n",
       "    </tr>\n",
       "    <tr>\n",
       "      <td>4</td>\n",
       "      <td>7</td>\n",
       "      <td>33</td>\n",
       "      <td>0.874663</td>\n",
       "      <td>-0.392154</td>\n",
       "      <td>7.437846</td>\n",
       "      <td>0.625367</td>\n",
       "      <td>1.868932</td>\n",
       "      <td>3</td>\n",
       "    </tr>\n",
       "  </tbody>\n",
       "</table>\n",
       "</div>"
      ],
      "text/plain": [
       "   id1  id2        x1        x2          y       lEp        Ep  p\n",
       "0    4   91 -1.568084 -0.302746   0.198134 -0.538400  0.583682  1\n",
       "1    8   34  2.149949  0.738744  15.280657  1.623718  5.071913  3\n",
       "2    4   85  0.270684  1.181311   9.546037  0.831672  2.297157  3\n",
       "3    4   21 -0.035878 -0.017614   3.982287  0.087950  1.091934  0\n",
       "4    7   33  0.874663 -0.392154   7.437846  0.625367  1.868932  3"
      ]
     },
     "execution_count": 49,
     "metadata": {},
     "output_type": "execute_result"
    }
   ],
   "source": [
    "df = pd.DataFrame({\n",
    "    'id1': st.randint(K1, size=N),\n",
    "    'id2': st.randint(K2, size=N),\n",
    "    'x1': st.randn(N),\n",
    "    'x2': st.randn(N)\n",
    "})\n",
    "df['y'] = 5 + 3*df['x1'] + 2*df['x2'] + 0.1*df['id1'] + 0.01*df['id2'] + st.randn(N)\n",
    "df['lEp'] = 0.6*df['x1'] + 0.2*df['x2'] + 0.2*df['id1']/100 + 0.5*df['id2']/100\n",
    "df['Ep'] = np.exp(df['lEp'])\n",
    "df['p'] = np.random.poisson(df['Ep'])\n",
    "df.head()"
   ]
  },
  {
   "cell_type": "markdown",
   "metadata": {},
   "source": [
    "### Normal OLS"
   ]
  },
  {
   "cell_type": "code",
   "execution_count": 6,
   "metadata": {},
   "outputs": [
    {
     "name": "stdout",
     "output_type": "stream",
     "text": [
      "CPU times: user 79.1 ms, sys: 45.5 ms, total: 125 ms\n",
      "Wall time: 39.3 ms\n"
     ]
    },
    {
     "data": {
      "text/plain": [
       "Intercept    4.999040\n",
       "x1           3.003673\n",
       "x2           2.002892\n",
       "dtype: float64"
      ]
     },
     "execution_count": 6,
     "metadata": {},
     "output_type": "execute_result"
    }
   ],
   "source": [
    "%time smf.ols('y ~ x1 + x2', data=df0).fit().params"
   ]
  },
  {
   "cell_type": "code",
   "execution_count": 7,
   "metadata": {},
   "outputs": [
    {
     "name": "stdout",
     "output_type": "stream",
     "text": [
      "CPU times: user 62.9 ms, sys: 97.8 ms, total: 161 ms\n",
      "Wall time: 26.4 ms\n"
     ]
    },
    {
     "data": {
      "text/html": [
       "<div>\n",
       "<style scoped>\n",
       "    .dataframe tbody tr th:only-of-type {\n",
       "        vertical-align: middle;\n",
       "    }\n",
       "\n",
       "    .dataframe tbody tr th {\n",
       "        vertical-align: top;\n",
       "    }\n",
       "\n",
       "    .dataframe thead th {\n",
       "        text-align: right;\n",
       "    }\n",
       "</style>\n",
       "<table border=\"1\" class=\"dataframe\">\n",
       "  <thead>\n",
       "    <tr style=\"text-align: right;\">\n",
       "      <th></th>\n",
       "      <th>coeff</th>\n",
       "      <th>stderr</th>\n",
       "      <th>low95</th>\n",
       "      <th>high95</th>\n",
       "      <th>pvalue</th>\n",
       "    </tr>\n",
       "  </thead>\n",
       "  <tbody>\n",
       "    <tr>\n",
       "      <td>intercept</td>\n",
       "      <td>4.999040</td>\n",
       "      <td>0.003162</td>\n",
       "      <td>4.992842</td>\n",
       "      <td>5.005238</td>\n",
       "      <td>0.0</td>\n",
       "    </tr>\n",
       "    <tr>\n",
       "      <td>x1</td>\n",
       "      <td>3.003673</td>\n",
       "      <td>0.003167</td>\n",
       "      <td>2.997467</td>\n",
       "      <td>3.009880</td>\n",
       "      <td>0.0</td>\n",
       "    </tr>\n",
       "    <tr>\n",
       "      <td>x2</td>\n",
       "      <td>2.002892</td>\n",
       "      <td>0.003147</td>\n",
       "      <td>1.996724</td>\n",
       "      <td>2.009061</td>\n",
       "      <td>0.0</td>\n",
       "    </tr>\n",
       "  </tbody>\n",
       "</table>\n",
       "</div>"
      ],
      "text/plain": [
       "              coeff    stderr     low95    high95  pvalue\n",
       "intercept  4.999040  0.003162  4.992842  5.005238     0.0\n",
       "x1         3.003673  0.003167  2.997467  3.009880     0.0\n",
       "x2         2.002892  0.003147  1.996724  2.009061     0.0"
      ]
     },
     "execution_count": 7,
     "metadata": {},
     "output_type": "execute_result"
    }
   ],
   "source": [
    "%time frl.ols(y='y', x=['x1', 'x2'], data=df0)"
   ]
  },
  {
   "cell_type": "markdown",
   "metadata": {},
   "source": [
    "### Sparse OLS"
   ]
  },
  {
   "cell_type": "code",
   "execution_count": 8,
   "metadata": {},
   "outputs": [
    {
     "name": "stdout",
     "output_type": "stream",
     "text": [
      "CPU times: user 154 ms, sys: 34.9 ms, total: 189 ms\n",
      "Wall time: 147 ms\n"
     ]
    },
    {
     "data": {
      "text/html": [
       "<div>\n",
       "<style scoped>\n",
       "    .dataframe tbody tr th:only-of-type {\n",
       "        vertical-align: middle;\n",
       "    }\n",
       "\n",
       "    .dataframe tbody tr th {\n",
       "        vertical-align: top;\n",
       "    }\n",
       "\n",
       "    .dataframe thead th {\n",
       "        text-align: right;\n",
       "    }\n",
       "</style>\n",
       "<table border=\"1\" class=\"dataframe\">\n",
       "  <thead>\n",
       "    <tr style=\"text-align: right;\">\n",
       "      <th></th>\n",
       "      <th>coeff</th>\n",
       "      <th>stderr</th>\n",
       "      <th>low95</th>\n",
       "      <th>high95</th>\n",
       "      <th>pvalue</th>\n",
       "    </tr>\n",
       "  </thead>\n",
       "  <tbody>\n",
       "    <tr>\n",
       "      <td>intercept</td>\n",
       "      <td>5.071447</td>\n",
       "      <td>0.033083</td>\n",
       "      <td>5.006606</td>\n",
       "      <td>5.136288</td>\n",
       "      <td>0.000000e+00</td>\n",
       "    </tr>\n",
       "    <tr>\n",
       "      <td>x1</td>\n",
       "      <td>2.999681</td>\n",
       "      <td>0.003158</td>\n",
       "      <td>2.993491</td>\n",
       "      <td>3.005871</td>\n",
       "      <td>0.000000e+00</td>\n",
       "    </tr>\n",
       "    <tr>\n",
       "      <td>x2</td>\n",
       "      <td>2.003376</td>\n",
       "      <td>0.003152</td>\n",
       "      <td>1.997197</td>\n",
       "      <td>2.009554</td>\n",
       "      <td>0.000000e+00</td>\n",
       "    </tr>\n",
       "    <tr>\n",
       "      <td>id1=1</td>\n",
       "      <td>0.111488</td>\n",
       "      <td>0.014100</td>\n",
       "      <td>0.083852</td>\n",
       "      <td>0.139124</td>\n",
       "      <td>1.332268e-15</td>\n",
       "    </tr>\n",
       "    <tr>\n",
       "      <td>id1=2</td>\n",
       "      <td>0.198099</td>\n",
       "      <td>0.014054</td>\n",
       "      <td>0.170554</td>\n",
       "      <td>0.225644</td>\n",
       "      <td>0.000000e+00</td>\n",
       "    </tr>\n",
       "    <tr>\n",
       "      <td>...</td>\n",
       "      <td>...</td>\n",
       "      <td>...</td>\n",
       "      <td>...</td>\n",
       "      <td>...</td>\n",
       "      <td>...</td>\n",
       "    </tr>\n",
       "    <tr>\n",
       "      <td>id2=95</td>\n",
       "      <td>0.828769</td>\n",
       "      <td>0.045007</td>\n",
       "      <td>0.740558</td>\n",
       "      <td>0.916980</td>\n",
       "      <td>0.000000e+00</td>\n",
       "    </tr>\n",
       "    <tr>\n",
       "      <td>id2=96</td>\n",
       "      <td>0.899786</td>\n",
       "      <td>0.044927</td>\n",
       "      <td>0.811731</td>\n",
       "      <td>0.987840</td>\n",
       "      <td>0.000000e+00</td>\n",
       "    </tr>\n",
       "    <tr>\n",
       "      <td>id2=97</td>\n",
       "      <td>0.837485</td>\n",
       "      <td>0.044947</td>\n",
       "      <td>0.749390</td>\n",
       "      <td>0.925580</td>\n",
       "      <td>0.000000e+00</td>\n",
       "    </tr>\n",
       "    <tr>\n",
       "      <td>id2=98</td>\n",
       "      <td>0.920993</td>\n",
       "      <td>0.044565</td>\n",
       "      <td>0.833647</td>\n",
       "      <td>1.008340</td>\n",
       "      <td>0.000000e+00</td>\n",
       "    </tr>\n",
       "    <tr>\n",
       "      <td>id2=99</td>\n",
       "      <td>0.894090</td>\n",
       "      <td>0.045197</td>\n",
       "      <td>0.805506</td>\n",
       "      <td>0.982675</td>\n",
       "      <td>0.000000e+00</td>\n",
       "    </tr>\n",
       "  </tbody>\n",
       "</table>\n",
       "<p>111 rows × 5 columns</p>\n",
       "</div>"
      ],
      "text/plain": [
       "              coeff    stderr     low95    high95        pvalue\n",
       "intercept  5.071447  0.033083  5.006606  5.136288  0.000000e+00\n",
       "x1         2.999681  0.003158  2.993491  3.005871  0.000000e+00\n",
       "x2         2.003376  0.003152  1.997197  2.009554  0.000000e+00\n",
       "id1=1      0.111488  0.014100  0.083852  0.139124  1.332268e-15\n",
       "id1=2      0.198099  0.014054  0.170554  0.225644  0.000000e+00\n",
       "...             ...       ...       ...       ...           ...\n",
       "id2=95     0.828769  0.045007  0.740558  0.916980  0.000000e+00\n",
       "id2=96     0.899786  0.044927  0.811731  0.987840  0.000000e+00\n",
       "id2=97     0.837485  0.044947  0.749390  0.925580  0.000000e+00\n",
       "id2=98     0.920993  0.044565  0.833647  1.008340  0.000000e+00\n",
       "id2=99     0.894090  0.045197  0.805506  0.982675  0.000000e+00\n",
       "\n",
       "[111 rows x 5 columns]"
      ]
     },
     "execution_count": 8,
     "metadata": {},
     "output_type": "execute_result"
    }
   ],
   "source": [
    "%time frl.ols(y='y', x=['x1', 'x2'], fe=['id1', 'id2'], data=df)"
   ]
  },
  {
   "cell_type": "code",
   "execution_count": 9,
   "metadata": {},
   "outputs": [
    {
     "name": "stdout",
     "output_type": "stream",
     "text": [
      "CPU times: user 349 ms, sys: 184 ms, total: 532 ms\n",
      "Wall time: 181 ms\n"
     ]
    },
    {
     "data": {
      "text/html": [
       "<div>\n",
       "<style scoped>\n",
       "    .dataframe tbody tr th:only-of-type {\n",
       "        vertical-align: middle;\n",
       "    }\n",
       "\n",
       "    .dataframe tbody tr th {\n",
       "        vertical-align: top;\n",
       "    }\n",
       "\n",
       "    .dataframe thead th {\n",
       "        text-align: right;\n",
       "    }\n",
       "</style>\n",
       "<table border=\"1\" class=\"dataframe\">\n",
       "  <thead>\n",
       "    <tr style=\"text-align: right;\">\n",
       "      <th></th>\n",
       "      <th>coeff</th>\n",
       "      <th>stderr</th>\n",
       "      <th>low95</th>\n",
       "      <th>high95</th>\n",
       "      <th>pvalue</th>\n",
       "    </tr>\n",
       "  </thead>\n",
       "  <tbody>\n",
       "    <tr>\n",
       "      <td>intercept</td>\n",
       "      <td>4.999042</td>\n",
       "      <td>0.000008</td>\n",
       "      <td>4.999026</td>\n",
       "      <td>4.999058</td>\n",
       "      <td>0.0</td>\n",
       "    </tr>\n",
       "    <tr>\n",
       "      <td>x1</td>\n",
       "      <td>3.004465</td>\n",
       "      <td>0.003191</td>\n",
       "      <td>2.998211</td>\n",
       "      <td>3.010719</td>\n",
       "      <td>0.0</td>\n",
       "    </tr>\n",
       "    <tr>\n",
       "      <td>x2</td>\n",
       "      <td>2.002960</td>\n",
       "      <td>0.003301</td>\n",
       "      <td>1.996490</td>\n",
       "      <td>2.009429</td>\n",
       "      <td>0.0</td>\n",
       "    </tr>\n",
       "  </tbody>\n",
       "</table>\n",
       "</div>"
      ],
      "text/plain": [
       "              coeff    stderr     low95    high95  pvalue\n",
       "intercept  4.999042  0.000008  4.999026  4.999058     0.0\n",
       "x1         3.004465  0.003191  2.998211  3.010719     0.0\n",
       "x2         2.002960  0.003301  1.996490  2.009429     0.0"
      ]
     },
     "execution_count": 9,
     "metadata": {},
     "output_type": "execute_result"
    }
   ],
   "source": [
    "%time frl.ols(y='y', x=['x1', 'x2'], absorb=('id1', 'id2'), data=df0)"
   ]
  },
  {
   "cell_type": "markdown",
   "metadata": {},
   "source": [
    "### Poisson"
   ]
  },
  {
   "cell_type": "code",
   "execution_count": 10,
   "metadata": {},
   "outputs": [
    {
     "name": "stdout",
     "output_type": "stream",
     "text": [
      "  0: loss = 0.7862467169761658\n",
      "  1: loss = 0.73576819896698\n",
      "  2: loss = 0.73576819896698\n",
      "CPU times: user 4.94 s, sys: 461 ms, total: 5.4 s\n",
      "Wall time: 5.4 s\n"
     ]
    },
    {
     "data": {
      "text/html": [
       "<div>\n",
       "<style scoped>\n",
       "    .dataframe tbody tr th:only-of-type {\n",
       "        vertical-align: middle;\n",
       "    }\n",
       "\n",
       "    .dataframe tbody tr th {\n",
       "        vertical-align: top;\n",
       "    }\n",
       "\n",
       "    .dataframe thead th {\n",
       "        text-align: right;\n",
       "    }\n",
       "</style>\n",
       "<table border=\"1\" class=\"dataframe\">\n",
       "  <thead>\n",
       "    <tr style=\"text-align: right;\">\n",
       "      <th></th>\n",
       "      <th>coeff</th>\n",
       "      <th>stderr</th>\n",
       "      <th>low95</th>\n",
       "      <th>high95</th>\n",
       "      <th>pvalue</th>\n",
       "    </tr>\n",
       "  </thead>\n",
       "  <tbody>\n",
       "    <tr>\n",
       "      <td>intercept</td>\n",
       "      <td>-0.001892</td>\n",
       "      <td>0.003351</td>\n",
       "      <td>-0.008459</td>\n",
       "      <td>0.004676</td>\n",
       "      <td>0.286194</td>\n",
       "    </tr>\n",
       "    <tr>\n",
       "      <td>x1</td>\n",
       "      <td>0.598269</td>\n",
       "      <td>0.002841</td>\n",
       "      <td>0.592700</td>\n",
       "      <td>0.603838</td>\n",
       "      <td>0.000000</td>\n",
       "    </tr>\n",
       "    <tr>\n",
       "      <td>x2</td>\n",
       "      <td>0.218071</td>\n",
       "      <td>0.002817</td>\n",
       "      <td>0.212549</td>\n",
       "      <td>0.223593</td>\n",
       "      <td>0.000000</td>\n",
       "    </tr>\n",
       "  </tbody>\n",
       "</table>\n",
       "</div>"
      ],
      "text/plain": [
       "              coeff    stderr     low95    high95    pvalue\n",
       "intercept -0.001892  0.003351 -0.008459  0.004676  0.286194\n",
       "x1         0.598269  0.002841  0.592700  0.603838  0.000000\n",
       "x2         0.218071  0.002817  0.212549  0.223593  0.000000"
      ]
     },
     "execution_count": 10,
     "metadata": {},
     "output_type": "execute_result"
    }
   ],
   "source": [
    "%time frg.poisson(y='p', x=['x1', 'x2'], data=df0, device='cuda', output='table')"
   ]
  },
  {
   "cell_type": "code",
   "execution_count": 14,
   "metadata": {},
   "outputs": [
    {
     "name": "stdout",
     "output_type": "stream",
     "text": [
      "  0: loss = 0.522212564945221\n",
      "  1: loss = 0.5146617889404297\n",
      "  2: loss = 0.514546275138855\n",
      "CPU times: user 53.8 s, sys: 2.29 s, total: 56.1 s\n",
      "Wall time: 54.6 s\n"
     ]
    }
   ],
   "source": [
    "%time table, beta, sigma = frg.poisson(y='p', x=['x1', 'x2'], fe=['id1', 'id2'], data=df, device='cuda')"
   ]
  },
  {
   "cell_type": "code",
   "execution_count": 15,
   "metadata": {},
   "outputs": [],
   "source": [
    "coeff = table['coeff'].filter(regex='id2').rename('beta1').rename_axis('id2').reset_index()\n",
    "coeff['id2'] = coeff['id2'].apply(lambda s: s[4:]).astype(np.int)\n",
    "coeff['beta0'] = 0.5*coeff['id2']/100\n",
    "coeff['beta1'] += table.loc['intercept', 'coeff']"
   ]
  },
  {
   "cell_type": "code",
   "execution_count": 16,
   "metadata": {},
   "outputs": [
    {
     "data": {
      "image/png": "[encoded data removed]",
      "text/plain": [
       "<Figure size 432x360 with 1 Axes>"
      ]
     },
     "metadata": {
      "needs_background": "light"
     },
     "output_type": "display_data"
    }
   ],
   "source": [
    "bmax = 0.5*K2/100\n",
    "beta = np.linspace(0, bmax, 1000)\n",
    "fig, ax = plt.subplots(figsize=(6, 5))\n",
    "coeff.plot.scatter(x='beta0', y='beta1', ax=ax, alpha=0.5);\n",
    "ax.plot(beta, beta, c='r', linewidth=1, zorder=1);"
   ]
  },
  {
   "cell_type": "markdown",
   "metadata": {},
   "source": [
    "### Jax"
   ]
  },
  {
   "cell_type": "code",
   "execution_count": 72,
   "metadata": {},
   "outputs": [
    {
     "name": "stdout",
     "output_type": "stream",
     "text": [
      "  0: loss = 0.522121012210846\n",
      "  1: loss = 0.5160313844680786\n",
      "  2: loss = 0.5159358978271484\n",
      "CPU times: user 4.12 s, sys: 774 ms, total: 4.89 s\n",
      "Wall time: 3.44 s\n"
     ]
    }
   ],
   "source": [
    "%time table = frx.poisson(y='p', x=['x1', 'x2'], fe=['id1', 'id2'], data=df)"
   ]
  },
  {
   "cell_type": "code",
   "execution_count": 73,
   "metadata": {},
   "outputs": [],
   "source": [
    "coeff = table['coeff'].filter(regex='id2').rename('beta1').rename_axis('id2').reset_index()\n",
    "coeff['id2'] = coeff['id2'].apply(lambda s: s[4:]).astype(np.int)\n",
    "coeff['beta0'] = 0.5*coeff['id2']/100\n",
    "coeff['beta1'] += table.loc['intercept', 'coeff']"
   ]
  },
  {
   "cell_type": "code",
   "execution_count": 74,
   "metadata": {},
   "outputs": [
    {
     "data": {
      "image/png": "[encoded data removed]",
      "text/plain": [
       "<Figure size 432x360 with 1 Axes>"
      ]
     },
     "metadata": {
      "needs_background": "light"
     },
     "output_type": "display_data"
    }
   ],
   "source": [
    "bmax = 0.5*K2/100\n",
    "beta = np.linspace(0, bmax, 1000)\n",
    "fig, ax = plt.subplots(figsize=(6, 5))\n",
    "coeff.plot.scatter(x='beta0', y='beta1', ax=ax, alpha=0.5);\n",
    "ax.plot(beta, beta, c='r', linewidth=1, zorder=1);"
   ]
  },
  {
   "cell_type": "code",
   "execution_count": null,
   "metadata": {},
   "outputs": [],
   "source": []
  }
 ],
 "metadata": {
  "kernelspec": {
   "display_name": "Python 3.7",
   "language": "python",
   "name": "python3.7"
  },
  "language_info": {
   "codemirror_mode": {
    "name": "ipython",
    "version": 3
   },
   "file_extension": ".py",
   "mimetype": "text/x-python",
   "name": "python",
   "nbconvert_exporter": "python",
   "pygments_lexer": "ipython3",
   "version": "3.7.4"
  }
 },
 "nbformat": 4,
 "nbformat_minor": 4
}
