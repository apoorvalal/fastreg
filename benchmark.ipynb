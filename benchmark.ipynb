{
 "cells": [
  {
   "cell_type": "code",
   "execution_count": 8,
   "metadata": {},
   "outputs": [],
   "source": [
    "import statsmodels.formula.api as smf\n",
    "import fastreg as fr\n",
    "from fastreg import I, R, C, C0\n",
    "import pyfixest as pf"
   ]
  },
  {
   "cell_type": "markdown",
   "metadata": {
    "tags": []
   },
   "source": [
    "### Generate Data"
   ]
  },
  {
   "cell_type": "code",
   "execution_count": 9,
   "metadata": {},
   "outputs": [
    {
     "data": {
      "text/html": [
       "<div>\n",
       "<style scoped>\n",
       "    .dataframe tbody tr th:only-of-type {\n",
       "        vertical-align: middle;\n",
       "    }\n",
       "\n",
       "    .dataframe tbody tr th {\n",
       "        vertical-align: top;\n",
       "    }\n",
       "\n",
       "    .dataframe thead th {\n",
       "        text-align: right;\n",
       "    }\n",
       "</style>\n",
       "<table border=\"1\" class=\"dataframe\">\n",
       "  <thead>\n",
       "    <tr style=\"text-align: right;\">\n",
       "      <th></th>\n",
       "      <th>x1</th>\n",
       "      <th>x2</th>\n",
       "      <th>yhat0</th>\n",
       "      <th>yhat</th>\n",
       "      <th>id1</th>\n",
       "      <th>id2</th>\n",
       "      <th>y0</th>\n",
       "      <th>y</th>\n",
       "      <th>Eb0</th>\n",
       "      <th>Eb</th>\n",
       "      <th>b0</th>\n",
       "      <th>b</th>\n",
       "      <th>Ep0</th>\n",
       "      <th>Ep</th>\n",
       "      <th>p0</th>\n",
       "      <th>p</th>\n",
       "      <th>nb0</th>\n",
       "      <th>nb</th>\n",
       "    </tr>\n",
       "  </thead>\n",
       "  <tbody>\n",
       "    <tr>\n",
       "      <th>0</th>\n",
       "      <td>-1.429225</td>\n",
       "      <td>1.830295</td>\n",
       "      <td>0.769410</td>\n",
       "      <td>2.149410</td>\n",
       "      <td>H</td>\n",
       "      <td>68</td>\n",
       "      <td>1.791671</td>\n",
       "      <td>1.585510</td>\n",
       "      <td>0.683393</td>\n",
       "      <td>0.895614</td>\n",
       "      <td>1</td>\n",
       "      <td>1</td>\n",
       "      <td>2.158492</td>\n",
       "      <td>8.579792</td>\n",
       "      <td>4</td>\n",
       "      <td>10</td>\n",
       "      <td>1</td>\n",
       "      <td>5</td>\n",
       "    </tr>\n",
       "    <tr>\n",
       "      <th>1</th>\n",
       "      <td>0.687153</td>\n",
       "      <td>0.795373</td>\n",
       "      <td>0.783369</td>\n",
       "      <td>1.403369</td>\n",
       "      <td>C</td>\n",
       "      <td>42</td>\n",
       "      <td>0.295552</td>\n",
       "      <td>3.163529</td>\n",
       "      <td>0.686406</td>\n",
       "      <td>0.802718</td>\n",
       "      <td>1</td>\n",
       "      <td>1</td>\n",
       "      <td>2.188835</td>\n",
       "      <td>4.068886</td>\n",
       "      <td>1</td>\n",
       "      <td>2</td>\n",
       "      <td>1</td>\n",
       "      <td>0</td>\n",
       "    </tr>\n",
       "    <tr>\n",
       "      <th>2</th>\n",
       "      <td>0.764353</td>\n",
       "      <td>-1.060225</td>\n",
       "      <td>-0.306829</td>\n",
       "      <td>-0.036829</td>\n",
       "      <td>C</td>\n",
       "      <td>7</td>\n",
       "      <td>0.381637</td>\n",
       "      <td>-0.639362</td>\n",
       "      <td>0.423889</td>\n",
       "      <td>0.490794</td>\n",
       "      <td>1</td>\n",
       "      <td>1</td>\n",
       "      <td>0.735777</td>\n",
       "      <td>0.963841</td>\n",
       "      <td>0</td>\n",
       "      <td>1</td>\n",
       "      <td>2</td>\n",
       "      <td>0</td>\n",
       "    </tr>\n",
       "    <tr>\n",
       "      <th>3</th>\n",
       "      <td>-0.309887</td>\n",
       "      <td>-0.777701</td>\n",
       "      <td>-0.459587</td>\n",
       "      <td>0.800413</td>\n",
       "      <td>D</td>\n",
       "      <td>96</td>\n",
       "      <td>0.143218</td>\n",
       "      <td>1.139854</td>\n",
       "      <td>0.387084</td>\n",
       "      <td>0.690063</td>\n",
       "      <td>0</td>\n",
       "      <td>1</td>\n",
       "      <td>0.631545</td>\n",
       "      <td>2.226461</td>\n",
       "      <td>0</td>\n",
       "      <td>0</td>\n",
       "      <td>1</td>\n",
       "      <td>3</td>\n",
       "    </tr>\n",
       "    <tr>\n",
       "      <th>4</th>\n",
       "      <td>-0.616042</td>\n",
       "      <td>-0.752266</td>\n",
       "      <td>-0.536172</td>\n",
       "      <td>0.623828</td>\n",
       "      <td>H</td>\n",
       "      <td>46</td>\n",
       "      <td>-0.468395</td>\n",
       "      <td>1.462211</td>\n",
       "      <td>0.369078</td>\n",
       "      <td>0.651089</td>\n",
       "      <td>1</td>\n",
       "      <td>1</td>\n",
       "      <td>0.584983</td>\n",
       "      <td>1.866057</td>\n",
       "      <td>0</td>\n",
       "      <td>1</td>\n",
       "      <td>1</td>\n",
       "      <td>7</td>\n",
       "    </tr>\n",
       "  </tbody>\n",
       "</table>\n",
       "</div>"
      ],
      "text/plain": [
       "         x1        x2     yhat0      yhat id1  id2        y0         y  \\\n",
       "0 -1.429225  1.830295  0.769410  2.149410   H   68  1.791671  1.585510   \n",
       "1  0.687153  0.795373  0.783369  1.403369   C   42  0.295552  3.163529   \n",
       "2  0.764353 -1.060225 -0.306829 -0.036829   C    7  0.381637 -0.639362   \n",
       "3 -0.309887 -0.777701 -0.459587  0.800413   D   96  0.143218  1.139854   \n",
       "4 -0.616042 -0.752266 -0.536172  0.623828   H   46 -0.468395  1.462211   \n",
       "\n",
       "        Eb0        Eb  b0  b       Ep0        Ep  p0   p  nb0  nb  \n",
       "0  0.683393  0.895614   1  1  2.158492  8.579792   4  10    1   5  \n",
       "1  0.686406  0.802718   1  1  2.188835  4.068886   1   2    1   0  \n",
       "2  0.423889  0.490794   1  1  0.735777  0.963841   0   1    2   0  \n",
       "3  0.387084  0.690063   0  1  0.631545  2.226461   0   0    1   3  \n",
       "4  0.369078  0.651089   1  1  0.584983  1.866057   0   1    1   7  "
      ]
     },
     "execution_count": 9,
     "metadata": {},
     "output_type": "execute_result"
    }
   ],
   "source": [
    "models = [\"linear\", \"poisson\", \"logit\", \"negbin\"]\n",
    "data = fr.dataset(N=1_000_000, K1=10, K2=100, models=models, seed=89320432)\n",
    "data_wide = fr.dataset(N=1_000_000, K1=10, K2=10_000, models=models, seed=89320433)\n",
    "data.head()"
   ]
  },
  {
   "cell_type": "code",
   "execution_count": 10,
   "metadata": {
    "tags": []
   },
   "outputs": [],
   "source": [
    "# for statsmodels runs\n",
    "data1 = data.copy()\n",
    "data1['id2'] = data1['id2'].astype(str)"
   ]
  },
  {
   "cell_type": "markdown",
   "metadata": {},
   "source": [
    "### Normal OLS"
   ]
  },
  {
   "cell_type": "code",
   "execution_count": 11,
   "metadata": {},
   "outputs": [
    {
     "name": "stdout",
     "output_type": "stream",
     "text": [
      "78.8 ms ± 8.34 ms per loop (mean ± std. dev. of 7 runs, 10 loops each)\n"
     ]
    }
   ],
   "source": [
    "%timeit fr.ols(y=R.y0, x=I+R.x1+R.x2, data=data)"
   ]
  },
  {
   "cell_type": "code",
   "execution_count": 12,
   "metadata": {},
   "outputs": [
    {
     "name": "stdout",
     "output_type": "stream",
     "text": [
      "70.9 ms ± 9 ms per loop (mean ± std. dev. of 7 runs, 10 loops each)\n"
     ]
    }
   ],
   "source": [
    "%timeit fr.ols(formula=\"y ~ 1 + x1 + x2\", data=data)"
   ]
  },
  {
   "cell_type": "code",
   "execution_count": 13,
   "metadata": {},
   "outputs": [
    {
     "name": "stdout",
     "output_type": "stream",
     "text": [
      "219 ms ± 13 ms per loop (mean ± std. dev. of 7 runs, 1 loop each)\n"
     ]
    }
   ],
   "source": [
    "%timeit smf.ols('y0 ~ 1 + x1 + x2', data=data).fit().params"
   ]
  },
  {
   "cell_type": "code",
   "execution_count": 14,
   "metadata": {},
   "outputs": [
    {
     "name": "stdout",
     "output_type": "stream",
     "text": [
      "177 ms ± 6.23 ms per loop (mean ± std. dev. of 7 runs, 10 loops each)\n"
     ]
    }
   ],
   "source": [
    "%timeit pf.feols('y0 ~ 1 + x1 + x2', data=data).tidy()"
   ]
  },
  {
   "cell_type": "markdown",
   "metadata": {},
   "source": [
    "### FE"
   ]
  },
  {
   "cell_type": "code",
   "execution_count": 15,
   "metadata": {},
   "outputs": [
    {
     "name": "stdout",
     "output_type": "stream",
     "text": [
      "472 ms ± 7.51 ms per loop (mean ± std. dev. of 7 runs, 1 loop each)\n"
     ]
    }
   ],
   "source": [
    "%timeit fr.ols(y=R.y, x=I+R.x1+R.x2+C.id1+C.id2, data=data)"
   ]
  },
  {
   "cell_type": "code",
   "execution_count": 16,
   "metadata": {},
   "outputs": [
    {
     "name": "stdout",
     "output_type": "stream",
     "text": [
      "CPU times: user 2min 33s, sys: 1.48 s, total: 2min 34s\n",
      "Wall time: 17.9 s\n"
     ]
    },
    {
     "data": {
      "text/plain": [
       "Intercept    0.112463\n",
       "id1[T.B]     0.104734\n",
       "id1[T.C]     0.201965\n",
       "id1[T.D]     0.300212\n",
       "id1[T.E]     0.403094\n",
       "               ...   \n",
       "id2[T.97]    0.960951\n",
       "id2[T.98]    0.993398\n",
       "id2[T.99]    0.988670\n",
       "x1           0.299557\n",
       "x2           0.601840\n",
       "Length: 111, dtype: float64"
      ]
     },
     "execution_count": 16,
     "metadata": {},
     "output_type": "execute_result"
    }
   ],
   "source": [
    "%time smf.ols('y ~ 1 + x1 + x2 + id1 + id2', data=data1).fit().params"
   ]
  },
  {
   "cell_type": "code",
   "execution_count": 17,
   "metadata": {},
   "outputs": [
    {
     "name": "stdout",
     "output_type": "stream",
     "text": [
      "360 ms ± 22.3 ms per loop (mean ± std. dev. of 7 runs, 1 loop each)\n"
     ]
    }
   ],
   "source": [
    "%timeit pf.feols('y ~ 1 + x1 + x2 | id1 + id2', data=data1).tidy()"
   ]
  },
  {
   "cell_type": "markdown",
   "metadata": {},
   "source": [
    "### High Dimensional"
   ]
  },
  {
   "cell_type": "code",
   "execution_count": 18,
   "metadata": {},
   "outputs": [
    {
     "name": "stdout",
     "output_type": "stream",
     "text": [
      "7.36 s ± 286 ms per loop (mean ± std. dev. of 7 runs, 1 loop each)\n"
     ]
    }
   ],
   "source": [
    "%timeit fr.ols(y=R.y, x=I+R.x1+R.x2+C.id1+C.id2, data=data_wide)"
   ]
  },
  {
   "cell_type": "code",
   "execution_count": 19,
   "metadata": {},
   "outputs": [
    {
     "name": "stdout",
     "output_type": "stream",
     "text": [
      "577 ms ± 18.8 ms per loop (mean ± std. dev. of 7 runs, 1 loop each)\n"
     ]
    }
   ],
   "source": [
    "%timeit fr.ols(y=R.y, x=I+R.x1+R.x2+C.id1, hdfe=C.id2, data=data_wide)"
   ]
  },
  {
   "cell_type": "code",
   "execution_count": 20,
   "metadata": {},
   "outputs": [
    {
     "name": "stdout",
     "output_type": "stream",
     "text": [
      "573 ms ± 30.5 ms per loop (mean ± std. dev. of 7 runs, 1 loop each)\n"
     ]
    }
   ],
   "source": [
    "%timeit fr.ols(y=R.y, x=I+R.x1+R.x2+C.id1, absorb=C.id2, data=data_wide)"
   ]
  },
  {
   "cell_type": "code",
   "execution_count": 21,
   "metadata": {},
   "outputs": [
    {
     "name": "stdout",
     "output_type": "stream",
     "text": [
      "334 ms ± 8.51 ms per loop (mean ± std. dev. of 7 runs, 1 loop each)\n"
     ]
    }
   ],
   "source": [
    "%timeit pf.feols(\"y ~ x1+x2+|id1+id2\", data=data_wide)"
   ]
  },
  {
   "cell_type": "markdown",
   "metadata": {},
   "source": [
    "### Poisson"
   ]
  },
  {
   "cell_type": "code",
   "execution_count": 22,
   "metadata": {},
   "outputs": [
    {
     "name": "stdout",
     "output_type": "stream",
     "text": [
      "[  0] ℓ=-0.68399, g=0.13162, Δβ=0.66523, Δℓ=inf, μR=0.31340, μC=nan\n",
      "[ 33] ℓ=-0.62209, g=0.00027, Δβ=0.00008, Δℓ=0.00001, μR=0.33167, μC=nan\n",
      "[  0] ℓ=-0.68399, g=0.13162, Δβ=0.66523, Δℓ=inf, μR=0.31340, μC=nan\n",
      "[ 33] ℓ=-0.62209, g=0.00027, Δβ=0.00008, Δℓ=0.00001, μR=0.33167, μC=nan\n",
      "[  0] ℓ=-0.68399, g=0.13162, Δβ=0.66523, Δℓ=inf, μR=0.31340, μC=nan\n",
      "[ 33] ℓ=-0.62209, g=0.00027, Δβ=0.00008, Δℓ=0.00001, μR=0.33167, μC=nan\n",
      "[  0] ℓ=-0.68399, g=0.13162, Δβ=0.66523, Δℓ=inf, μR=0.31340, μC=nan\n",
      "[ 33] ℓ=-0.62209, g=0.00027, Δβ=0.00008, Δℓ=0.00001, μR=0.33167, μC=nan\n",
      "[  0] ℓ=-0.68399, g=0.13162, Δβ=0.66523, Δℓ=inf, μR=0.31340, μC=nan\n",
      "[ 33] ℓ=-0.62209, g=0.00027, Δβ=0.00008, Δℓ=0.00001, μR=0.33167, μC=nan\n",
      "[  0] ℓ=-0.68399, g=0.13162, Δβ=0.66523, Δℓ=inf, μR=0.31340, μC=nan\n",
      "[ 33] ℓ=-0.62209, g=0.00027, Δβ=0.00008, Δℓ=0.00001, μR=0.33167, μC=nan\n",
      "[  0] ℓ=-0.68399, g=0.13162, Δβ=0.66523, Δℓ=inf, μR=0.31340, μC=nan\n",
      "[ 33] ℓ=-0.62209, g=0.00027, Δβ=0.00008, Δℓ=0.00001, μR=0.33167, μC=nan\n",
      "[  0] ℓ=-0.68399, g=0.13162, Δβ=0.66523, Δℓ=inf, μR=0.31340, μC=nan\n",
      "[ 33] ℓ=-0.62209, g=0.00027, Δβ=0.00008, Δℓ=0.00001, μR=0.33167, μC=nan\n",
      "842 ms ± 89 ms per loop (mean ± std. dev. of 7 runs, 1 loop each)\n"
     ]
    }
   ],
   "source": [
    "%timeit fr.poisson(y=R.p0, x=I+R.x1+R.x2, data=data)"
   ]
  },
  {
   "cell_type": "code",
   "execution_count": 23,
   "metadata": {},
   "outputs": [
    {
     "name": "stdout",
     "output_type": "stream",
     "text": [
      "369 ms ± 19.8 ms per loop (mean ± std. dev. of 7 runs, 1 loop each)\n"
     ]
    }
   ],
   "source": [
    "%timeit pf.fepois(\"p0~x1+x2\", data=data)"
   ]
  },
  {
   "cell_type": "code",
   "execution_count": 24,
   "metadata": {},
   "outputs": [
    {
     "name": "stdout",
     "output_type": "stream",
     "text": [
      "[  0] ℓ=1.92001, g=0.38432, Δβ=0.86658, Δℓ=inf, μR=0.38083, μC=0.28934\n",
      "[ 40] ℓ=2.55362, g=0.00012, Δβ=0.00296, Δℓ=0.00001, μR=0.33893, μC=0.49163\n",
      "[ 80] ℓ=2.55413, g=0.00017, Δβ=0.00008, Δℓ=0.00000, μR=0.33422, μC=0.49604\n",
      "[ 80] ℓ=2.55413, g=0.00017, Δβ=0.00008, Δℓ=0.00000, μR=0.33422, μC=0.49604\n",
      "[  0] ℓ=1.92001, g=0.38432, Δβ=0.86658, Δℓ=inf, μR=0.38083, μC=0.28934\n",
      "[ 40] ℓ=2.55362, g=0.00012, Δβ=0.00296, Δℓ=0.00001, μR=0.33893, μC=0.49163\n",
      "[ 80] ℓ=2.55413, g=0.00017, Δβ=0.00008, Δℓ=0.00000, μR=0.33422, μC=0.49604\n",
      "[ 80] ℓ=2.55413, g=0.00017, Δβ=0.00008, Δℓ=0.00000, μR=0.33422, μC=0.49604\n",
      "[  0] ℓ=1.92001, g=0.38432, Δβ=0.86658, Δℓ=inf, μR=0.38083, μC=0.28934\n",
      "[ 40] ℓ=2.55362, g=0.00012, Δβ=0.00296, Δℓ=0.00001, μR=0.33893, μC=0.49163\n",
      "[ 80] ℓ=2.55413, g=0.00017, Δβ=0.00008, Δℓ=0.00000, μR=0.33422, μC=0.49604\n",
      "[ 80] ℓ=2.55413, g=0.00017, Δβ=0.00008, Δℓ=0.00000, μR=0.33422, μC=0.49604\n",
      "[  0] ℓ=1.92001, g=0.38432, Δβ=0.86658, Δℓ=inf, μR=0.38083, μC=0.28934\n",
      "[ 40] ℓ=2.55362, g=0.00012, Δβ=0.00296, Δℓ=0.00001, μR=0.33893, μC=0.49163\n",
      "[ 80] ℓ=2.55413, g=0.00017, Δβ=0.00008, Δℓ=0.00000, μR=0.33422, μC=0.49604\n",
      "[ 80] ℓ=2.55413, g=0.00017, Δβ=0.00008, Δℓ=0.00000, μR=0.33422, μC=0.49604\n",
      "[  0] ℓ=1.92001, g=0.38432, Δβ=0.86658, Δℓ=inf, μR=0.38083, μC=0.28934\n",
      "[ 40] ℓ=2.55362, g=0.00012, Δβ=0.00296, Δℓ=0.00001, μR=0.33893, μC=0.49163\n",
      "[ 80] ℓ=2.55413, g=0.00017, Δβ=0.00008, Δℓ=0.00000, μR=0.33422, μC=0.49604\n",
      "[ 80] ℓ=2.55413, g=0.00017, Δβ=0.00008, Δℓ=0.00000, μR=0.33422, μC=0.49604\n",
      "[  0] ℓ=1.92001, g=0.38432, Δβ=0.86658, Δℓ=inf, μR=0.38083, μC=0.28934\n",
      "[ 40] ℓ=2.55362, g=0.00012, Δβ=0.00296, Δℓ=0.00001, μR=0.33893, μC=0.49163\n",
      "[ 80] ℓ=2.55413, g=0.00017, Δβ=0.00008, Δℓ=0.00000, μR=0.33422, μC=0.49604\n",
      "[ 80] ℓ=2.55413, g=0.00017, Δβ=0.00008, Δℓ=0.00000, μR=0.33422, μC=0.49604\n",
      "[  0] ℓ=1.92001, g=0.38432, Δβ=0.86658, Δℓ=inf, μR=0.38083, μC=0.28934\n",
      "[ 40] ℓ=2.55362, g=0.00012, Δβ=0.00296, Δℓ=0.00001, μR=0.33893, μC=0.49163\n",
      "[ 80] ℓ=2.55413, g=0.00017, Δβ=0.00008, Δℓ=0.00000, μR=0.33422, μC=0.49604\n",
      "[ 80] ℓ=2.55413, g=0.00017, Δβ=0.00008, Δℓ=0.00000, μR=0.33422, μC=0.49604\n",
      "[  0] ℓ=1.92001, g=0.38432, Δβ=0.86658, Δℓ=inf, μR=0.38083, μC=0.28934\n",
      "[ 40] ℓ=2.55362, g=0.00012, Δβ=0.00296, Δℓ=0.00001, μR=0.33893, μC=0.49163\n",
      "[ 80] ℓ=2.55413, g=0.00017, Δβ=0.00008, Δℓ=0.00000, μR=0.33422, μC=0.49604\n",
      "[ 80] ℓ=2.55413, g=0.00017, Δβ=0.00008, Δℓ=0.00000, μR=0.33422, μC=0.49604\n",
      "4.31 s ± 129 ms per loop (mean ± std. dev. of 7 runs, 1 loop each)\n"
     ]
    }
   ],
   "source": [
    "%timeit fr.poisson(y=R.p, x=I+R.x1+R.x2+C.id1+C.id2, data=data)"
   ]
  },
  {
   "cell_type": "code",
   "execution_count": 25,
   "metadata": {},
   "outputs": [
    {
     "name": "stdout",
     "output_type": "stream",
     "text": [
      "972 ms ± 44.4 ms per loop (mean ± std. dev. of 7 runs, 1 loop each)\n"
     ]
    }
   ],
   "source": [
    "%timeit pf.fepois(\"p0~x1+x2 | id1 + id2\", data=data)"
   ]
  },
  {
   "cell_type": "markdown",
   "metadata": {},
   "source": [
    "### Logit"
   ]
  },
  {
   "cell_type": "code",
   "execution_count": 26,
   "metadata": {},
   "outputs": [
    {
     "name": "stdout",
     "output_type": "stream",
     "text": [
      "[  0] ℓ=-0.65125, g=0.01879, Δβ=0.70222, Δℓ=inf, μR=0.35374, μC=nan\n",
      "[ 40] ℓ=-0.64337, g=0.00007, Δβ=0.00025, Δℓ=0.00000, μR=0.33216, μC=nan\n",
      "[ 77] ℓ=-0.64335, g=0.00002, Δβ=0.00010, Δℓ=0.00000, μR=0.33383, μC=nan\n",
      "CPU times: user 3.14 s, sys: 386 ms, total: 3.53 s\n",
      "Wall time: 2.39 s\n"
     ]
    },
    {
     "data": {
      "text/html": [
       "<div>\n",
       "<style scoped>\n",
       "    .dataframe tbody tr th:only-of-type {\n",
       "        vertical-align: middle;\n",
       "    }\n",
       "\n",
       "    .dataframe tbody tr th {\n",
       "        vertical-align: top;\n",
       "    }\n",
       "\n",
       "    .dataframe thead th {\n",
       "        text-align: right;\n",
       "    }\n",
       "</style>\n",
       "<table border=\"1\" class=\"dataframe\">\n",
       "  <thead>\n",
       "    <tr style=\"text-align: right;\">\n",
       "      <th>b0</th>\n",
       "      <th>coeff</th>\n",
       "      <th>stderr</th>\n",
       "      <th>low95</th>\n",
       "      <th>high95</th>\n",
       "      <th>pvalue</th>\n",
       "    </tr>\n",
       "  </thead>\n",
       "  <tbody>\n",
       "    <tr>\n",
       "      <th>I</th>\n",
       "      <td>0.099628</td>\n",
       "      <td>0.002122</td>\n",
       "      <td>0.095470</td>\n",
       "      <td>0.103786</td>\n",
       "      <td>0.0</td>\n",
       "    </tr>\n",
       "    <tr>\n",
       "      <th>x1</th>\n",
       "      <td>0.300412</td>\n",
       "      <td>0.002164</td>\n",
       "      <td>0.296170</td>\n",
       "      <td>0.304653</td>\n",
       "      <td>0.0</td>\n",
       "    </tr>\n",
       "    <tr>\n",
       "      <th>x2</th>\n",
       "      <td>0.601440</td>\n",
       "      <td>0.002289</td>\n",
       "      <td>0.596955</td>\n",
       "      <td>0.605926</td>\n",
       "      <td>0.0</td>\n",
       "    </tr>\n",
       "  </tbody>\n",
       "</table>\n",
       "</div>"
      ],
      "text/plain": [
       "b0     coeff    stderr     low95    high95  pvalue\n",
       "I   0.099628  0.002122  0.095470  0.103786     0.0\n",
       "x1  0.300412  0.002164  0.296170  0.304653     0.0\n",
       "x2  0.601440  0.002289  0.596955  0.605926     0.0"
      ]
     },
     "execution_count": 26,
     "metadata": {},
     "output_type": "execute_result"
    }
   ],
   "source": [
    "%time fr.logit(y=R.b0, x=I+R.x1+R.x2, data=data)"
   ]
  },
  {
   "cell_type": "code",
   "execution_count": 27,
   "metadata": {},
   "outputs": [
    {
     "name": "stdout",
     "output_type": "stream",
     "text": [
      "Optimization terminated successfully.\n",
      "         Current function value: 0.643356\n",
      "         Iterations 5\n",
      "CPU times: user 5.93 s, sys: 0 ns, total: 5.93 s\n",
      "Wall time: 515 ms\n"
     ]
    },
    {
     "data": {
      "text/plain": [
       "<statsmodels.discrete.discrete_model.BinaryResultsWrapper at 0x776a7c9a1ff0>"
      ]
     },
     "execution_count": 27,
     "metadata": {},
     "output_type": "execute_result"
    }
   ],
   "source": [
    "%time smf.logit(\"b0 ~ x1+x2\", data=data).fit()"
   ]
  },
  {
   "cell_type": "code",
   "execution_count": 28,
   "metadata": {},
   "outputs": [
    {
     "name": "stdout",
     "output_type": "stream",
     "text": [
      "[  0] ℓ=-0.56622, g=0.01452, Δβ=0.85833, Δℓ=inf, μR=0.46914, μC=0.33293\n",
      "[ 40] ℓ=-0.54376, g=0.00005, Δβ=0.00182, Δℓ=0.00001, μR=0.36023, μC=0.45872\n",
      "[ 80] ℓ=-0.54364, g=0.00005, Δβ=0.00016, Δℓ=0.00000, μR=0.35534, μC=0.46596\n",
      "[ 91] ℓ=-0.54364, g=0.00005, Δβ=0.00010, Δℓ=0.00000, μR=0.35496, μC=0.46652\n",
      "CPU times: user 9.74 s, sys: 554 ms, total: 10.3 s\n",
      "Wall time: 5.2 s\n"
     ]
    },
    {
     "data": {
      "text/html": [
       "<div>\n",
       "<style scoped>\n",
       "    .dataframe tbody tr th:only-of-type {\n",
       "        vertical-align: middle;\n",
       "    }\n",
       "\n",
       "    .dataframe tbody tr th {\n",
       "        vertical-align: top;\n",
       "    }\n",
       "\n",
       "    .dataframe thead th {\n",
       "        text-align: right;\n",
       "    }\n",
       "</style>\n",
       "<table border=\"1\" class=\"dataframe\">\n",
       "  <thead>\n",
       "    <tr style=\"text-align: right;\">\n",
       "      <th>b</th>\n",
       "      <th>coeff</th>\n",
       "      <th>stderr</th>\n",
       "      <th>low95</th>\n",
       "      <th>high95</th>\n",
       "      <th>pvalue</th>\n",
       "    </tr>\n",
       "  </thead>\n",
       "  <tbody>\n",
       "    <tr>\n",
       "      <th>I</th>\n",
       "      <td>0.164323</td>\n",
       "      <td>0.023043</td>\n",
       "      <td>0.119159</td>\n",
       "      <td>0.209486</td>\n",
       "      <td>9.952039e-13</td>\n",
       "    </tr>\n",
       "    <tr>\n",
       "      <th>x1</th>\n",
       "      <td>0.302117</td>\n",
       "      <td>0.002402</td>\n",
       "      <td>0.297410</td>\n",
       "      <td>0.306824</td>\n",
       "      <td>0.000000e+00</td>\n",
       "    </tr>\n",
       "    <tr>\n",
       "      <th>x2</th>\n",
       "      <td>0.598452</td>\n",
       "      <td>0.002529</td>\n",
       "      <td>0.593495</td>\n",
       "      <td>0.603410</td>\n",
       "      <td>0.000000e+00</td>\n",
       "    </tr>\n",
       "    <tr>\n",
       "      <th>id1=B</th>\n",
       "      <td>0.103403</td>\n",
       "      <td>0.009919</td>\n",
       "      <td>0.083962</td>\n",
       "      <td>0.122844</td>\n",
       "      <td>0.000000e+00</td>\n",
       "    </tr>\n",
       "    <tr>\n",
       "      <th>id1=C</th>\n",
       "      <td>0.208463</td>\n",
       "      <td>0.009994</td>\n",
       "      <td>0.188876</td>\n",
       "      <td>0.228050</td>\n",
       "      <td>0.000000e+00</td>\n",
       "    </tr>\n",
       "    <tr>\n",
       "      <th>...</th>\n",
       "      <td>...</td>\n",
       "      <td>...</td>\n",
       "      <td>...</td>\n",
       "      <td>...</td>\n",
       "      <td>...</td>\n",
       "    </tr>\n",
       "    <tr>\n",
       "      <th>id2=95</th>\n",
       "      <td>0.824613</td>\n",
       "      <td>0.033810</td>\n",
       "      <td>0.758347</td>\n",
       "      <td>0.890880</td>\n",
       "      <td>0.000000e+00</td>\n",
       "    </tr>\n",
       "    <tr>\n",
       "      <th>id2=96</th>\n",
       "      <td>0.933235</td>\n",
       "      <td>0.034339</td>\n",
       "      <td>0.865933</td>\n",
       "      <td>1.000538</td>\n",
       "      <td>0.000000e+00</td>\n",
       "    </tr>\n",
       "    <tr>\n",
       "      <th>id2=97</th>\n",
       "      <td>0.904270</td>\n",
       "      <td>0.034131</td>\n",
       "      <td>0.837375</td>\n",
       "      <td>0.971165</td>\n",
       "      <td>0.000000e+00</td>\n",
       "    </tr>\n",
       "    <tr>\n",
       "      <th>id2=98</th>\n",
       "      <td>0.911063</td>\n",
       "      <td>0.034318</td>\n",
       "      <td>0.843801</td>\n",
       "      <td>0.978325</td>\n",
       "      <td>0.000000e+00</td>\n",
       "    </tr>\n",
       "    <tr>\n",
       "      <th>id2=99</th>\n",
       "      <td>0.908957</td>\n",
       "      <td>0.034154</td>\n",
       "      <td>0.842017</td>\n",
       "      <td>0.975897</td>\n",
       "      <td>0.000000e+00</td>\n",
       "    </tr>\n",
       "  </tbody>\n",
       "</table>\n",
       "<p>111 rows × 5 columns</p>\n",
       "</div>"
      ],
      "text/plain": [
       "b          coeff    stderr     low95    high95        pvalue\n",
       "I       0.164323  0.023043  0.119159  0.209486  9.952039e-13\n",
       "x1      0.302117  0.002402  0.297410  0.306824  0.000000e+00\n",
       "x2      0.598452  0.002529  0.593495  0.603410  0.000000e+00\n",
       "id1=B   0.103403  0.009919  0.083962  0.122844  0.000000e+00\n",
       "id1=C   0.208463  0.009994  0.188876  0.228050  0.000000e+00\n",
       "...          ...       ...       ...       ...           ...\n",
       "id2=95  0.824613  0.033810  0.758347  0.890880  0.000000e+00\n",
       "id2=96  0.933235  0.034339  0.865933  1.000538  0.000000e+00\n",
       "id2=97  0.904270  0.034131  0.837375  0.971165  0.000000e+00\n",
       "id2=98  0.911063  0.034318  0.843801  0.978325  0.000000e+00\n",
       "id2=99  0.908957  0.034154  0.842017  0.975897  0.000000e+00\n",
       "\n",
       "[111 rows x 5 columns]"
      ]
     },
     "execution_count": 28,
     "metadata": {},
     "output_type": "execute_result"
    }
   ],
   "source": [
    "%time fr.logit(y=R.b, x=I+R.x1+R.x2+C.id1+C.id2, data=data)"
   ]
  },
  {
   "cell_type": "markdown",
   "metadata": {},
   "source": [
    "### Ultra Wide"
   ]
  },
  {
   "cell_type": "code",
   "execution_count": 29,
   "metadata": {},
   "outputs": [],
   "source": [
    "import numpy as np\n",
    "import pandas as pd"
   ]
  },
  {
   "cell_type": "code",
   "execution_count": 30,
   "metadata": {},
   "outputs": [
    {
     "name": "stdout",
     "output_type": "stream",
     "text": [
      "id1        10\n",
      "id2    100000\n",
      "dtype: int64\n"
     ]
    }
   ],
   "source": [
    "N = 5_000_000\n",
    "df = pd.DataFrame(\n",
    "    {\n",
    "        \"x1\": np.random.rand(N),\n",
    "        \"x2\": np.random.rand(N),\n",
    "        \"id1\": np.ceil(10 * np.arange(N) / N + 1e-7).astype(int),\n",
    "        \"id2\": np.random.randint(1, 100_001, size=N),\n",
    "    }\n",
    ")\n",
    "df[\"y\"] = (\n",
    "    1\n",
    "    + 2 * df[\"x1\"]\n",
    "    + 3 * df[\"x2\"]\n",
    "    + np.log10(df[\"id1\"])\n",
    "    + np.log10(df[\"id2\"])\n",
    "    + np.random.randn(N)\n",
    ")\n",
    "print(df[[\"id1\", \"id2\"]].nunique())"
   ]
  },
  {
   "cell_type": "code",
   "execution_count": 31,
   "metadata": {},
   "outputs": [
    {
     "name": "stdout",
     "output_type": "stream",
     "text": [
      "CPU times: user 3.23 s, sys: 822 ms, total: 4.05 s\n",
      "Wall time: 3.29 s\n"
     ]
    },
    {
     "data": {
      "text/html": [
       "<div>\n",
       "<style scoped>\n",
       "    .dataframe tbody tr th:only-of-type {\n",
       "        vertical-align: middle;\n",
       "    }\n",
       "\n",
       "    .dataframe tbody tr th {\n",
       "        vertical-align: top;\n",
       "    }\n",
       "\n",
       "    .dataframe thead th {\n",
       "        text-align: right;\n",
       "    }\n",
       "</style>\n",
       "<table border=\"1\" class=\"dataframe\">\n",
       "  <thead>\n",
       "    <tr style=\"text-align: right;\">\n",
       "      <th>y</th>\n",
       "      <th>coeff</th>\n",
       "      <th>stderr</th>\n",
       "      <th>low95</th>\n",
       "      <th>high95</th>\n",
       "      <th>pvalue</th>\n",
       "    </tr>\n",
       "  </thead>\n",
       "  <tbody>\n",
       "    <tr>\n",
       "      <th>I</th>\n",
       "      <td>0.863245</td>\n",
       "      <td>0.158153</td>\n",
       "      <td>0.553271</td>\n",
       "      <td>1.173219</td>\n",
       "      <td>4.807285e-08</td>\n",
       "    </tr>\n",
       "    <tr>\n",
       "      <th>x1</th>\n",
       "      <td>1.998575</td>\n",
       "      <td>0.001565</td>\n",
       "      <td>1.995507</td>\n",
       "      <td>2.001642</td>\n",
       "      <td>0.000000e+00</td>\n",
       "    </tr>\n",
       "    <tr>\n",
       "      <th>x2</th>\n",
       "      <td>3.001055</td>\n",
       "      <td>0.001566</td>\n",
       "      <td>2.997986</td>\n",
       "      <td>3.004125</td>\n",
       "      <td>0.000000e+00</td>\n",
       "    </tr>\n",
       "    <tr>\n",
       "      <th>id1=2</th>\n",
       "      <td>0.299807</td>\n",
       "      <td>0.002021</td>\n",
       "      <td>0.295846</td>\n",
       "      <td>0.303767</td>\n",
       "      <td>0.000000e+00</td>\n",
       "    </tr>\n",
       "    <tr>\n",
       "      <th>id1=3</th>\n",
       "      <td>0.477380</td>\n",
       "      <td>0.002021</td>\n",
       "      <td>0.473420</td>\n",
       "      <td>0.481340</td>\n",
       "      <td>0.000000e+00</td>\n",
       "    </tr>\n",
       "    <tr>\n",
       "      <th>...</th>\n",
       "      <td>...</td>\n",
       "      <td>...</td>\n",
       "      <td>...</td>\n",
       "      <td>...</td>\n",
       "      <td>...</td>\n",
       "    </tr>\n",
       "    <tr>\n",
       "      <th>id2=99996</th>\n",
       "      <td>5.257392</td>\n",
       "      <td>0.200994</td>\n",
       "      <td>4.863451</td>\n",
       "      <td>5.651334</td>\n",
       "      <td>0.000000e+00</td>\n",
       "    </tr>\n",
       "    <tr>\n",
       "      <th>id2=99997</th>\n",
       "      <td>5.043673</td>\n",
       "      <td>0.214125</td>\n",
       "      <td>4.623997</td>\n",
       "      <td>5.463350</td>\n",
       "      <td>0.000000e+00</td>\n",
       "    </tr>\n",
       "    <tr>\n",
       "      <th>id2=99998</th>\n",
       "      <td>5.150768</td>\n",
       "      <td>0.220967</td>\n",
       "      <td>4.717680</td>\n",
       "      <td>5.583857</td>\n",
       "      <td>0.000000e+00</td>\n",
       "    </tr>\n",
       "    <tr>\n",
       "      <th>id2=99999</th>\n",
       "      <td>4.915680</td>\n",
       "      <td>0.216230</td>\n",
       "      <td>4.491877</td>\n",
       "      <td>5.339483</td>\n",
       "      <td>0.000000e+00</td>\n",
       "    </tr>\n",
       "    <tr>\n",
       "      <th>id2=100000</th>\n",
       "      <td>5.482287</td>\n",
       "      <td>0.219711</td>\n",
       "      <td>5.051662</td>\n",
       "      <td>5.912912</td>\n",
       "      <td>0.000000e+00</td>\n",
       "    </tr>\n",
       "  </tbody>\n",
       "</table>\n",
       "<p>100011 rows × 5 columns</p>\n",
       "</div>"
      ],
      "text/plain": [
       "y              coeff    stderr     low95    high95        pvalue\n",
       "I           0.863245  0.158153  0.553271  1.173219  4.807285e-08\n",
       "x1          1.998575  0.001565  1.995507  2.001642  0.000000e+00\n",
       "x2          3.001055  0.001566  2.997986  3.004125  0.000000e+00\n",
       "id1=2       0.299807  0.002021  0.295846  0.303767  0.000000e+00\n",
       "id1=3       0.477380  0.002021  0.473420  0.481340  0.000000e+00\n",
       "...              ...       ...       ...       ...           ...\n",
       "id2=99996   5.257392  0.200994  4.863451  5.651334  0.000000e+00\n",
       "id2=99997   5.043673  0.214125  4.623997  5.463350  0.000000e+00\n",
       "id2=99998   5.150768  0.220967  4.717680  5.583857  0.000000e+00\n",
       "id2=99999   4.915680  0.216230  4.491877  5.339483  0.000000e+00\n",
       "id2=100000  5.482287  0.219711  5.051662  5.912912  0.000000e+00\n",
       "\n",
       "[100011 rows x 5 columns]"
      ]
     },
     "execution_count": 31,
     "metadata": {},
     "output_type": "execute_result"
    }
   ],
   "source": [
    "%time fr.ols(y=R.y, x=I+R.x1+R.x2+C.id1, hdfe=C.id2, data=df)"
   ]
  },
  {
   "cell_type": "code",
   "execution_count": 32,
   "metadata": {},
   "outputs": [
    {
     "name": "stdout",
     "output_type": "stream",
     "text": [
      "CPU times: user 5.57 s, sys: 393 ms, total: 5.96 s\n",
      "Wall time: 1.23 s\n"
     ]
    },
    {
     "data": {
      "text/plain": [
       "<pyfixest.estimation.feols_.Feols at 0x776a8c091000>"
      ]
     },
     "execution_count": 32,
     "metadata": {},
     "output_type": "execute_result"
    }
   ],
   "source": [
    "%time pf.feols(\"y ~ x1+x2 | id1 + id2\", data=df)"
   ]
  }
 ],
 "metadata": {
  "kernelspec": {
   "display_name": "Python 3 (ipykernel)",
   "language": "python",
   "name": "python3"
  },
  "language_info": {
   "codemirror_mode": {
    "name": "ipython",
    "version": 3
   },
   "file_extension": ".py",
   "mimetype": "text/x-python",
   "name": "python",
   "nbconvert_exporter": "python",
   "pygments_lexer": "ipython3",
   "version": "3.10.14"
  }
 },
 "nbformat": 4,
 "nbformat_minor": 4
}
