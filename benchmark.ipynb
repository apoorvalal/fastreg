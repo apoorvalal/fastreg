{
 "cells": [
  {
   "cell_type": "code",
   "execution_count": 1,
   "metadata": {},
   "outputs": [],
   "source": [
    "import statsmodels.formula.api as smf\n",
    "import matplotlib.pyplot as plt\n",
    "import fastreg.linear as frl\n",
    "import fastreg.general as frg\n",
    "%matplotlib inline"
   ]
  },
  {
   "cell_type": "markdown",
   "metadata": {},
   "source": [
    "### Generate Data"
   ]
  },
  {
   "cell_type": "code",
   "execution_count": 10,
   "metadata": {},
   "outputs": [],
   "source": [
    "st = np.random.RandomState(89320432)\n",
    "N, K1, K2 = 100_000, 10, 100"
   ]
  },
  {
   "cell_type": "code",
   "execution_count": 11,
   "metadata": {},
   "outputs": [
    {
     "data": {
      "text/html": [
       "<div>\n",
       "<style scoped>\n",
       "    .dataframe tbody tr th:only-of-type {\n",
       "        vertical-align: middle;\n",
       "    }\n",
       "\n",
       "    .dataframe tbody tr th {\n",
       "        vertical-align: top;\n",
       "    }\n",
       "\n",
       "    .dataframe thead th {\n",
       "        text-align: right;\n",
       "    }\n",
       "</style>\n",
       "<table border=\"1\" class=\"dataframe\">\n",
       "  <thead>\n",
       "    <tr style=\"text-align: right;\">\n",
       "      <th></th>\n",
       "      <th>id1</th>\n",
       "      <th>id2</th>\n",
       "      <th>x1</th>\n",
       "      <th>x2</th>\n",
       "      <th>y</th>\n",
       "      <th>lEp</th>\n",
       "      <th>Ep</th>\n",
       "      <th>p</th>\n",
       "      <th>p0</th>\n",
       "    </tr>\n",
       "  </thead>\n",
       "  <tbody>\n",
       "    <tr>\n",
       "      <td>0</td>\n",
       "      <td>4</td>\n",
       "      <td>37</td>\n",
       "      <td>-0.259664</td>\n",
       "      <td>0.957506</td>\n",
       "      <td>5.679871</td>\n",
       "      <td>0.035703</td>\n",
       "      <td>1.036348</td>\n",
       "      <td>2</td>\n",
       "      <td>2</td>\n",
       "    </tr>\n",
       "    <tr>\n",
       "      <td>1</td>\n",
       "      <td>8</td>\n",
       "      <td>65</td>\n",
       "      <td>0.334285</td>\n",
       "      <td>-1.045791</td>\n",
       "      <td>3.786864</td>\n",
       "      <td>-0.008587</td>\n",
       "      <td>0.991449</td>\n",
       "      <td>1</td>\n",
       "      <td>1</td>\n",
       "    </tr>\n",
       "    <tr>\n",
       "      <td>2</td>\n",
       "      <td>8</td>\n",
       "      <td>10</td>\n",
       "      <td>0.067322</td>\n",
       "      <td>-0.631068</td>\n",
       "      <td>3.515400</td>\n",
       "      <td>-0.085820</td>\n",
       "      <td>0.917759</td>\n",
       "      <td>0</td>\n",
       "      <td>0</td>\n",
       "    </tr>\n",
       "    <tr>\n",
       "      <td>3</td>\n",
       "      <td>8</td>\n",
       "      <td>10</td>\n",
       "      <td>0.384297</td>\n",
       "      <td>0.485393</td>\n",
       "      <td>6.381056</td>\n",
       "      <td>0.327657</td>\n",
       "      <td>1.387713</td>\n",
       "      <td>1</td>\n",
       "      <td>0</td>\n",
       "    </tr>\n",
       "    <tr>\n",
       "      <td>4</td>\n",
       "      <td>6</td>\n",
       "      <td>38</td>\n",
       "      <td>-1.584996</td>\n",
       "      <td>-1.037097</td>\n",
       "      <td>-2.523866</td>\n",
       "      <td>-1.158417</td>\n",
       "      <td>0.313983</td>\n",
       "      <td>0</td>\n",
       "      <td>0</td>\n",
       "    </tr>\n",
       "  </tbody>\n",
       "</table>\n",
       "</div>"
      ],
      "text/plain": [
       "   id1  id2        x1        x2         y       lEp        Ep  p  p0\n",
       "0    4   37 -0.259664  0.957506  5.679871  0.035703  1.036348  2   2\n",
       "1    8   65  0.334285 -1.045791  3.786864 -0.008587  0.991449  1   1\n",
       "2    8   10  0.067322 -0.631068  3.515400 -0.085820  0.917759  0   0\n",
       "3    8   10  0.384297  0.485393  6.381056  0.327657  1.387713  1   0\n",
       "4    6   38 -1.584996 -1.037097 -2.523866 -1.158417  0.313983  0   0"
      ]
     },
     "execution_count": 11,
     "metadata": {},
     "output_type": "execute_result"
    }
   ],
   "source": [
    "df0 = pd.DataFrame({\n",
    "    'id1': st.randint(K1, size=N),\n",
    "    'id2': st.randint(K2, size=N),\n",
    "    'x1': st.randn(N),\n",
    "    'x2': st.randn(N)\n",
    "})\n",
    "df0['y'] = 5 + 3*df0['x1'] + 2*df0['x2'] + st.randn(N)\n",
    "df0['lEp'] = 0.6*df0['x1'] + 0.2*df0['x2']\n",
    "df0['Ep'] = np.exp(df0['lEp'])\n",
    "df0['p'] = np.random.poisson(df0['Ep'])\n",
    "df0['p0'] = np.where(st.rand(N) < 0.2, 0, df0['p'])\n",
    "df0.head()"
   ]
  },
  {
   "cell_type": "code",
   "execution_count": 12,
   "metadata": {},
   "outputs": [
    {
     "data": {
      "text/html": [
       "<div>\n",
       "<style scoped>\n",
       "    .dataframe tbody tr th:only-of-type {\n",
       "        vertical-align: middle;\n",
       "    }\n",
       "\n",
       "    .dataframe tbody tr th {\n",
       "        vertical-align: top;\n",
       "    }\n",
       "\n",
       "    .dataframe thead th {\n",
       "        text-align: right;\n",
       "    }\n",
       "</style>\n",
       "<table border=\"1\" class=\"dataframe\">\n",
       "  <thead>\n",
       "    <tr style=\"text-align: right;\">\n",
       "      <th></th>\n",
       "      <th>id1</th>\n",
       "      <th>id2</th>\n",
       "      <th>x1</th>\n",
       "      <th>x2</th>\n",
       "      <th>y</th>\n",
       "      <th>lEp</th>\n",
       "      <th>Ep</th>\n",
       "      <th>p</th>\n",
       "    </tr>\n",
       "  </thead>\n",
       "  <tbody>\n",
       "    <tr>\n",
       "      <td>0</td>\n",
       "      <td>6</td>\n",
       "      <td>73</td>\n",
       "      <td>1.523574</td>\n",
       "      <td>0.217466</td>\n",
       "      <td>10.722923</td>\n",
       "      <td>1.334637</td>\n",
       "      <td>3.798618</td>\n",
       "      <td>3</td>\n",
       "    </tr>\n",
       "    <tr>\n",
       "      <td>1</td>\n",
       "      <td>7</td>\n",
       "      <td>5</td>\n",
       "      <td>-0.477160</td>\n",
       "      <td>0.992419</td>\n",
       "      <td>6.810419</td>\n",
       "      <td>-0.048812</td>\n",
       "      <td>0.952360</td>\n",
       "      <td>1</td>\n",
       "    </tr>\n",
       "    <tr>\n",
       "      <td>2</td>\n",
       "      <td>4</td>\n",
       "      <td>46</td>\n",
       "      <td>-0.720889</td>\n",
       "      <td>0.157152</td>\n",
       "      <td>4.179312</td>\n",
       "      <td>-0.163103</td>\n",
       "      <td>0.849504</td>\n",
       "      <td>1</td>\n",
       "    </tr>\n",
       "    <tr>\n",
       "      <td>3</td>\n",
       "      <td>3</td>\n",
       "      <td>38</td>\n",
       "      <td>1.738053</td>\n",
       "      <td>0.770928</td>\n",
       "      <td>13.797231</td>\n",
       "      <td>1.393017</td>\n",
       "      <td>4.026982</td>\n",
       "      <td>2</td>\n",
       "    </tr>\n",
       "    <tr>\n",
       "      <td>4</td>\n",
       "      <td>0</td>\n",
       "      <td>63</td>\n",
       "      <td>0.035853</td>\n",
       "      <td>-0.380131</td>\n",
       "      <td>4.577832</td>\n",
       "      <td>0.260486</td>\n",
       "      <td>1.297560</td>\n",
       "      <td>3</td>\n",
       "    </tr>\n",
       "  </tbody>\n",
       "</table>\n",
       "</div>"
      ],
      "text/plain": [
       "   id1  id2        x1        x2          y       lEp        Ep  p\n",
       "0    6   73  1.523574  0.217466  10.722923  1.334637  3.798618  3\n",
       "1    7    5 -0.477160  0.992419   6.810419 -0.048812  0.952360  1\n",
       "2    4   46 -0.720889  0.157152   4.179312 -0.163103  0.849504  1\n",
       "3    3   38  1.738053  0.770928  13.797231  1.393017  4.026982  2\n",
       "4    0   63  0.035853 -0.380131   4.577832  0.260486  1.297560  3"
      ]
     },
     "execution_count": 12,
     "metadata": {},
     "output_type": "execute_result"
    }
   ],
   "source": [
    "df = pd.DataFrame({\n",
    "    'id1': st.randint(K1, size=N),\n",
    "    'id2': st.randint(K2, size=N),\n",
    "    'x1': st.randn(N),\n",
    "    'x2': st.randn(N)\n",
    "})\n",
    "df['y'] = 5 + 3*df['x1'] + 2*df['x2'] + 0.1*df['id1'] + 0.01*df['id2'] + st.randn(N)\n",
    "df['lEp'] = 0.6*df['x1'] + 0.2*df['x2'] + 0.2*df['id1']/100 + 0.5*df['id2']/100\n",
    "df['Ep'] = np.exp(df['lEp'])\n",
    "df['p'] = np.random.poisson(df['Ep'])\n",
    "df.head()"
   ]
  },
  {
   "cell_type": "markdown",
   "metadata": {},
   "source": [
    "### Normal OLS"
   ]
  },
  {
   "cell_type": "code",
   "execution_count": 96,
   "metadata": {},
   "outputs": [
    {
     "name": "stdout",
     "output_type": "stream",
     "text": [
      "CPU times: user 825 ms, sys: 642 ms, total: 1.47 s\n",
      "Wall time: 336 ms\n"
     ]
    },
    {
     "data": {
      "text/plain": [
       "Intercept    5.945739\n",
       "x1           3.001904\n",
       "x2           1.998668\n",
       "dtype: float64"
      ]
     },
     "execution_count": 96,
     "metadata": {},
     "output_type": "execute_result"
    }
   ],
   "source": [
    "%time smf.ols('y ~ x1 + x2', data=df).fit().params"
   ]
  },
  {
   "cell_type": "code",
   "execution_count": 97,
   "metadata": {},
   "outputs": [
    {
     "name": "stdout",
     "output_type": "stream",
     "text": [
      "CPU times: user 101 ms, sys: 53.2 ms, total: 154 ms\n",
      "Wall time: 58.3 ms\n"
     ]
    },
    {
     "data": {
      "text/html": [
       "<div>\n",
       "<style scoped>\n",
       "    .dataframe tbody tr th:only-of-type {\n",
       "        vertical-align: middle;\n",
       "    }\n",
       "\n",
       "    .dataframe tbody tr th {\n",
       "        vertical-align: top;\n",
       "    }\n",
       "\n",
       "    .dataframe thead th {\n",
       "        text-align: right;\n",
       "    }\n",
       "</style>\n",
       "<table border=\"1\" class=\"dataframe\">\n",
       "  <thead>\n",
       "    <tr style=\"text-align: right;\">\n",
       "      <th></th>\n",
       "      <th>coeff</th>\n",
       "      <th>stderr</th>\n",
       "      <th>low95</th>\n",
       "      <th>high95</th>\n",
       "      <th>pvalue</th>\n",
       "    </tr>\n",
       "  </thead>\n",
       "  <tbody>\n",
       "    <tr>\n",
       "      <td>intercept</td>\n",
       "      <td>5.945739</td>\n",
       "      <td>0.001080</td>\n",
       "      <td>5.943622</td>\n",
       "      <td>5.947857</td>\n",
       "      <td>0.0</td>\n",
       "    </tr>\n",
       "    <tr>\n",
       "      <td>x1</td>\n",
       "      <td>3.001904</td>\n",
       "      <td>0.001080</td>\n",
       "      <td>2.999788</td>\n",
       "      <td>3.004021</td>\n",
       "      <td>0.0</td>\n",
       "    </tr>\n",
       "    <tr>\n",
       "      <td>x2</td>\n",
       "      <td>1.998668</td>\n",
       "      <td>0.001079</td>\n",
       "      <td>1.996552</td>\n",
       "      <td>2.000783</td>\n",
       "      <td>0.0</td>\n",
       "    </tr>\n",
       "  </tbody>\n",
       "</table>\n",
       "</div>"
      ],
      "text/plain": [
       "              coeff    stderr     low95    high95  pvalue\n",
       "intercept  5.945739  0.001080  5.943622  5.947857     0.0\n",
       "x1         3.001904  0.001080  2.999788  3.004021     0.0\n",
       "x2         1.998668  0.001079  1.996552  2.000783     0.0"
      ]
     },
     "execution_count": 97,
     "metadata": {},
     "output_type": "execute_result"
    }
   ],
   "source": [
    "%time frl.ols(y='y', x=['x1', 'x2'], data=df)"
   ]
  },
  {
   "cell_type": "markdown",
   "metadata": {},
   "source": [
    "### Sparse OLS"
   ]
  },
  {
   "cell_type": "code",
   "execution_count": 98,
   "metadata": {},
   "outputs": [
    {
     "name": "stdout",
     "output_type": "stream",
     "text": [
      "CPU times: user 1.02 s, sys: 57.1 ms, total: 1.07 s\n",
      "Wall time: 1.08 s\n"
     ]
    },
    {
     "data": {
      "text/html": [
       "<div>\n",
       "<style scoped>\n",
       "    .dataframe tbody tr th:only-of-type {\n",
       "        vertical-align: middle;\n",
       "    }\n",
       "\n",
       "    .dataframe tbody tr th {\n",
       "        vertical-align: top;\n",
       "    }\n",
       "\n",
       "    .dataframe thead th {\n",
       "        text-align: right;\n",
       "    }\n",
       "</style>\n",
       "<table border=\"1\" class=\"dataframe\">\n",
       "  <thead>\n",
       "    <tr style=\"text-align: right;\">\n",
       "      <th></th>\n",
       "      <th>coeff</th>\n",
       "      <th>stderr</th>\n",
       "      <th>low95</th>\n",
       "      <th>high95</th>\n",
       "      <th>pvalue</th>\n",
       "    </tr>\n",
       "  </thead>\n",
       "  <tbody>\n",
       "    <tr>\n",
       "      <td>intercept</td>\n",
       "      <td>4.990156</td>\n",
       "      <td>0.010465</td>\n",
       "      <td>4.969644</td>\n",
       "      <td>5.010667</td>\n",
       "      <td>0.0</td>\n",
       "    </tr>\n",
       "    <tr>\n",
       "      <td>x1</td>\n",
       "      <td>3.001682</td>\n",
       "      <td>0.001000</td>\n",
       "      <td>2.999721</td>\n",
       "      <td>3.003642</td>\n",
       "      <td>0.0</td>\n",
       "    </tr>\n",
       "    <tr>\n",
       "      <td>x2</td>\n",
       "      <td>1.998036</td>\n",
       "      <td>0.001000</td>\n",
       "      <td>1.996077</td>\n",
       "      <td>1.999995</td>\n",
       "      <td>0.0</td>\n",
       "    </tr>\n",
       "    <tr>\n",
       "      <td>id1=1</td>\n",
       "      <td>0.099544</td>\n",
       "      <td>0.004481</td>\n",
       "      <td>0.090761</td>\n",
       "      <td>0.108327</td>\n",
       "      <td>0.0</td>\n",
       "    </tr>\n",
       "    <tr>\n",
       "      <td>id1=2</td>\n",
       "      <td>0.195235</td>\n",
       "      <td>0.004484</td>\n",
       "      <td>0.186447</td>\n",
       "      <td>0.204023</td>\n",
       "      <td>0.0</td>\n",
       "    </tr>\n",
       "    <tr>\n",
       "      <td>...</td>\n",
       "      <td>...</td>\n",
       "      <td>...</td>\n",
       "      <td>...</td>\n",
       "      <td>...</td>\n",
       "      <td>...</td>\n",
       "    </tr>\n",
       "    <tr>\n",
       "      <td>id2=95</td>\n",
       "      <td>0.955351</td>\n",
       "      <td>0.014152</td>\n",
       "      <td>0.927614</td>\n",
       "      <td>0.983089</td>\n",
       "      <td>0.0</td>\n",
       "    </tr>\n",
       "    <tr>\n",
       "      <td>id2=96</td>\n",
       "      <td>0.960740</td>\n",
       "      <td>0.014173</td>\n",
       "      <td>0.932961</td>\n",
       "      <td>0.988519</td>\n",
       "      <td>0.0</td>\n",
       "    </tr>\n",
       "    <tr>\n",
       "      <td>id2=97</td>\n",
       "      <td>0.980918</td>\n",
       "      <td>0.014169</td>\n",
       "      <td>0.953146</td>\n",
       "      <td>1.008689</td>\n",
       "      <td>0.0</td>\n",
       "    </tr>\n",
       "    <tr>\n",
       "      <td>id2=98</td>\n",
       "      <td>0.996677</td>\n",
       "      <td>0.014184</td>\n",
       "      <td>0.968876</td>\n",
       "      <td>1.024477</td>\n",
       "      <td>0.0</td>\n",
       "    </tr>\n",
       "    <tr>\n",
       "      <td>id2=99</td>\n",
       "      <td>0.990715</td>\n",
       "      <td>0.014183</td>\n",
       "      <td>0.962917</td>\n",
       "      <td>1.018514</td>\n",
       "      <td>0.0</td>\n",
       "    </tr>\n",
       "  </tbody>\n",
       "</table>\n",
       "<p>111 rows × 5 columns</p>\n",
       "</div>"
      ],
      "text/plain": [
       "              coeff    stderr     low95    high95  pvalue\n",
       "intercept  4.990156  0.010465  4.969644  5.010667     0.0\n",
       "x1         3.001682  0.001000  2.999721  3.003642     0.0\n",
       "x2         1.998036  0.001000  1.996077  1.999995     0.0\n",
       "id1=1      0.099544  0.004481  0.090761  0.108327     0.0\n",
       "id1=2      0.195235  0.004484  0.186447  0.204023     0.0\n",
       "...             ...       ...       ...       ...     ...\n",
       "id2=95     0.955351  0.014152  0.927614  0.983089     0.0\n",
       "id2=96     0.960740  0.014173  0.932961  0.988519     0.0\n",
       "id2=97     0.980918  0.014169  0.953146  1.008689     0.0\n",
       "id2=98     0.996677  0.014184  0.968876  1.024477     0.0\n",
       "id2=99     0.990715  0.014183  0.962917  1.018514     0.0\n",
       "\n",
       "[111 rows x 5 columns]"
      ]
     },
     "execution_count": 98,
     "metadata": {},
     "output_type": "execute_result"
    }
   ],
   "source": [
    "%time frl.ols(y='y', x=['x1', 'x2'], fe=['id1', 'id2'], data=df)"
   ]
  },
  {
   "cell_type": "code",
   "execution_count": 99,
   "metadata": {},
   "outputs": [
    {
     "name": "stdout",
     "output_type": "stream",
     "text": [
      "CPU times: user 2.13 s, sys: 515 ms, total: 2.65 s\n",
      "Wall time: 1.77 s\n"
     ]
    },
    {
     "data": {
      "text/html": [
       "<div>\n",
       "<style scoped>\n",
       "    .dataframe tbody tr th:only-of-type {\n",
       "        vertical-align: middle;\n",
       "    }\n",
       "\n",
       "    .dataframe tbody tr th {\n",
       "        vertical-align: top;\n",
       "    }\n",
       "\n",
       "    .dataframe thead th {\n",
       "        text-align: right;\n",
       "    }\n",
       "</style>\n",
       "<table border=\"1\" class=\"dataframe\">\n",
       "  <thead>\n",
       "    <tr style=\"text-align: right;\">\n",
       "      <th></th>\n",
       "      <th>coeff</th>\n",
       "      <th>stderr</th>\n",
       "      <th>low95</th>\n",
       "      <th>high95</th>\n",
       "      <th>pvalue</th>\n",
       "    </tr>\n",
       "  </thead>\n",
       "  <tbody>\n",
       "    <tr>\n",
       "      <td>intercept</td>\n",
       "      <td>5.002158</td>\n",
       "      <td>0.000001</td>\n",
       "      <td>5.002156</td>\n",
       "      <td>5.002161</td>\n",
       "      <td>0.0</td>\n",
       "    </tr>\n",
       "    <tr>\n",
       "      <td>x1</td>\n",
       "      <td>3.000770</td>\n",
       "      <td>0.001016</td>\n",
       "      <td>2.998779</td>\n",
       "      <td>3.002761</td>\n",
       "      <td>0.0</td>\n",
       "    </tr>\n",
       "    <tr>\n",
       "      <td>x2</td>\n",
       "      <td>2.000206</td>\n",
       "      <td>0.001033</td>\n",
       "      <td>1.998181</td>\n",
       "      <td>2.002231</td>\n",
       "      <td>0.0</td>\n",
       "    </tr>\n",
       "  </tbody>\n",
       "</table>\n",
       "</div>"
      ],
      "text/plain": [
       "              coeff    stderr     low95    high95  pvalue\n",
       "intercept  5.002158  0.000001  5.002156  5.002161     0.0\n",
       "x1         3.000770  0.001016  2.998779  3.002761     0.0\n",
       "x2         2.000206  0.001033  1.998181  2.002231     0.0"
      ]
     },
     "execution_count": 99,
     "metadata": {},
     "output_type": "execute_result"
    }
   ],
   "source": [
    "%time frl.ols(y='y', x=['x1', 'x2'], absorb=('id1', 'id2'), data=df0)"
   ]
  },
  {
   "cell_type": "markdown",
   "metadata": {},
   "source": [
    "### Poisson"
   ]
  },
  {
   "cell_type": "code",
   "execution_count": 13,
   "metadata": {},
   "outputs": [
    {
     "name": "stdout",
     "output_type": "stream",
     "text": [
      "  0: loss = 0.7781351208686829\n",
      "  1: loss = 0.7361311316490173\n",
      "  2: loss = 0.7361311316490173\n",
      "CPU times: user 8.3 s, sys: 4.98 ms, total: 8.31 s\n",
      "Wall time: 2.77 s\n"
     ]
    },
    {
     "data": {
      "text/html": [
       "<div>\n",
       "<style scoped>\n",
       "    .dataframe tbody tr th:only-of-type {\n",
       "        vertical-align: middle;\n",
       "    }\n",
       "\n",
       "    .dataframe tbody tr th {\n",
       "        vertical-align: top;\n",
       "    }\n",
       "\n",
       "    .dataframe thead th {\n",
       "        text-align: right;\n",
       "    }\n",
       "</style>\n",
       "<table border=\"1\" class=\"dataframe\">\n",
       "  <thead>\n",
       "    <tr style=\"text-align: right;\">\n",
       "      <th></th>\n",
       "      <th>coeff</th>\n",
       "      <th>stderr</th>\n",
       "      <th>low95</th>\n",
       "      <th>high95</th>\n",
       "      <th>pvalue</th>\n",
       "    </tr>\n",
       "  </thead>\n",
       "  <tbody>\n",
       "    <tr>\n",
       "      <td>intercept</td>\n",
       "      <td>-0.005621</td>\n",
       "      <td>0.003356</td>\n",
       "      <td>-0.012198</td>\n",
       "      <td>0.000956</td>\n",
       "      <td>0.046956</td>\n",
       "    </tr>\n",
       "    <tr>\n",
       "      <td>x1</td>\n",
       "      <td>0.603686</td>\n",
       "      <td>0.002850</td>\n",
       "      <td>0.598099</td>\n",
       "      <td>0.609273</td>\n",
       "      <td>0.000000</td>\n",
       "    </tr>\n",
       "    <tr>\n",
       "      <td>x2</td>\n",
       "      <td>0.192795</td>\n",
       "      <td>0.002825</td>\n",
       "      <td>0.187258</td>\n",
       "      <td>0.198333</td>\n",
       "      <td>0.000000</td>\n",
       "    </tr>\n",
       "  </tbody>\n",
       "</table>\n",
       "</div>"
      ],
      "text/plain": [
       "              coeff    stderr     low95    high95    pvalue\n",
       "intercept -0.005621  0.003356 -0.012198  0.000956  0.046956\n",
       "x1         0.603686  0.002850  0.598099  0.609273  0.000000\n",
       "x2         0.192795  0.002825  0.187258  0.198333  0.000000"
      ]
     },
     "execution_count": 13,
     "metadata": {},
     "output_type": "execute_result"
    }
   ],
   "source": [
    "%time frg.poisson(y='p', x=['x1', 'x2'], data=df0, epochs=3)[0]"
   ]
  },
  {
   "cell_type": "code",
   "execution_count": 26,
   "metadata": {},
   "outputs": [
    {
     "name": "stdout",
     "output_type": "stream",
     "text": [
      "  0: loss = 0.5476676821708679\n",
      "  1: loss = 0.5198169946670532\n",
      "  2: loss = 0.5168352723121643\n",
      "  3: loss = 0.5148505568504333\n",
      "  4: loss = 0.5135260224342346\n",
      "  5: loss = 0.5126403570175171\n",
      "  6: loss = 0.512046754360199\n",
      "  7: loss = 0.511647641658783\n",
      "  8: loss = 0.5113784670829773\n",
      "  9: loss = 0.5111960172653198\n",
      "CPU times: user 40.8 s, sys: 140 ms, total: 40.9 s\n",
      "Wall time: 7.99 s\n"
     ]
    }
   ],
   "source": [
    "%time table, beta, sigma = frg.poisson(y='p', x=['x1', 'x2'], fe=['id1', 'id2'], data=df, epochs=10)"
   ]
  },
  {
   "cell_type": "code",
   "execution_count": 27,
   "metadata": {},
   "outputs": [],
   "source": [
    "coeff = table['coeff'].filter(regex='id2').rename('beta1').rename_axis('id2').reset_index()\n",
    "coeff['id2'] = coeff['id2'].apply(lambda s: s[4:]).astype(np.int)\n",
    "coeff['beta0'] = 0.5*coeff['id2']/100\n",
    "coeff['beta1'] += table.loc['intercept', 'coeff']"
   ]
  },
  {
   "cell_type": "code",
   "execution_count": 28,
   "metadata": {},
   "outputs": [
    {
     "data": {
      "image/png": "[encoded data removed]",
      "text/plain": [
       "<Figure size 432x360 with 1 Axes>"
      ]
     },
     "metadata": {
      "needs_background": "light"
     },
     "output_type": "display_data"
    }
   ],
   "source": [
    "bmax = 0.5*K2/100\n",
    "beta = np.linspace(0, bmax, 1000)\n",
    "fig, ax = plt.subplots(figsize=(6, 5))\n",
    "coeff.plot.scatter(x='beta0', y='beta1', ax=ax, alpha=0.5);\n",
    "ax.plot(beta, beta, c='r', linewidth=1, zorder=1);"
   ]
  },
  {
   "cell_type": "code",
   "execution_count": null,
   "metadata": {},
   "outputs": [],
   "source": []
  }
 ],
 "metadata": {
  "kernelspec": {
   "display_name": "Python 3.7",
   "language": "python",
   "name": "python3.7"
  },
  "language_info": {
   "codemirror_mode": {
    "name": "ipython",
    "version": 3
   },
   "file_extension": ".py",
   "mimetype": "text/x-python",
   "name": "python",
   "nbconvert_exporter": "python",
   "pygments_lexer": "ipython3",
   "version": "3.7.5"
  }
 },
 "nbformat": 4,
 "nbformat_minor": 4
}
