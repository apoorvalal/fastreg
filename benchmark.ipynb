{
 "cells": [
  {
   "cell_type": "code",
   "execution_count": 1,
   "metadata": {},
   "outputs": [],
   "source": [
    "import statsmodels.formula.api as smf\n",
    "import matplotlib.pyplot as plt\n",
    "import fastreg.linear as frl\n",
    "%matplotlib inline"
   ]
  },
  {
   "cell_type": "markdown",
   "metadata": {},
   "source": [
    "### Generate Data"
   ]
  },
  {
   "cell_type": "code",
   "execution_count": 2,
   "metadata": {},
   "outputs": [],
   "source": [
    "st = np.random.RandomState(89320432)\n",
    "N, K1, K2 = 1_000_000, 10, 100"
   ]
  },
  {
   "cell_type": "code",
   "execution_count": 3,
   "metadata": {},
   "outputs": [
    {
     "data": {
      "text/html": [
       "<div>\n",
       "<style scoped>\n",
       "    .dataframe tbody tr th:only-of-type {\n",
       "        vertical-align: middle;\n",
       "    }\n",
       "\n",
       "    .dataframe tbody tr th {\n",
       "        vertical-align: top;\n",
       "    }\n",
       "\n",
       "    .dataframe thead th {\n",
       "        text-align: right;\n",
       "    }\n",
       "</style>\n",
       "<table border=\"1\" class=\"dataframe\">\n",
       "  <thead>\n",
       "    <tr style=\"text-align: right;\">\n",
       "      <th></th>\n",
       "      <th>id1</th>\n",
       "      <th>id2</th>\n",
       "      <th>x1</th>\n",
       "      <th>x2</th>\n",
       "      <th>y</th>\n",
       "      <th>lEp</th>\n",
       "      <th>Ep</th>\n",
       "      <th>p</th>\n",
       "    </tr>\n",
       "  </thead>\n",
       "  <tbody>\n",
       "    <tr>\n",
       "      <td>0</td>\n",
       "      <td>4</td>\n",
       "      <td>99</td>\n",
       "      <td>-0.232286</td>\n",
       "      <td>-1.106499</td>\n",
       "      <td>1.111238</td>\n",
       "      <td>0.142329</td>\n",
       "      <td>1.152956</td>\n",
       "      <td>1</td>\n",
       "    </tr>\n",
       "    <tr>\n",
       "      <td>1</td>\n",
       "      <td>8</td>\n",
       "      <td>98</td>\n",
       "      <td>0.457063</td>\n",
       "      <td>0.585081</td>\n",
       "      <td>5.948498</td>\n",
       "      <td>0.897254</td>\n",
       "      <td>2.452858</td>\n",
       "      <td>2</td>\n",
       "    </tr>\n",
       "    <tr>\n",
       "      <td>2</td>\n",
       "      <td>8</td>\n",
       "      <td>73</td>\n",
       "      <td>0.761536</td>\n",
       "      <td>-0.705039</td>\n",
       "      <td>3.017252</td>\n",
       "      <td>0.696914</td>\n",
       "      <td>2.007547</td>\n",
       "      <td>5</td>\n",
       "    </tr>\n",
       "    <tr>\n",
       "      <td>3</td>\n",
       "      <td>8</td>\n",
       "      <td>40</td>\n",
       "      <td>-0.251006</td>\n",
       "      <td>-0.884939</td>\n",
       "      <td>-2.216396</td>\n",
       "      <td>-0.111591</td>\n",
       "      <td>0.894410</td>\n",
       "      <td>1</td>\n",
       "    </tr>\n",
       "    <tr>\n",
       "      <td>4</td>\n",
       "      <td>6</td>\n",
       "      <td>90</td>\n",
       "      <td>-1.211539</td>\n",
       "      <td>1.763510</td>\n",
       "      <td>2.938151</td>\n",
       "      <td>0.087778</td>\n",
       "      <td>1.091746</td>\n",
       "      <td>0</td>\n",
       "    </tr>\n",
       "  </tbody>\n",
       "</table>\n",
       "</div>"
      ],
      "text/plain": [
       "   id1  id2        x1        x2         y       lEp        Ep  p\n",
       "0    4   99 -0.232286 -1.106499  1.111238  0.142329  1.152956  1\n",
       "1    8   98  0.457063  0.585081  5.948498  0.897254  2.452858  2\n",
       "2    8   73  0.761536 -0.705039  3.017252  0.696914  2.007547  5\n",
       "3    8   40 -0.251006 -0.884939 -2.216396 -0.111591  0.894410  1\n",
       "4    6   90 -1.211539  1.763510  2.938151  0.087778  1.091746  0"
      ]
     },
     "execution_count": 3,
     "metadata": {},
     "output_type": "execute_result"
    }
   ],
   "source": [
    "df = pd.DataFrame({\n",
    "    'id1': st.randint(K1, size=N),\n",
    "    'id2': st.randint(K2, size=N),\n",
    "    'x1': st.randn(N),\n",
    "    'x2': st.randn(N)\n",
    "})\n",
    "df['y'] = 3*df['x1'] + 2*df['x2'] + 0.1*df['id1'] + 0.01*df['id2'] + st.randn(N)\n",
    "df['lEp'] = 0.6*df['x1'] + 0.2*df['x2'] + 0.2*df['id1']/100 + 0.5*df['id2']/100\n",
    "df['Ep'] = np.exp(df['lEp'])\n",
    "df['p'] = np.random.poisson(df['Ep'])\n",
    "df.head()"
   ]
  },
  {
   "cell_type": "markdown",
   "metadata": {},
   "source": [
    "### Normal OLS"
   ]
  },
  {
   "cell_type": "code",
   "execution_count": 4,
   "metadata": {},
   "outputs": [
    {
     "name": "stderr",
     "output_type": "stream",
     "text": [
      "/home/doug/.local/lib/python3.7/site-packages/statsmodels/compat/pandas.py:49: FutureWarning: The Panel class is removed from pandas. Accessing it from the top-level namespace will also be removed in the next version\n",
      "  data_klasses = (pandas.Series, pandas.DataFrame, pandas.Panel)\n"
     ]
    },
    {
     "name": "stdout",
     "output_type": "stream",
     "text": [
      "CPU times: user 852 ms, sys: 674 ms, total: 1.53 s\n",
      "Wall time: 375 ms\n"
     ]
    },
    {
     "data": {
      "text/plain": [
       "Intercept    0.944116\n",
       "x1           2.999261\n",
       "x2           2.000620\n",
       "dtype: float64"
      ]
     },
     "execution_count": 4,
     "metadata": {},
     "output_type": "execute_result"
    }
   ],
   "source": [
    "%time smf.ols('y ~ x1 + x2', data=df).fit().params"
   ]
  },
  {
   "cell_type": "code",
   "execution_count": 5,
   "metadata": {},
   "outputs": [
    {
     "name": "stdout",
     "output_type": "stream",
     "text": [
      "CPU times: user 141 ms, sys: 142 ms, total: 282 ms\n",
      "Wall time: 50.7 ms\n"
     ]
    },
    {
     "data": {
      "text/html": [
       "<div>\n",
       "<style scoped>\n",
       "    .dataframe tbody tr th:only-of-type {\n",
       "        vertical-align: middle;\n",
       "    }\n",
       "\n",
       "    .dataframe tbody tr th {\n",
       "        vertical-align: top;\n",
       "    }\n",
       "\n",
       "    .dataframe thead th {\n",
       "        text-align: right;\n",
       "    }\n",
       "</style>\n",
       "<table border=\"1\" class=\"dataframe\">\n",
       "  <thead>\n",
       "    <tr style=\"text-align: right;\">\n",
       "      <th></th>\n",
       "      <th>coeff</th>\n",
       "      <th>stderr</th>\n",
       "      <th>low95</th>\n",
       "      <th>high95</th>\n",
       "      <th>pvalue</th>\n",
       "    </tr>\n",
       "  </thead>\n",
       "  <tbody>\n",
       "    <tr>\n",
       "      <td>intercept</td>\n",
       "      <td>0.944116</td>\n",
       "      <td>0.001081</td>\n",
       "      <td>0.941998</td>\n",
       "      <td>0.946234</td>\n",
       "      <td>0.0</td>\n",
       "    </tr>\n",
       "    <tr>\n",
       "      <td>x1</td>\n",
       "      <td>2.999261</td>\n",
       "      <td>0.001080</td>\n",
       "      <td>2.997144</td>\n",
       "      <td>3.001378</td>\n",
       "      <td>0.0</td>\n",
       "    </tr>\n",
       "    <tr>\n",
       "      <td>x2</td>\n",
       "      <td>2.000620</td>\n",
       "      <td>0.001079</td>\n",
       "      <td>1.998505</td>\n",
       "      <td>2.002735</td>\n",
       "      <td>0.0</td>\n",
       "    </tr>\n",
       "  </tbody>\n",
       "</table>\n",
       "</div>"
      ],
      "text/plain": [
       "              coeff    stderr     low95    high95  pvalue\n",
       "intercept  0.944116  0.001081  0.941998  0.946234     0.0\n",
       "x1         2.999261  0.001080  2.997144  3.001378     0.0\n",
       "x2         2.000620  0.001079  1.998505  2.002735     0.0"
      ]
     },
     "execution_count": 5,
     "metadata": {},
     "output_type": "execute_result"
    }
   ],
   "source": [
    "%time frl.ols(y='y', x=['x1', 'x2'], data=df)"
   ]
  },
  {
   "cell_type": "markdown",
   "metadata": {},
   "source": [
    "### Sparse OLS"
   ]
  },
  {
   "cell_type": "code",
   "execution_count": 6,
   "metadata": {},
   "outputs": [
    {
     "name": "stdout",
     "output_type": "stream",
     "text": [
      "CPU times: user 1.16 s, sys: 143 ms, total: 1.31 s\n",
      "Wall time: 1.2 s\n"
     ]
    },
    {
     "data": {
      "text/html": [
       "<div>\n",
       "<style scoped>\n",
       "    .dataframe tbody tr th:only-of-type {\n",
       "        vertical-align: middle;\n",
       "    }\n",
       "\n",
       "    .dataframe tbody tr th {\n",
       "        vertical-align: top;\n",
       "    }\n",
       "\n",
       "    .dataframe thead th {\n",
       "        text-align: right;\n",
       "    }\n",
       "</style>\n",
       "<table border=\"1\" class=\"dataframe\">\n",
       "  <thead>\n",
       "    <tr style=\"text-align: right;\">\n",
       "      <th></th>\n",
       "      <th>coeff</th>\n",
       "      <th>stderr</th>\n",
       "      <th>low95</th>\n",
       "      <th>high95</th>\n",
       "      <th>pvalue</th>\n",
       "    </tr>\n",
       "  </thead>\n",
       "  <tbody>\n",
       "    <tr>\n",
       "      <td>intercept</td>\n",
       "      <td>-0.009189</td>\n",
       "      <td>0.010404</td>\n",
       "      <td>-0.029580</td>\n",
       "      <td>0.011202</td>\n",
       "      <td>0.188546</td>\n",
       "    </tr>\n",
       "    <tr>\n",
       "      <td>x1</td>\n",
       "      <td>2.999921</td>\n",
       "      <td>0.000999</td>\n",
       "      <td>2.997962</td>\n",
       "      <td>3.001879</td>\n",
       "      <td>0.000000</td>\n",
       "    </tr>\n",
       "    <tr>\n",
       "      <td>x2</td>\n",
       "      <td>2.000417</td>\n",
       "      <td>0.000998</td>\n",
       "      <td>1.998461</td>\n",
       "      <td>2.002374</td>\n",
       "      <td>0.000000</td>\n",
       "    </tr>\n",
       "    <tr>\n",
       "      <td>id1=1</td>\n",
       "      <td>0.105988</td>\n",
       "      <td>0.004473</td>\n",
       "      <td>0.097222</td>\n",
       "      <td>0.114754</td>\n",
       "      <td>0.000000</td>\n",
       "    </tr>\n",
       "    <tr>\n",
       "      <td>id1=2</td>\n",
       "      <td>0.205539</td>\n",
       "      <td>0.004467</td>\n",
       "      <td>0.196783</td>\n",
       "      <td>0.214295</td>\n",
       "      <td>0.000000</td>\n",
       "    </tr>\n",
       "    <tr>\n",
       "      <td>...</td>\n",
       "      <td>...</td>\n",
       "      <td>...</td>\n",
       "      <td>...</td>\n",
       "      <td>...</td>\n",
       "      <td>...</td>\n",
       "    </tr>\n",
       "    <tr>\n",
       "      <td>id2=95</td>\n",
       "      <td>0.941612</td>\n",
       "      <td>0.014122</td>\n",
       "      <td>0.913934</td>\n",
       "      <td>0.969290</td>\n",
       "      <td>0.000000</td>\n",
       "    </tr>\n",
       "    <tr>\n",
       "      <td>id2=96</td>\n",
       "      <td>0.963148</td>\n",
       "      <td>0.014151</td>\n",
       "      <td>0.935412</td>\n",
       "      <td>0.990885</td>\n",
       "      <td>0.000000</td>\n",
       "    </tr>\n",
       "    <tr>\n",
       "      <td>id2=97</td>\n",
       "      <td>0.980529</td>\n",
       "      <td>0.014158</td>\n",
       "      <td>0.952781</td>\n",
       "      <td>1.008278</td>\n",
       "      <td>0.000000</td>\n",
       "    </tr>\n",
       "    <tr>\n",
       "      <td>id2=98</td>\n",
       "      <td>1.015244</td>\n",
       "      <td>0.014146</td>\n",
       "      <td>0.987518</td>\n",
       "      <td>1.042970</td>\n",
       "      <td>0.000000</td>\n",
       "    </tr>\n",
       "    <tr>\n",
       "      <td>id2=99</td>\n",
       "      <td>0.986658</td>\n",
       "      <td>0.014094</td>\n",
       "      <td>0.959035</td>\n",
       "      <td>1.014281</td>\n",
       "      <td>0.000000</td>\n",
       "    </tr>\n",
       "  </tbody>\n",
       "</table>\n",
       "<p>111 rows × 5 columns</p>\n",
       "</div>"
      ],
      "text/plain": [
       "              coeff    stderr     low95    high95    pvalue\n",
       "intercept -0.009189  0.010404 -0.029580  0.011202  0.188546\n",
       "x1         2.999921  0.000999  2.997962  3.001879  0.000000\n",
       "x2         2.000417  0.000998  1.998461  2.002374  0.000000\n",
       "id1=1      0.105988  0.004473  0.097222  0.114754  0.000000\n",
       "id1=2      0.205539  0.004467  0.196783  0.214295  0.000000\n",
       "...             ...       ...       ...       ...       ...\n",
       "id2=95     0.941612  0.014122  0.913934  0.969290  0.000000\n",
       "id2=96     0.963148  0.014151  0.935412  0.990885  0.000000\n",
       "id2=97     0.980529  0.014158  0.952781  1.008278  0.000000\n",
       "id2=98     1.015244  0.014146  0.987518  1.042970  0.000000\n",
       "id2=99     0.986658  0.014094  0.959035  1.014281  0.000000\n",
       "\n",
       "[111 rows x 5 columns]"
      ]
     },
     "execution_count": 6,
     "metadata": {},
     "output_type": "execute_result"
    }
   ],
   "source": [
    "%time frl.ols(y='y', x=['x1', 'x2'], fe=['id1', 'id2'], data=df)"
   ]
  },
  {
   "cell_type": "code",
   "execution_count": 7,
   "metadata": {},
   "outputs": [
    {
     "name": "stdout",
     "output_type": "stream",
     "text": [
      "CPU times: user 1.24 s, sys: 78.9 ms, total: 1.32 s\n",
      "Wall time: 1.32 s\n"
     ]
    }
   ],
   "source": [
    "%time _ = frl.ols(y='y', x=['x1', 'x2'], fe=[('id1', 'id2')], data=df)"
   ]
  },
  {
   "cell_type": "code",
   "execution_count": 8,
   "metadata": {},
   "outputs": [
    {
     "name": "stdout",
     "output_type": "stream",
     "text": [
      "CPU times: user 1.15 s, sys: 50.8 ms, total: 1.2 s\n",
      "Wall time: 1.2 s\n"
     ]
    }
   ],
   "source": [
    "%time _ = frl.ols(y='y', x=['x1', 'x2'], fe=[('id1', 'id2')], data=df, drop=None, intercept=False)"
   ]
  },
  {
   "cell_type": "markdown",
   "metadata": {},
   "source": [
    "### Poisson"
   ]
  },
  {
   "cell_type": "code",
   "execution_count": 9,
   "metadata": {},
   "outputs": [],
   "source": [
    "import tensorflow as tf\n",
    "import fastreg.general as frg"
   ]
  },
  {
   "cell_type": "code",
   "execution_count": 10,
   "metadata": {},
   "outputs": [],
   "source": [
    "physical_devices = tf.config.experimental.list_physical_devices('GPU')\n",
    "if len(physical_devices) > 0:\n",
    "    tf.config.experimental.set_memory_growth(physical_devices[0], True)"
   ]
  },
  {
   "cell_type": "code",
   "execution_count": 25,
   "metadata": {},
   "outputs": [
    {
     "name": "stdout",
     "output_type": "stream",
     "text": [
      "Train on 1000000 samples\n",
      "Epoch 1/3\n",
      "4890119/1000000 [==================================================================================================================================================] - 7s 1us/sample - loss: 0.5354 - accuracy: 0.3212\n",
      "Epoch 2/3\n",
      "4890119/1000000 [==================================================================================================================================================] - 6s 1us/sample - loss: 0.5208 - accuracy: 0.3218\n",
      "Epoch 3/3\n",
      "4890119/1000000 [==================================================================================================================================================] - 6s 1us/sample - loss: 0.5104 - accuracy: 0.3218\n",
      "CPU times: user 33.6 s, sys: 1.93 s, total: 35.6 s\n",
      "Wall time: 32.8 s\n"
     ]
    }
   ],
   "source": [
    "%time table = frg.poisson(y='p', x=['x1', 'x2'], fe=['id1', 'id2'], data=df, epochs=3)"
   ]
  },
  {
   "cell_type": "code",
   "execution_count": 26,
   "metadata": {},
   "outputs": [
    {
     "data": {
      "text/html": [
       "<div>\n",
       "<style scoped>\n",
       "    .dataframe tbody tr th:only-of-type {\n",
       "        vertical-align: middle;\n",
       "    }\n",
       "\n",
       "    .dataframe tbody tr th {\n",
       "        vertical-align: top;\n",
       "    }\n",
       "\n",
       "    .dataframe thead th {\n",
       "        text-align: right;\n",
       "    }\n",
       "</style>\n",
       "<table border=\"1\" class=\"dataframe\">\n",
       "  <thead>\n",
       "    <tr style=\"text-align: right;\">\n",
       "      <th></th>\n",
       "      <th>coeff</th>\n",
       "      <th>stderr</th>\n",
       "      <th>low95</th>\n",
       "      <th>high95</th>\n",
       "      <th>pvalue</th>\n",
       "    </tr>\n",
       "  </thead>\n",
       "  <tbody>\n",
       "    <tr>\n",
       "      <td>intercept</td>\n",
       "      <td>0.194470</td>\n",
       "      <td>0.008939</td>\n",
       "      <td>0.176950</td>\n",
       "      <td>0.211989</td>\n",
       "      <td>0.000000e+00</td>\n",
       "    </tr>\n",
       "    <tr>\n",
       "      <td>x1</td>\n",
       "      <td>0.611422</td>\n",
       "      <td>0.000790</td>\n",
       "      <td>0.609874</td>\n",
       "      <td>0.612970</td>\n",
       "      <td>0.000000e+00</td>\n",
       "    </tr>\n",
       "    <tr>\n",
       "      <td>x2</td>\n",
       "      <td>0.203949</td>\n",
       "      <td>0.000791</td>\n",
       "      <td>0.202399</td>\n",
       "      <td>0.205500</td>\n",
       "      <td>0.000000e+00</td>\n",
       "    </tr>\n",
       "    <tr>\n",
       "      <td>id1=1</td>\n",
       "      <td>0.019893</td>\n",
       "      <td>0.003546</td>\n",
       "      <td>0.012943</td>\n",
       "      <td>0.026844</td>\n",
       "      <td>1.013550e-08</td>\n",
       "    </tr>\n",
       "    <tr>\n",
       "      <td>id1=2</td>\n",
       "      <td>-0.035029</td>\n",
       "      <td>0.003554</td>\n",
       "      <td>-0.041994</td>\n",
       "      <td>-0.028063</td>\n",
       "      <td>0.000000e+00</td>\n",
       "    </tr>\n",
       "    <tr>\n",
       "      <td>...</td>\n",
       "      <td>...</td>\n",
       "      <td>...</td>\n",
       "      <td>...</td>\n",
       "      <td>...</td>\n",
       "      <td>...</td>\n",
       "    </tr>\n",
       "    <tr>\n",
       "      <td>id2=95</td>\n",
       "      <td>0.257444</td>\n",
       "      <td>0.011123</td>\n",
       "      <td>0.235644</td>\n",
       "      <td>0.279244</td>\n",
       "      <td>0.000000e+00</td>\n",
       "    </tr>\n",
       "    <tr>\n",
       "      <td>id2=96</td>\n",
       "      <td>0.304204</td>\n",
       "      <td>0.011147</td>\n",
       "      <td>0.282357</td>\n",
       "      <td>0.326051</td>\n",
       "      <td>0.000000e+00</td>\n",
       "    </tr>\n",
       "    <tr>\n",
       "      <td>id2=97</td>\n",
       "      <td>0.291566</td>\n",
       "      <td>0.011086</td>\n",
       "      <td>0.269837</td>\n",
       "      <td>0.313295</td>\n",
       "      <td>0.000000e+00</td>\n",
       "    </tr>\n",
       "    <tr>\n",
       "      <td>id2=98</td>\n",
       "      <td>0.292293</td>\n",
       "      <td>0.011139</td>\n",
       "      <td>0.270461</td>\n",
       "      <td>0.314125</td>\n",
       "      <td>0.000000e+00</td>\n",
       "    </tr>\n",
       "    <tr>\n",
       "      <td>id2=99</td>\n",
       "      <td>0.278094</td>\n",
       "      <td>0.011102</td>\n",
       "      <td>0.256334</td>\n",
       "      <td>0.299853</td>\n",
       "      <td>0.000000e+00</td>\n",
       "    </tr>\n",
       "  </tbody>\n",
       "</table>\n",
       "<p>111 rows × 5 columns</p>\n",
       "</div>"
      ],
      "text/plain": [
       "              coeff    stderr     low95    high95        pvalue\n",
       "intercept  0.194470  0.008939  0.176950  0.211989  0.000000e+00\n",
       "x1         0.611422  0.000790  0.609874  0.612970  0.000000e+00\n",
       "x2         0.203949  0.000791  0.202399  0.205500  0.000000e+00\n",
       "id1=1      0.019893  0.003546  0.012943  0.026844  1.013550e-08\n",
       "id1=2     -0.035029  0.003554 -0.041994 -0.028063  0.000000e+00\n",
       "...             ...       ...       ...       ...           ...\n",
       "id2=95     0.257444  0.011123  0.235644  0.279244  0.000000e+00\n",
       "id2=96     0.304204  0.011147  0.282357  0.326051  0.000000e+00\n",
       "id2=97     0.291566  0.011086  0.269837  0.313295  0.000000e+00\n",
       "id2=98     0.292293  0.011139  0.270461  0.314125  0.000000e+00\n",
       "id2=99     0.278094  0.011102  0.256334  0.299853  0.000000e+00\n",
       "\n",
       "[111 rows x 5 columns]"
      ]
     },
     "execution_count": 26,
     "metadata": {},
     "output_type": "execute_result"
    }
   ],
   "source": [
    "table"
   ]
  },
  {
   "cell_type": "code",
   "execution_count": 27,
   "metadata": {},
   "outputs": [],
   "source": [
    "coeff = table['coeff'].filter(regex='id2').rename('beta1').rename_axis('id2').reset_index()\n",
    "coeff['id2'] = coeff['id2'].apply(lambda s: s[4:]).astype(np.int)\n",
    "coeff['beta0'] = 0.5*coeff['id2']/100\n",
    "coeff['beta1'] += table.loc['intercept', 'coeff']"
   ]
  },
  {
   "cell_type": "code",
   "execution_count": 28,
   "metadata": {},
   "outputs": [
    {
     "data": {
      "image/png": "[encoded data removed]",
      "text/plain": [
       "<Figure size 432x360 with 1 Axes>"
      ]
     },
     "metadata": {
      "needs_background": "light"
     },
     "output_type": "display_data"
    }
   ],
   "source": [
    "bmax = 0.5*K2/100\n",
    "beta = np.linspace(0, bmax, 1000)\n",
    "fig, ax = plt.subplots(figsize=(6, 5))\n",
    "coeff.plot.scatter(x='beta0', y='beta1', ax=ax, alpha=0.5);\n",
    "ax.plot(beta, beta, c='r', linewidth=1, zorder=1);"
   ]
  },
  {
   "cell_type": "code",
   "execution_count": null,
   "metadata": {},
   "outputs": [],
   "source": []
  }
 ],
 "metadata": {
  "kernelspec": {
   "display_name": "Python 3.7",
   "language": "python",
   "name": "python3.7"
  },
  "language_info": {
   "codemirror_mode": {
    "name": "ipython",
    "version": 3
   },
   "file_extension": ".py",
   "mimetype": "text/x-python",
   "name": "python",
   "nbconvert_exporter": "python",
   "pygments_lexer": "ipython3",
   "version": "3.7.4"
  }
 },
 "nbformat": 4,
 "nbformat_minor": 4
}
