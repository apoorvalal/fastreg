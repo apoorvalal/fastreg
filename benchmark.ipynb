{
 "cells": [
  {
   "cell_type": "code",
   "execution_count": 1,
   "metadata": {},
   "outputs": [],
   "source": [
    "import statsmodels.formula.api as smf\n",
    "import matplotlib.pyplot as plt\n",
    "import fastreg.linear as frl\n",
    "%matplotlib inline"
   ]
  },
  {
   "cell_type": "markdown",
   "metadata": {},
   "source": [
    "### Generate Data"
   ]
  },
  {
   "cell_type": "code",
   "execution_count": 2,
   "metadata": {},
   "outputs": [],
   "source": [
    "st = np.random.RandomState(89320432)\n",
    "N, K1, K2 = 100_000, 10, 100"
   ]
  },
  {
   "cell_type": "code",
   "execution_count": 3,
   "metadata": {},
   "outputs": [
    {
     "data": {
      "text/html": [
       "<div>\n",
       "<style scoped>\n",
       "    .dataframe tbody tr th:only-of-type {\n",
       "        vertical-align: middle;\n",
       "    }\n",
       "\n",
       "    .dataframe tbody tr th {\n",
       "        vertical-align: top;\n",
       "    }\n",
       "\n",
       "    .dataframe thead th {\n",
       "        text-align: right;\n",
       "    }\n",
       "</style>\n",
       "<table border=\"1\" class=\"dataframe\">\n",
       "  <thead>\n",
       "    <tr style=\"text-align: right;\">\n",
       "      <th></th>\n",
       "      <th>id1</th>\n",
       "      <th>id2</th>\n",
       "      <th>x1</th>\n",
       "      <th>x2</th>\n",
       "      <th>y</th>\n",
       "      <th>lEp</th>\n",
       "      <th>Ep</th>\n",
       "      <th>p</th>\n",
       "      <th>p0</th>\n",
       "    </tr>\n",
       "  </thead>\n",
       "  <tbody>\n",
       "    <tr>\n",
       "      <td>0</td>\n",
       "      <td>4</td>\n",
       "      <td>37</td>\n",
       "      <td>-0.259664</td>\n",
       "      <td>0.957506</td>\n",
       "      <td>0.679871</td>\n",
       "      <td>0.035703</td>\n",
       "      <td>1.036348</td>\n",
       "      <td>1</td>\n",
       "      <td>1</td>\n",
       "    </tr>\n",
       "    <tr>\n",
       "      <td>1</td>\n",
       "      <td>8</td>\n",
       "      <td>65</td>\n",
       "      <td>0.334285</td>\n",
       "      <td>-1.045791</td>\n",
       "      <td>-1.213136</td>\n",
       "      <td>-0.008587</td>\n",
       "      <td>0.991449</td>\n",
       "      <td>0</td>\n",
       "      <td>0</td>\n",
       "    </tr>\n",
       "    <tr>\n",
       "      <td>2</td>\n",
       "      <td>8</td>\n",
       "      <td>10</td>\n",
       "      <td>0.067322</td>\n",
       "      <td>-0.631068</td>\n",
       "      <td>-1.484600</td>\n",
       "      <td>-0.085820</td>\n",
       "      <td>0.917759</td>\n",
       "      <td>1</td>\n",
       "      <td>1</td>\n",
       "    </tr>\n",
       "    <tr>\n",
       "      <td>3</td>\n",
       "      <td>8</td>\n",
       "      <td>10</td>\n",
       "      <td>0.384297</td>\n",
       "      <td>0.485393</td>\n",
       "      <td>1.381056</td>\n",
       "      <td>0.327657</td>\n",
       "      <td>1.387713</td>\n",
       "      <td>1</td>\n",
       "      <td>0</td>\n",
       "    </tr>\n",
       "    <tr>\n",
       "      <td>4</td>\n",
       "      <td>6</td>\n",
       "      <td>38</td>\n",
       "      <td>-1.584996</td>\n",
       "      <td>-1.037097</td>\n",
       "      <td>-7.523866</td>\n",
       "      <td>-1.158417</td>\n",
       "      <td>0.313983</td>\n",
       "      <td>0</td>\n",
       "      <td>0</td>\n",
       "    </tr>\n",
       "  </tbody>\n",
       "</table>\n",
       "</div>"
      ],
      "text/plain": [
       "   id1  id2        x1        x2         y       lEp        Ep  p  p0\n",
       "0    4   37 -0.259664  0.957506  0.679871  0.035703  1.036348  1   1\n",
       "1    8   65  0.334285 -1.045791 -1.213136 -0.008587  0.991449  0   0\n",
       "2    8   10  0.067322 -0.631068 -1.484600 -0.085820  0.917759  1   1\n",
       "3    8   10  0.384297  0.485393  1.381056  0.327657  1.387713  1   0\n",
       "4    6   38 -1.584996 -1.037097 -7.523866 -1.158417  0.313983  0   0"
      ]
     },
     "execution_count": 3,
     "metadata": {},
     "output_type": "execute_result"
    }
   ],
   "source": [
    "df0 = pd.DataFrame({\n",
    "    'id1': st.randint(K1, size=N),\n",
    "    'id2': st.randint(K2, size=N),\n",
    "    'x1': st.randn(N),\n",
    "    'x2': st.randn(N)\n",
    "})\n",
    "df0['y'] = 3*df0['x1'] + 2*df0['x2'] + st.randn(N)\n",
    "df0['lEp'] = 0.6*df0['x1'] + 0.2*df0['x2']\n",
    "df0['Ep'] = np.exp(df0['lEp'])\n",
    "df0['p'] = np.random.poisson(df0['Ep'])\n",
    "df0['p0'] = np.where(st.rand(N) < 0.2, 0, df0['p'])\n",
    "df0.head()"
   ]
  },
  {
   "cell_type": "code",
   "execution_count": 4,
   "metadata": {},
   "outputs": [
    {
     "data": {
      "text/html": [
       "<div>\n",
       "<style scoped>\n",
       "    .dataframe tbody tr th:only-of-type {\n",
       "        vertical-align: middle;\n",
       "    }\n",
       "\n",
       "    .dataframe tbody tr th {\n",
       "        vertical-align: top;\n",
       "    }\n",
       "\n",
       "    .dataframe thead th {\n",
       "        text-align: right;\n",
       "    }\n",
       "</style>\n",
       "<table border=\"1\" class=\"dataframe\">\n",
       "  <thead>\n",
       "    <tr style=\"text-align: right;\">\n",
       "      <th></th>\n",
       "      <th>id1</th>\n",
       "      <th>id2</th>\n",
       "      <th>x1</th>\n",
       "      <th>x2</th>\n",
       "      <th>y</th>\n",
       "      <th>lEp</th>\n",
       "      <th>Ep</th>\n",
       "      <th>p</th>\n",
       "    </tr>\n",
       "  </thead>\n",
       "  <tbody>\n",
       "    <tr>\n",
       "      <td>0</td>\n",
       "      <td>6</td>\n",
       "      <td>73</td>\n",
       "      <td>1.523574</td>\n",
       "      <td>0.217466</td>\n",
       "      <td>5.722923</td>\n",
       "      <td>1.334637</td>\n",
       "      <td>3.798618</td>\n",
       "      <td>3</td>\n",
       "    </tr>\n",
       "    <tr>\n",
       "      <td>1</td>\n",
       "      <td>7</td>\n",
       "      <td>5</td>\n",
       "      <td>-0.477160</td>\n",
       "      <td>0.992419</td>\n",
       "      <td>1.810419</td>\n",
       "      <td>-0.048812</td>\n",
       "      <td>0.952360</td>\n",
       "      <td>2</td>\n",
       "    </tr>\n",
       "    <tr>\n",
       "      <td>2</td>\n",
       "      <td>4</td>\n",
       "      <td>46</td>\n",
       "      <td>-0.720889</td>\n",
       "      <td>0.157152</td>\n",
       "      <td>-0.820688</td>\n",
       "      <td>-0.163103</td>\n",
       "      <td>0.849504</td>\n",
       "      <td>0</td>\n",
       "    </tr>\n",
       "    <tr>\n",
       "      <td>3</td>\n",
       "      <td>3</td>\n",
       "      <td>38</td>\n",
       "      <td>1.738053</td>\n",
       "      <td>0.770928</td>\n",
       "      <td>8.797231</td>\n",
       "      <td>1.393017</td>\n",
       "      <td>4.026982</td>\n",
       "      <td>4</td>\n",
       "    </tr>\n",
       "    <tr>\n",
       "      <td>4</td>\n",
       "      <td>0</td>\n",
       "      <td>63</td>\n",
       "      <td>0.035853</td>\n",
       "      <td>-0.380131</td>\n",
       "      <td>-0.422168</td>\n",
       "      <td>0.260486</td>\n",
       "      <td>1.297560</td>\n",
       "      <td>4</td>\n",
       "    </tr>\n",
       "  </tbody>\n",
       "</table>\n",
       "</div>"
      ],
      "text/plain": [
       "   id1  id2        x1        x2         y       lEp        Ep  p\n",
       "0    6   73  1.523574  0.217466  5.722923  1.334637  3.798618  3\n",
       "1    7    5 -0.477160  0.992419  1.810419 -0.048812  0.952360  2\n",
       "2    4   46 -0.720889  0.157152 -0.820688 -0.163103  0.849504  0\n",
       "3    3   38  1.738053  0.770928  8.797231  1.393017  4.026982  4\n",
       "4    0   63  0.035853 -0.380131 -0.422168  0.260486  1.297560  4"
      ]
     },
     "execution_count": 4,
     "metadata": {},
     "output_type": "execute_result"
    }
   ],
   "source": [
    "df = pd.DataFrame({\n",
    "    'id1': st.randint(K1, size=N),\n",
    "    'id2': st.randint(K2, size=N),\n",
    "    'x1': st.randn(N),\n",
    "    'x2': st.randn(N)\n",
    "})\n",
    "df['y'] = 3*df['x1'] + 2*df['x2'] + 0.1*df['id1'] + 0.01*df['id2'] + st.randn(N)\n",
    "df['lEp'] = 0.6*df['x1'] + 0.2*df['x2'] + 0.2*df['id1']/100 + 0.5*df['id2']/100\n",
    "df['Ep'] = np.exp(df['lEp'])\n",
    "df['p'] = np.random.poisson(df['Ep'])\n",
    "df.head()"
   ]
  },
  {
   "cell_type": "markdown",
   "metadata": {},
   "source": [
    "### Normal OLS"
   ]
  },
  {
   "cell_type": "code",
   "execution_count": 123,
   "metadata": {},
   "outputs": [
    {
     "name": "stdout",
     "output_type": "stream",
     "text": [
      "CPU times: user 70.6 ms, sys: 36.8 ms, total: 107 ms\n",
      "Wall time: 49.6 ms\n"
     ]
    },
    {
     "name": "stderr",
     "output_type": "stream",
     "text": [
      "/home/doug/.local/lib/python3.7/site-packages/statsmodels/compat/pandas.py:49: FutureWarning: The Panel class is removed from pandas. Accessing it from the top-level namespace will also be removed in the next version\n",
      "  data_klasses = (pandas.Series, pandas.DataFrame, pandas.Panel)\n"
     ]
    },
    {
     "data": {
      "text/plain": [
       "Intercept    0.947579\n",
       "x1           3.001643\n",
       "x2           1.999213\n",
       "dtype: float64"
      ]
     },
     "execution_count": 123,
     "metadata": {},
     "output_type": "execute_result"
    }
   ],
   "source": [
    "%time smf.ols('y ~ x1 + x2', data=df).fit().params"
   ]
  },
  {
   "cell_type": "code",
   "execution_count": 124,
   "metadata": {},
   "outputs": [
    {
     "name": "stdout",
     "output_type": "stream",
     "text": [
      "CPU times: user 33.7 ms, sys: 20.9 ms, total: 54.6 ms\n",
      "Wall time: 10.9 ms\n"
     ]
    },
    {
     "data": {
      "text/html": [
       "<div>\n",
       "<style scoped>\n",
       "    .dataframe tbody tr th:only-of-type {\n",
       "        vertical-align: middle;\n",
       "    }\n",
       "\n",
       "    .dataframe tbody tr th {\n",
       "        vertical-align: top;\n",
       "    }\n",
       "\n",
       "    .dataframe thead th {\n",
       "        text-align: right;\n",
       "    }\n",
       "</style>\n",
       "<table border=\"1\" class=\"dataframe\">\n",
       "  <thead>\n",
       "    <tr style=\"text-align: right;\">\n",
       "      <th></th>\n",
       "      <th>coeff</th>\n",
       "      <th>stderr</th>\n",
       "      <th>low95</th>\n",
       "      <th>high95</th>\n",
       "      <th>pvalue</th>\n",
       "    </tr>\n",
       "  </thead>\n",
       "  <tbody>\n",
       "    <tr>\n",
       "      <td>intercept</td>\n",
       "      <td>0.947579</td>\n",
       "      <td>0.003413</td>\n",
       "      <td>0.940890</td>\n",
       "      <td>0.954268</td>\n",
       "      <td>0.0</td>\n",
       "    </tr>\n",
       "    <tr>\n",
       "      <td>x1</td>\n",
       "      <td>3.001643</td>\n",
       "      <td>0.003415</td>\n",
       "      <td>2.994949</td>\n",
       "      <td>3.008336</td>\n",
       "      <td>0.0</td>\n",
       "    </tr>\n",
       "    <tr>\n",
       "      <td>x2</td>\n",
       "      <td>1.999213</td>\n",
       "      <td>0.003407</td>\n",
       "      <td>1.992535</td>\n",
       "      <td>2.005892</td>\n",
       "      <td>0.0</td>\n",
       "    </tr>\n",
       "  </tbody>\n",
       "</table>\n",
       "</div>"
      ],
      "text/plain": [
       "              coeff    stderr     low95    high95  pvalue\n",
       "intercept  0.947579  0.003413  0.940890  0.954268     0.0\n",
       "x1         3.001643  0.003415  2.994949  3.008336     0.0\n",
       "x2         1.999213  0.003407  1.992535  2.005892     0.0"
      ]
     },
     "execution_count": 124,
     "metadata": {},
     "output_type": "execute_result"
    }
   ],
   "source": [
    "%time frl.ols(y='y', x=['x1', 'x2'], data=df)"
   ]
  },
  {
   "cell_type": "markdown",
   "metadata": {},
   "source": [
    "### Sparse OLS"
   ]
  },
  {
   "cell_type": "code",
   "execution_count": 11,
   "metadata": {},
   "outputs": [
    {
     "name": "stdout",
     "output_type": "stream",
     "text": [
      "CPU times: user 1.04 s, sys: 59.9 ms, total: 1.1 s\n",
      "Wall time: 1.1 s\n"
     ]
    },
    {
     "data": {
      "text/html": [
       "<div>\n",
       "<style scoped>\n",
       "    .dataframe tbody tr th:only-of-type {\n",
       "        vertical-align: middle;\n",
       "    }\n",
       "\n",
       "    .dataframe tbody tr th {\n",
       "        vertical-align: top;\n",
       "    }\n",
       "\n",
       "    .dataframe thead th {\n",
       "        text-align: right;\n",
       "    }\n",
       "</style>\n",
       "<table border=\"1\" class=\"dataframe\">\n",
       "  <thead>\n",
       "    <tr style=\"text-align: right;\">\n",
       "      <th></th>\n",
       "      <th>coeff</th>\n",
       "      <th>stderr</th>\n",
       "      <th>low95</th>\n",
       "      <th>high95</th>\n",
       "      <th>pvalue</th>\n",
       "    </tr>\n",
       "  </thead>\n",
       "  <tbody>\n",
       "    <tr>\n",
       "      <td>intercept</td>\n",
       "      <td>-0.009189</td>\n",
       "      <td>0.010404</td>\n",
       "      <td>-0.029580</td>\n",
       "      <td>0.011202</td>\n",
       "      <td>0.188546</td>\n",
       "    </tr>\n",
       "    <tr>\n",
       "      <td>x1</td>\n",
       "      <td>2.999921</td>\n",
       "      <td>0.000999</td>\n",
       "      <td>2.997962</td>\n",
       "      <td>3.001879</td>\n",
       "      <td>0.000000</td>\n",
       "    </tr>\n",
       "    <tr>\n",
       "      <td>x2</td>\n",
       "      <td>2.000417</td>\n",
       "      <td>0.000998</td>\n",
       "      <td>1.998461</td>\n",
       "      <td>2.002374</td>\n",
       "      <td>0.000000</td>\n",
       "    </tr>\n",
       "    <tr>\n",
       "      <td>id1=1</td>\n",
       "      <td>0.105988</td>\n",
       "      <td>0.004473</td>\n",
       "      <td>0.097222</td>\n",
       "      <td>0.114754</td>\n",
       "      <td>0.000000</td>\n",
       "    </tr>\n",
       "    <tr>\n",
       "      <td>id1=2</td>\n",
       "      <td>0.205539</td>\n",
       "      <td>0.004467</td>\n",
       "      <td>0.196783</td>\n",
       "      <td>0.214295</td>\n",
       "      <td>0.000000</td>\n",
       "    </tr>\n",
       "    <tr>\n",
       "      <td>...</td>\n",
       "      <td>...</td>\n",
       "      <td>...</td>\n",
       "      <td>...</td>\n",
       "      <td>...</td>\n",
       "      <td>...</td>\n",
       "    </tr>\n",
       "    <tr>\n",
       "      <td>id2=95</td>\n",
       "      <td>0.941612</td>\n",
       "      <td>0.014122</td>\n",
       "      <td>0.913934</td>\n",
       "      <td>0.969290</td>\n",
       "      <td>0.000000</td>\n",
       "    </tr>\n",
       "    <tr>\n",
       "      <td>id2=96</td>\n",
       "      <td>0.963148</td>\n",
       "      <td>0.014151</td>\n",
       "      <td>0.935412</td>\n",
       "      <td>0.990885</td>\n",
       "      <td>0.000000</td>\n",
       "    </tr>\n",
       "    <tr>\n",
       "      <td>id2=97</td>\n",
       "      <td>0.980529</td>\n",
       "      <td>0.014158</td>\n",
       "      <td>0.952781</td>\n",
       "      <td>1.008278</td>\n",
       "      <td>0.000000</td>\n",
       "    </tr>\n",
       "    <tr>\n",
       "      <td>id2=98</td>\n",
       "      <td>1.015244</td>\n",
       "      <td>0.014146</td>\n",
       "      <td>0.987518</td>\n",
       "      <td>1.042970</td>\n",
       "      <td>0.000000</td>\n",
       "    </tr>\n",
       "    <tr>\n",
       "      <td>id2=99</td>\n",
       "      <td>0.986658</td>\n",
       "      <td>0.014094</td>\n",
       "      <td>0.959035</td>\n",
       "      <td>1.014281</td>\n",
       "      <td>0.000000</td>\n",
       "    </tr>\n",
       "  </tbody>\n",
       "</table>\n",
       "<p>111 rows × 5 columns</p>\n",
       "</div>"
      ],
      "text/plain": [
       "              coeff    stderr     low95    high95    pvalue\n",
       "intercept -0.009189  0.010404 -0.029580  0.011202  0.188546\n",
       "x1         2.999921  0.000999  2.997962  3.001879  0.000000\n",
       "x2         2.000417  0.000998  1.998461  2.002374  0.000000\n",
       "id1=1      0.105988  0.004473  0.097222  0.114754  0.000000\n",
       "id1=2      0.205539  0.004467  0.196783  0.214295  0.000000\n",
       "...             ...       ...       ...       ...       ...\n",
       "id2=95     0.941612  0.014122  0.913934  0.969290  0.000000\n",
       "id2=96     0.963148  0.014151  0.935412  0.990885  0.000000\n",
       "id2=97     0.980529  0.014158  0.952781  1.008278  0.000000\n",
       "id2=98     1.015244  0.014146  0.987518  1.042970  0.000000\n",
       "id2=99     0.986658  0.014094  0.959035  1.014281  0.000000\n",
       "\n",
       "[111 rows x 5 columns]"
      ]
     },
     "execution_count": 11,
     "metadata": {},
     "output_type": "execute_result"
    }
   ],
   "source": [
    "%time frl.ols(y='y', x=['x1', 'x2'], fe=['id1', 'id2'], data=df)"
   ]
  },
  {
   "cell_type": "code",
   "execution_count": 12,
   "metadata": {},
   "outputs": [
    {
     "name": "stdout",
     "output_type": "stream",
     "text": [
      "CPU times: user 1.24 s, sys: 76.8 ms, total: 1.31 s\n",
      "Wall time: 1.32 s\n"
     ]
    }
   ],
   "source": [
    "%time _ = frl.ols(y='y', x=['x1', 'x2'], fe=[('id1', 'id2')], data=df)"
   ]
  },
  {
   "cell_type": "code",
   "execution_count": 13,
   "metadata": {},
   "outputs": [
    {
     "name": "stdout",
     "output_type": "stream",
     "text": [
      "CPU times: user 1.11 s, sys: 47.7 ms, total: 1.16 s\n",
      "Wall time: 1.16 s\n"
     ]
    }
   ],
   "source": [
    "%time _ = frl.ols(y='y', x=['x1', 'x2'], fe=[('id1', 'id2')], data=df, drop=None, intercept=False)"
   ]
  },
  {
   "cell_type": "code",
   "execution_count": 100,
   "metadata": {},
   "outputs": [
    {
     "name": "stdout",
     "output_type": "stream",
     "text": [
      "CPU times: user 74.6 ms, sys: 5.98 ms, total: 80.6 ms\n",
      "Wall time: 81 ms\n"
     ]
    },
    {
     "data": {
      "text/html": [
       "<div>\n",
       "<style scoped>\n",
       "    .dataframe tbody tr th:only-of-type {\n",
       "        vertical-align: middle;\n",
       "    }\n",
       "\n",
       "    .dataframe tbody tr th {\n",
       "        vertical-align: top;\n",
       "    }\n",
       "\n",
       "    .dataframe thead th {\n",
       "        text-align: right;\n",
       "    }\n",
       "</style>\n",
       "<table border=\"1\" class=\"dataframe\">\n",
       "  <thead>\n",
       "    <tr style=\"text-align: right;\">\n",
       "      <th></th>\n",
       "      <th>coeff</th>\n",
       "      <th>stderr</th>\n",
       "      <th>low95</th>\n",
       "      <th>high95</th>\n",
       "      <th>pvalue</th>\n",
       "    </tr>\n",
       "  </thead>\n",
       "  <tbody>\n",
       "    <tr>\n",
       "      <td>x1</td>\n",
       "      <td>3.063206</td>\n",
       "      <td>0.003264</td>\n",
       "      <td>3.056809</td>\n",
       "      <td>3.069603</td>\n",
       "      <td>0.0</td>\n",
       "    </tr>\n",
       "    <tr>\n",
       "      <td>x2</td>\n",
       "      <td>2.012260</td>\n",
       "      <td>0.003385</td>\n",
       "      <td>2.005626</td>\n",
       "      <td>2.018893</td>\n",
       "      <td>0.0</td>\n",
       "    </tr>\n",
       "    <tr>\n",
       "      <td>id1=1</td>\n",
       "      <td>-4.165901</td>\n",
       "      <td>0.013006</td>\n",
       "      <td>-4.191393</td>\n",
       "      <td>-4.140409</td>\n",
       "      <td>0.0</td>\n",
       "    </tr>\n",
       "    <tr>\n",
       "      <td>id1=2</td>\n",
       "      <td>3.779030</td>\n",
       "      <td>0.013993</td>\n",
       "      <td>3.751604</td>\n",
       "      <td>3.806456</td>\n",
       "      <td>0.0</td>\n",
       "    </tr>\n",
       "    <tr>\n",
       "      <td>id1=3</td>\n",
       "      <td>-8.782591</td>\n",
       "      <td>0.014797</td>\n",
       "      <td>-8.811594</td>\n",
       "      <td>-8.753589</td>\n",
       "      <td>0.0</td>\n",
       "    </tr>\n",
       "    <tr>\n",
       "      <td>id1=4</td>\n",
       "      <td>0.566014</td>\n",
       "      <td>0.014073</td>\n",
       "      <td>0.538432</td>\n",
       "      <td>0.593596</td>\n",
       "      <td>0.0</td>\n",
       "    </tr>\n",
       "    <tr>\n",
       "      <td>id1=5</td>\n",
       "      <td>-4.182977</td>\n",
       "      <td>0.014393</td>\n",
       "      <td>-4.211188</td>\n",
       "      <td>-4.154767</td>\n",
       "      <td>0.0</td>\n",
       "    </tr>\n",
       "    <tr>\n",
       "      <td>id1=6</td>\n",
       "      <td>-5.580758</td>\n",
       "      <td>0.014630</td>\n",
       "      <td>-5.609433</td>\n",
       "      <td>-5.552083</td>\n",
       "      <td>0.0</td>\n",
       "    </tr>\n",
       "    <tr>\n",
       "      <td>id1=7</td>\n",
       "      <td>-1.470964</td>\n",
       "      <td>0.014767</td>\n",
       "      <td>-1.499906</td>\n",
       "      <td>-1.442021</td>\n",
       "      <td>0.0</td>\n",
       "    </tr>\n",
       "    <tr>\n",
       "      <td>id1=8</td>\n",
       "      <td>-1.836746</td>\n",
       "      <td>0.013664</td>\n",
       "      <td>-1.863528</td>\n",
       "      <td>-1.809965</td>\n",
       "      <td>0.0</td>\n",
       "    </tr>\n",
       "    <tr>\n",
       "      <td>id1=9</td>\n",
       "      <td>-1.135920</td>\n",
       "      <td>0.015042</td>\n",
       "      <td>-1.165402</td>\n",
       "      <td>-1.106439</td>\n",
       "      <td>0.0</td>\n",
       "    </tr>\n",
       "  </tbody>\n",
       "</table>\n",
       "</div>"
      ],
      "text/plain": [
       "          coeff    stderr     low95    high95  pvalue\n",
       "x1     3.063206  0.003264  3.056809  3.069603     0.0\n",
       "x2     2.012260  0.003385  2.005626  2.018893     0.0\n",
       "id1=1 -4.165901  0.013006 -4.191393 -4.140409     0.0\n",
       "id1=2  3.779030  0.013993  3.751604  3.806456     0.0\n",
       "id1=3 -8.782591  0.014797 -8.811594 -8.753589     0.0\n",
       "id1=4  0.566014  0.014073  0.538432  0.593596     0.0\n",
       "id1=5 -4.182977  0.014393 -4.211188 -4.154767     0.0\n",
       "id1=6 -5.580758  0.014630 -5.609433 -5.552083     0.0\n",
       "id1=7 -1.470964  0.014767 -1.499906 -1.442021     0.0\n",
       "id1=8 -1.836746  0.013664 -1.863528 -1.809965     0.0\n",
       "id1=9 -1.135920  0.015042 -1.165402 -1.106439     0.0"
      ]
     },
     "execution_count": 100,
     "metadata": {},
     "output_type": "execute_result"
    }
   ],
   "source": [
    "%time frl.ols(y='y', x=['x1', 'x2'], fe=['id1'], ab=['id2'], intercept=False, data=df)"
   ]
  },
  {
   "cell_type": "code",
   "execution_count": 6,
   "metadata": {},
   "outputs": [],
   "source": [
    "import fastreg.design as des"
   ]
  },
  {
   "cell_type": "code",
   "execution_count": 8,
   "metadata": {},
   "outputs": [
    {
     "data": {
      "text/plain": [
       "array([[ 0.        ,  0.        ],\n",
       "       [ 0.        ,  0.        ],\n",
       "       [ 0.        ,  0.        ],\n",
       "       ...,\n",
       "       [-1.01852421, -0.04090869],\n",
       "       [-0.0758625 ,  0.4236748 ],\n",
       "       [ 1.38333201,  0.80667553]])"
      ]
     },
     "execution_count": 8,
     "metadata": {},
     "output_type": "execute_result"
    }
   ],
   "source": [
    "des.design_matrices(y='y', x=['x1', 'x2'], absorb='id1', data=df)[1]"
   ]
  },
  {
   "cell_type": "code",
   "execution_count": 17,
   "metadata": {},
   "outputs": [
    {
     "data": {
      "text/html": [
       "<div>\n",
       "<style scoped>\n",
       "    .dataframe tbody tr th:only-of-type {\n",
       "        vertical-align: middle;\n",
       "    }\n",
       "\n",
       "    .dataframe tbody tr th {\n",
       "        vertical-align: top;\n",
       "    }\n",
       "\n",
       "    .dataframe thead th {\n",
       "        text-align: right;\n",
       "    }\n",
       "</style>\n",
       "<table border=\"1\" class=\"dataframe\">\n",
       "  <thead>\n",
       "    <tr style=\"text-align: right;\">\n",
       "      <th></th>\n",
       "      <th>coeff</th>\n",
       "      <th>stderr</th>\n",
       "      <th>low95</th>\n",
       "      <th>high95</th>\n",
       "      <th>pvalue</th>\n",
       "    </tr>\n",
       "  </thead>\n",
       "  <tbody>\n",
       "    <tr>\n",
       "      <td>x1</td>\n",
       "      <td>2.843410</td>\n",
       "      <td>0.137274</td>\n",
       "      <td>2.574358</td>\n",
       "      <td>3.112462</td>\n",
       "      <td>0.0</td>\n",
       "    </tr>\n",
       "    <tr>\n",
       "      <td>x2</td>\n",
       "      <td>2.074087</td>\n",
       "      <td>0.074252</td>\n",
       "      <td>1.928555</td>\n",
       "      <td>2.219618</td>\n",
       "      <td>0.0</td>\n",
       "    </tr>\n",
       "  </tbody>\n",
       "</table>\n",
       "</div>"
      ],
      "text/plain": [
       "       coeff    stderr     low95    high95  pvalue\n",
       "x1  2.843410  0.137274  2.574358  3.112462     0.0\n",
       "x2  2.074087  0.074252  1.928555  2.219618     0.0"
      ]
     },
     "execution_count": 17,
     "metadata": {},
     "output_type": "execute_result"
    }
   ],
   "source": [
    "frl.ols(y='y', x=['x1', 'x2'], absorb='id1', data=df0)"
   ]
  },
  {
   "cell_type": "code",
   "execution_count": 18,
   "metadata": {},
   "outputs": [
    {
     "data": {
      "text/html": [
       "<div>\n",
       "<style scoped>\n",
       "    .dataframe tbody tr th:only-of-type {\n",
       "        vertical-align: middle;\n",
       "    }\n",
       "\n",
       "    .dataframe tbody tr th {\n",
       "        vertical-align: top;\n",
       "    }\n",
       "\n",
       "    .dataframe thead th {\n",
       "        text-align: right;\n",
       "    }\n",
       "</style>\n",
       "<table border=\"1\" class=\"dataframe\">\n",
       "  <thead>\n",
       "    <tr style=\"text-align: right;\">\n",
       "      <th></th>\n",
       "      <th>coeff</th>\n",
       "      <th>stderr</th>\n",
       "      <th>low95</th>\n",
       "      <th>high95</th>\n",
       "      <th>pvalue</th>\n",
       "    </tr>\n",
       "  </thead>\n",
       "  <tbody>\n",
       "    <tr>\n",
       "      <td>intercept</td>\n",
       "      <td>1.248051</td>\n",
       "      <td>0.009990</td>\n",
       "      <td>1.228471</td>\n",
       "      <td>1.267631</td>\n",
       "      <td>0.000000</td>\n",
       "    </tr>\n",
       "    <tr>\n",
       "      <td>x1</td>\n",
       "      <td>3.003640</td>\n",
       "      <td>0.003167</td>\n",
       "      <td>2.997433</td>\n",
       "      <td>3.009847</td>\n",
       "      <td>0.000000</td>\n",
       "    </tr>\n",
       "    <tr>\n",
       "      <td>x2</td>\n",
       "      <td>2.002859</td>\n",
       "      <td>0.003147</td>\n",
       "      <td>1.996690</td>\n",
       "      <td>2.009028</td>\n",
       "      <td>0.000000</td>\n",
       "    </tr>\n",
       "    <tr>\n",
       "      <td>id1=1</td>\n",
       "      <td>-0.153476</td>\n",
       "      <td>0.014143</td>\n",
       "      <td>-0.181195</td>\n",
       "      <td>-0.125758</td>\n",
       "      <td>0.000000</td>\n",
       "    </tr>\n",
       "    <tr>\n",
       "      <td>id1=2</td>\n",
       "      <td>1.791407</td>\n",
       "      <td>0.014092</td>\n",
       "      <td>1.763787</td>\n",
       "      <td>1.819027</td>\n",
       "      <td>0.000000</td>\n",
       "    </tr>\n",
       "    <tr>\n",
       "      <td>id1=3</td>\n",
       "      <td>-0.993266</td>\n",
       "      <td>0.014172</td>\n",
       "      <td>-1.021041</td>\n",
       "      <td>-0.965490</td>\n",
       "      <td>0.000000</td>\n",
       "    </tr>\n",
       "    <tr>\n",
       "      <td>id1=4</td>\n",
       "      <td>-1.939988</td>\n",
       "      <td>0.014095</td>\n",
       "      <td>-1.967615</td>\n",
       "      <td>-1.912362</td>\n",
       "      <td>0.000000</td>\n",
       "    </tr>\n",
       "    <tr>\n",
       "      <td>id1=5</td>\n",
       "      <td>-3.354220</td>\n",
       "      <td>0.014165</td>\n",
       "      <td>-3.381983</td>\n",
       "      <td>-3.326457</td>\n",
       "      <td>0.000000</td>\n",
       "    </tr>\n",
       "    <tr>\n",
       "      <td>id1=6</td>\n",
       "      <td>6.290103</td>\n",
       "      <td>0.014188</td>\n",
       "      <td>6.262295</td>\n",
       "      <td>6.317912</td>\n",
       "      <td>0.000000</td>\n",
       "    </tr>\n",
       "    <tr>\n",
       "      <td>id1=7</td>\n",
       "      <td>-0.124551</td>\n",
       "      <td>0.014188</td>\n",
       "      <td>-0.152358</td>\n",
       "      <td>-0.096743</td>\n",
       "      <td>0.000000</td>\n",
       "    </tr>\n",
       "    <tr>\n",
       "      <td>id1=8</td>\n",
       "      <td>-0.046811</td>\n",
       "      <td>0.014134</td>\n",
       "      <td>-0.074513</td>\n",
       "      <td>-0.019108</td>\n",
       "      <td>0.000463</td>\n",
       "    </tr>\n",
       "    <tr>\n",
       "      <td>id1=9</td>\n",
       "      <td>-11.233678</td>\n",
       "      <td>0.014048</td>\n",
       "      <td>-11.261212</td>\n",
       "      <td>-11.206144</td>\n",
       "      <td>0.000000</td>\n",
       "    </tr>\n",
       "  </tbody>\n",
       "</table>\n",
       "</div>"
      ],
      "text/plain": [
       "               coeff    stderr      low95     high95    pvalue\n",
       "intercept   1.248051  0.009990   1.228471   1.267631  0.000000\n",
       "x1          3.003640  0.003167   2.997433   3.009847  0.000000\n",
       "x2          2.002859  0.003147   1.996690   2.009028  0.000000\n",
       "id1=1      -0.153476  0.014143  -0.181195  -0.125758  0.000000\n",
       "id1=2       1.791407  0.014092   1.763787   1.819027  0.000000\n",
       "id1=3      -0.993266  0.014172  -1.021041  -0.965490  0.000000\n",
       "id1=4      -1.939988  0.014095  -1.967615  -1.912362  0.000000\n",
       "id1=5      -3.354220  0.014165  -3.381983  -3.326457  0.000000\n",
       "id1=6       6.290103  0.014188   6.262295   6.317912  0.000000\n",
       "id1=7      -0.124551  0.014188  -0.152358  -0.096743  0.000000\n",
       "id1=8      -0.046811  0.014134  -0.074513  -0.019108  0.000463\n",
       "id1=9     -11.233678  0.014048 -11.261212 -11.206144  0.000000"
      ]
     },
     "execution_count": 18,
     "metadata": {},
     "output_type": "execute_result"
    }
   ],
   "source": [
    "frl.ols(y='y', x=['x1', 'x2'], fe=['id1'], data=df0)"
   ]
  },
  {
   "cell_type": "markdown",
   "metadata": {},
   "source": [
    "### Poisson"
   ]
  },
  {
   "cell_type": "code",
   "execution_count": 9,
   "metadata": {},
   "outputs": [],
   "source": [
    "import fastreg.general as frg"
   ]
  },
  {
   "cell_type": "code",
   "execution_count": 12,
   "metadata": {},
   "outputs": [
    {
     "name": "stdout",
     "output_type": "stream",
     "text": [
      "Train on 1000000 samples\n",
      "Epoch 1/3\n",
      "4890119/1000000 [==================================================================================================================================================] - 7s 1us/sample - loss: 0.5120 - accuracy: 0.3211\n",
      "Epoch 2/3\n",
      "4890119/1000000 [==================================================================================================================================================] - 6s 1us/sample - loss: 0.5341 - accuracy: 0.3218\n",
      "Epoch 3/3\n",
      "4890119/1000000 [==================================================================================================================================================] - 6s 1us/sample - loss: 0.4827 - accuracy: 0.3218\n",
      "CPU times: user 33.1 s, sys: 2.02 s, total: 35.1 s\n",
      "Wall time: 32 s\n"
     ]
    }
   ],
   "source": [
    "%time table = frg.poisson(y='p', x=['x1', 'x2'], fe=['id1', 'id2'], data=df, epochs=3)"
   ]
  },
  {
   "cell_type": "code",
   "execution_count": 13,
   "metadata": {},
   "outputs": [
    {
     "data": {
      "text/html": [
       "<div>\n",
       "<style scoped>\n",
       "    .dataframe tbody tr th:only-of-type {\n",
       "        vertical-align: middle;\n",
       "    }\n",
       "\n",
       "    .dataframe tbody tr th {\n",
       "        vertical-align: top;\n",
       "    }\n",
       "\n",
       "    .dataframe thead th {\n",
       "        text-align: right;\n",
       "    }\n",
       "</style>\n",
       "<table border=\"1\" class=\"dataframe\">\n",
       "  <thead>\n",
       "    <tr style=\"text-align: right;\">\n",
       "      <th></th>\n",
       "      <th>coeff</th>\n",
       "      <th>stderr</th>\n",
       "      <th>low95</th>\n",
       "      <th>high95</th>\n",
       "      <th>pvalue</th>\n",
       "    </tr>\n",
       "  </thead>\n",
       "  <tbody>\n",
       "    <tr>\n",
       "      <td>intercept</td>\n",
       "      <td>0.229401</td>\n",
       "      <td>0.008529</td>\n",
       "      <td>0.212685</td>\n",
       "      <td>0.246117</td>\n",
       "      <td>0.000000</td>\n",
       "    </tr>\n",
       "    <tr>\n",
       "      <td>x1</td>\n",
       "      <td>0.622568</td>\n",
       "      <td>0.000784</td>\n",
       "      <td>0.621032</td>\n",
       "      <td>0.624104</td>\n",
       "      <td>0.000000</td>\n",
       "    </tr>\n",
       "    <tr>\n",
       "      <td>x2</td>\n",
       "      <td>0.216123</td>\n",
       "      <td>0.000784</td>\n",
       "      <td>0.214586</td>\n",
       "      <td>0.217661</td>\n",
       "      <td>0.000000</td>\n",
       "    </tr>\n",
       "    <tr>\n",
       "      <td>id1=1</td>\n",
       "      <td>0.000780</td>\n",
       "      <td>0.003545</td>\n",
       "      <td>-0.006169</td>\n",
       "      <td>0.007729</td>\n",
       "      <td>0.412930</td>\n",
       "    </tr>\n",
       "    <tr>\n",
       "      <td>id1=2</td>\n",
       "      <td>-0.012831</td>\n",
       "      <td>0.003538</td>\n",
       "      <td>-0.019766</td>\n",
       "      <td>-0.005897</td>\n",
       "      <td>0.000144</td>\n",
       "    </tr>\n",
       "    <tr>\n",
       "      <td>...</td>\n",
       "      <td>...</td>\n",
       "      <td>...</td>\n",
       "      <td>...</td>\n",
       "      <td>...</td>\n",
       "      <td>...</td>\n",
       "    </tr>\n",
       "    <tr>\n",
       "      <td>id2=95</td>\n",
       "      <td>0.286114</td>\n",
       "      <td>0.010705</td>\n",
       "      <td>0.265133</td>\n",
       "      <td>0.307095</td>\n",
       "      <td>0.000000</td>\n",
       "    </tr>\n",
       "    <tr>\n",
       "      <td>id2=96</td>\n",
       "      <td>0.269864</td>\n",
       "      <td>0.010791</td>\n",
       "      <td>0.248715</td>\n",
       "      <td>0.291014</td>\n",
       "      <td>0.000000</td>\n",
       "    </tr>\n",
       "    <tr>\n",
       "      <td>id2=97</td>\n",
       "      <td>0.290869</td>\n",
       "      <td>0.010837</td>\n",
       "      <td>0.269630</td>\n",
       "      <td>0.312108</td>\n",
       "      <td>0.000000</td>\n",
       "    </tr>\n",
       "    <tr>\n",
       "      <td>id2=98</td>\n",
       "      <td>0.298718</td>\n",
       "      <td>0.010764</td>\n",
       "      <td>0.277622</td>\n",
       "      <td>0.319814</td>\n",
       "      <td>0.000000</td>\n",
       "    </tr>\n",
       "    <tr>\n",
       "      <td>id2=99</td>\n",
       "      <td>0.278740</td>\n",
       "      <td>0.010800</td>\n",
       "      <td>0.257573</td>\n",
       "      <td>0.299907</td>\n",
       "      <td>0.000000</td>\n",
       "    </tr>\n",
       "  </tbody>\n",
       "</table>\n",
       "<p>111 rows × 5 columns</p>\n",
       "</div>"
      ],
      "text/plain": [
       "              coeff    stderr     low95    high95    pvalue\n",
       "intercept  0.229401  0.008529  0.212685  0.246117  0.000000\n",
       "x1         0.622568  0.000784  0.621032  0.624104  0.000000\n",
       "x2         0.216123  0.000784  0.214586  0.217661  0.000000\n",
       "id1=1      0.000780  0.003545 -0.006169  0.007729  0.412930\n",
       "id1=2     -0.012831  0.003538 -0.019766 -0.005897  0.000144\n",
       "...             ...       ...       ...       ...       ...\n",
       "id2=95     0.286114  0.010705  0.265133  0.307095  0.000000\n",
       "id2=96     0.269864  0.010791  0.248715  0.291014  0.000000\n",
       "id2=97     0.290869  0.010837  0.269630  0.312108  0.000000\n",
       "id2=98     0.298718  0.010764  0.277622  0.319814  0.000000\n",
       "id2=99     0.278740  0.010800  0.257573  0.299907  0.000000\n",
       "\n",
       "[111 rows x 5 columns]"
      ]
     },
     "execution_count": 13,
     "metadata": {},
     "output_type": "execute_result"
    }
   ],
   "source": [
    "table"
   ]
  },
  {
   "cell_type": "code",
   "execution_count": 14,
   "metadata": {},
   "outputs": [],
   "source": [
    "coeff = table['coeff'].filter(regex='id2').rename('beta1').rename_axis('id2').reset_index()\n",
    "coeff['id2'] = coeff['id2'].apply(lambda s: s[4:]).astype(np.int)\n",
    "coeff['beta0'] = 0.5*coeff['id2']/100\n",
    "coeff['beta1'] += table.loc['intercept', 'coeff']"
   ]
  },
  {
   "cell_type": "code",
   "execution_count": 15,
   "metadata": {},
   "outputs": [
    {
     "data": {
      "image/png": "[encoded data removed]",
      "text/plain": [
       "<Figure size 432x360 with 1 Axes>"
      ]
     },
     "metadata": {
      "needs_background": "light"
     },
     "output_type": "display_data"
    }
   ],
   "source": [
    "bmax = 0.5*K2/100\n",
    "beta = np.linspace(0, bmax, 1000)\n",
    "fig, ax = plt.subplots(figsize=(6, 5))\n",
    "coeff.plot.scatter(x='beta0', y='beta1', ax=ax, alpha=0.5);\n",
    "ax.plot(beta, beta, c='r', linewidth=1, zorder=1);"
   ]
  },
  {
   "cell_type": "markdown",
   "metadata": {},
   "source": [
    "### PyTorch"
   ]
  },
  {
   "cell_type": "code",
   "execution_count": 5,
   "metadata": {},
   "outputs": [
    {
     "ename": "ModuleNotFoundError",
     "evalue": "No module named 'torch'",
     "output_type": "error",
     "traceback": [
      "\u001b[0;31m---------------------------------------------------------------------------\u001b[0m",
      "\u001b[0;31mModuleNotFoundError\u001b[0m                       Traceback (most recent call last)",
      "\u001b[0;32m<ipython-input-5-eb42ca6e4af3>\u001b[0m in \u001b[0;36m<module>\u001b[0;34m\u001b[0m\n\u001b[0;32m----> 1\u001b[0;31m \u001b[0;32mimport\u001b[0m \u001b[0mtorch\u001b[0m\u001b[0;34m\u001b[0m\u001b[0;34m\u001b[0m\u001b[0m\n\u001b[0m",
      "\u001b[0;31mModuleNotFoundError\u001b[0m: No module named 'torch'"
     ]
    }
   ],
   "source": [
    "import torch"
   ]
  },
  {
   "cell_type": "code",
   "execution_count": 5,
   "metadata": {},
   "outputs": [
    {
     "name": "stderr",
     "output_type": "stream",
     "text": [
      "/home/doug/.local/lib/python3.7/site-packages/statsmodels/compat/pandas.py:49: FutureWarning: The Panel class is removed from pandas. Accessing it from the top-level namespace will also be removed in the next version\n",
      "  data_klasses = (pandas.Series, pandas.DataFrame, pandas.Panel)\n"
     ]
    },
    {
     "data": {
      "text/plain": [
       "Intercept   -0.000960\n",
       "x1           3.003673\n",
       "x2           2.002892\n",
       "dtype: float64"
      ]
     },
     "execution_count": 5,
     "metadata": {},
     "output_type": "execute_result"
    }
   ],
   "source": [
    "smf.ols('y ~ x1 + x2', data=df0).fit().params"
   ]
  },
  {
   "cell_type": "code",
   "execution_count": 6,
   "metadata": {},
   "outputs": [
    {
     "name": "stdout",
     "output_type": "stream",
     "text": [
      "Optimization terminated successfully.\n",
      "         Current function value: 1.316033\n",
      "         Iterations 6\n"
     ]
    },
    {
     "data": {
      "text/plain": [
       "Intercept    0.004038\n",
       "x1           0.598927\n",
       "x2           0.202835\n",
       "dtype: float64"
      ]
     },
     "execution_count": 6,
     "metadata": {},
     "output_type": "execute_result"
    }
   ],
   "source": [
    "smf.poisson('p ~ x1 + x2', data=df0).fit().params"
   ]
  },
  {
   "cell_type": "code",
   "execution_count": 26,
   "metadata": {},
   "outputs": [
    {
     "name": "stdout",
     "output_type": "stream",
     "text": [
      "  0: loss = 1.4919956922531128\n",
      "  1: loss = 1.0008273124694824\n",
      "  2: loss = 0.9996901154518127\n"
     ]
    },
    {
     "data": {
      "text/html": [
       "<div>\n",
       "<style scoped>\n",
       "    .dataframe tbody tr th:only-of-type {\n",
       "        vertical-align: middle;\n",
       "    }\n",
       "\n",
       "    .dataframe tbody tr th {\n",
       "        vertical-align: top;\n",
       "    }\n",
       "\n",
       "    .dataframe thead th {\n",
       "        text-align: right;\n",
       "    }\n",
       "</style>\n",
       "<table border=\"1\" class=\"dataframe\">\n",
       "  <thead>\n",
       "    <tr style=\"text-align: right;\">\n",
       "      <th></th>\n",
       "      <th>coeff</th>\n",
       "      <th>stderr</th>\n",
       "      <th>low95</th>\n",
       "      <th>high95</th>\n",
       "      <th>pvalue</th>\n",
       "    </tr>\n",
       "  </thead>\n",
       "  <tbody>\n",
       "    <tr>\n",
       "      <td>intercept</td>\n",
       "      <td>-0.031776</td>\n",
       "      <td>0.002211</td>\n",
       "      <td>-0.036109</td>\n",
       "      <td>-0.027443</td>\n",
       "      <td>0.0</td>\n",
       "    </tr>\n",
       "    <tr>\n",
       "      <td>x1</td>\n",
       "      <td>3.012812</td>\n",
       "      <td>0.002213</td>\n",
       "      <td>3.008475</td>\n",
       "      <td>3.017150</td>\n",
       "      <td>0.0</td>\n",
       "    </tr>\n",
       "    <tr>\n",
       "      <td>x2</td>\n",
       "      <td>1.985069</td>\n",
       "      <td>0.002201</td>\n",
       "      <td>1.980755</td>\n",
       "      <td>1.989383</td>\n",
       "      <td>0.0</td>\n",
       "    </tr>\n",
       "  </tbody>\n",
       "</table>\n",
       "</div>"
      ],
      "text/plain": [
       "              coeff    stderr     low95    high95  pvalue\n",
       "intercept -0.031776  0.002211 -0.036109 -0.027443     0.0\n",
       "x1         3.012812  0.002213  3.008475  3.017150     0.0\n",
       "x2         1.985069  0.002201  1.980755  1.989383     0.0"
      ]
     },
     "execution_count": 26,
     "metadata": {},
     "output_type": "execute_result"
    }
   ],
   "source": [
    "frg.glm('y', ['x1', 'x2'], epochs=3, data=df0)"
   ]
  },
  {
   "cell_type": "code",
   "execution_count": 28,
   "metadata": {},
   "outputs": [
    {
     "name": "stdout",
     "output_type": "stream",
     "text": [
      "  0: loss = 0.755789041519165\n",
      "  1: loss = 0.7324027419090271\n",
      "  2: loss = 0.7327930331230164\n"
     ]
    },
    {
     "data": {
      "text/html": [
       "<div>\n",
       "<style scoped>\n",
       "    .dataframe tbody tr th:only-of-type {\n",
       "        vertical-align: middle;\n",
       "    }\n",
       "\n",
       "    .dataframe tbody tr th {\n",
       "        vertical-align: top;\n",
       "    }\n",
       "\n",
       "    .dataframe thead th {\n",
       "        text-align: right;\n",
       "    }\n",
       "</style>\n",
       "<table border=\"1\" class=\"dataframe\">\n",
       "  <thead>\n",
       "    <tr style=\"text-align: right;\">\n",
       "      <th></th>\n",
       "      <th>coeff</th>\n",
       "      <th>stderr</th>\n",
       "      <th>low95</th>\n",
       "      <th>high95</th>\n",
       "      <th>pvalue</th>\n",
       "    </tr>\n",
       "  </thead>\n",
       "  <tbody>\n",
       "    <tr>\n",
       "      <td>intercept</td>\n",
       "      <td>0.005790</td>\n",
       "      <td>0.003343</td>\n",
       "      <td>-0.000761</td>\n",
       "      <td>0.012342</td>\n",
       "      <td>0.041611</td>\n",
       "    </tr>\n",
       "    <tr>\n",
       "      <td>x1</td>\n",
       "      <td>0.612591</td>\n",
       "      <td>0.002825</td>\n",
       "      <td>0.607054</td>\n",
       "      <td>0.618128</td>\n",
       "      <td>0.000000</td>\n",
       "    </tr>\n",
       "    <tr>\n",
       "      <td>x2</td>\n",
       "      <td>0.206751</td>\n",
       "      <td>0.002799</td>\n",
       "      <td>0.201266</td>\n",
       "      <td>0.212236</td>\n",
       "      <td>0.000000</td>\n",
       "    </tr>\n",
       "  </tbody>\n",
       "</table>\n",
       "</div>"
      ],
      "text/plain": [
       "              coeff    stderr     low95    high95    pvalue\n",
       "intercept  0.005790  0.003343 -0.000761  0.012342  0.041611\n",
       "x1         0.612591  0.002825  0.607054  0.618128  0.000000\n",
       "x2         0.206751  0.002799  0.201266  0.212236  0.000000"
      ]
     },
     "execution_count": 28,
     "metadata": {},
     "output_type": "execute_result"
    }
   ],
   "source": [
    "tab, beta, sigma = frg.poisson('p', ['x1', 'x2'], epochs=3, data=df0)\n",
    "tab"
   ]
  },
  {
   "cell_type": "code",
   "execution_count": 83,
   "metadata": {},
   "outputs": [
    {
     "name": "stdout",
     "output_type": "stream",
     "text": [
      "  0: loss = 0.7888667583465576\n",
      "  1: loss = 0.7772811651229858\n",
      "  2: loss = 0.7765344977378845\n",
      "  3: loss = 0.7757142782211304\n",
      "  4: loss = 0.7758492827415466\n"
     ]
    },
    {
     "data": {
      "text/html": [
       "<div>\n",
       "<style scoped>\n",
       "    .dataframe tbody tr th:only-of-type {\n",
       "        vertical-align: middle;\n",
       "    }\n",
       "\n",
       "    .dataframe tbody tr th {\n",
       "        vertical-align: top;\n",
       "    }\n",
       "\n",
       "    .dataframe thead th {\n",
       "        text-align: right;\n",
       "    }\n",
       "</style>\n",
       "<table border=\"1\" class=\"dataframe\">\n",
       "  <thead>\n",
       "    <tr style=\"text-align: right;\">\n",
       "      <th></th>\n",
       "      <th>coeff</th>\n",
       "      <th>stderr</th>\n",
       "      <th>low95</th>\n",
       "      <th>high95</th>\n",
       "      <th>pvalue</th>\n",
       "    </tr>\n",
       "  </thead>\n",
       "  <tbody>\n",
       "    <tr>\n",
       "      <td>intercept</td>\n",
       "      <td>-0.028598</td>\n",
       "      <td>0.004929</td>\n",
       "      <td>-0.038260</td>\n",
       "      <td>-0.018937</td>\n",
       "      <td>3.284496e-09</td>\n",
       "    </tr>\n",
       "    <tr>\n",
       "      <td>x1</td>\n",
       "      <td>0.592937</td>\n",
       "      <td>0.003461</td>\n",
       "      <td>0.586154</td>\n",
       "      <td>0.599720</td>\n",
       "      <td>0.000000e+00</td>\n",
       "    </tr>\n",
       "    <tr>\n",
       "      <td>x2</td>\n",
       "      <td>0.204464</td>\n",
       "      <td>0.003433</td>\n",
       "      <td>0.197735</td>\n",
       "      <td>0.211193</td>\n",
       "      <td>0.000000e+00</td>\n",
       "    </tr>\n",
       "  </tbody>\n",
       "</table>\n",
       "</div>"
      ],
      "text/plain": [
       "              coeff    stderr     low95    high95        pvalue\n",
       "intercept -0.028598  0.004929 -0.038260 -0.018937  3.284496e-09\n",
       "x1         0.592937  0.003461  0.586154  0.599720  0.000000e+00\n",
       "x2         0.204464  0.003433  0.197735  0.211193  0.000000e+00"
      ]
     },
     "execution_count": 83,
     "metadata": {},
     "output_type": "execute_result"
    }
   ],
   "source": [
    "tab, beta, sigma = frg.zero_inflated_poisson('p0', ['x1', 'x2'], epochs=5, data=df0)\n",
    "tab"
   ]
  },
  {
   "cell_type": "code",
   "execution_count": 84,
   "metadata": {},
   "outputs": [
    {
     "data": {
      "text/plain": [
       "(0.18122343307532973, 0.018943719321563707)"
      ]
     },
     "execution_count": 84,
     "metadata": {},
     "output_type": "execute_result"
    }
   ],
   "source": [
    "1/(1+np.exp(-beta[-1])), np.sqrt(sigma[-1,-1])"
   ]
  },
  {
   "cell_type": "code",
   "execution_count": null,
   "metadata": {},
   "outputs": [],
   "source": []
  }
 ],
 "metadata": {
  "kernelspec": {
   "display_name": "Python 3.7",
   "language": "python",
   "name": "python3.7"
  },
  "language_info": {
   "codemirror_mode": {
    "name": "ipython",
    "version": 3
   },
   "file_extension": ".py",
   "mimetype": "text/x-python",
   "name": "python",
   "nbconvert_exporter": "python",
   "pygments_lexer": "ipython3",
   "version": "3.7.5"
  }
 },
 "nbformat": 4,
 "nbformat_minor": 4
}
