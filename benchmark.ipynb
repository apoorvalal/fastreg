{
 "cells": [
  {
   "cell_type": "code",
   "execution_count": 1,
   "metadata": {},
   "outputs": [],
   "source": [
    "import statsmodels.formula.api as smf\n",
    "import matplotlib.pyplot as plt\n",
    "import fastreg.linear as frl\n",
    "import fastreg.general as frg\n",
    "import fastreg.testing as frt\n",
    "%matplotlib inline"
   ]
  },
  {
   "cell_type": "markdown",
   "metadata": {},
   "source": [
    "### Generate Data"
   ]
  },
  {
   "cell_type": "code",
   "execution_count": 2,
   "metadata": {},
   "outputs": [
    {
     "data": {
      "text/html": [
       "<div>\n",
       "<style scoped>\n",
       "    .dataframe tbody tr th:only-of-type {\n",
       "        vertical-align: middle;\n",
       "    }\n",
       "\n",
       "    .dataframe tbody tr th {\n",
       "        vertical-align: top;\n",
       "    }\n",
       "\n",
       "    .dataframe thead th {\n",
       "        text-align: right;\n",
       "    }\n",
       "</style>\n",
       "<table border=\"1\" class=\"dataframe\">\n",
       "  <thead>\n",
       "    <tr style=\"text-align: right;\">\n",
       "      <th></th>\n",
       "      <th>id1</th>\n",
       "      <th>id2</th>\n",
       "      <th>x1</th>\n",
       "      <th>x2</th>\n",
       "      <th>yhat0</th>\n",
       "      <th>yhat</th>\n",
       "      <th>y0</th>\n",
       "      <th>y</th>\n",
       "      <th>Eb0</th>\n",
       "      <th>Eb</th>\n",
       "      <th>...</th>\n",
       "      <th>Ep0</th>\n",
       "      <th>Ep</th>\n",
       "      <th>p0</th>\n",
       "      <th>p</th>\n",
       "      <th>pz0</th>\n",
       "      <th>pz</th>\n",
       "      <th>nb0</th>\n",
       "      <th>nb</th>\n",
       "      <th>nbz0</th>\n",
       "      <th>nbz</th>\n",
       "    </tr>\n",
       "  </thead>\n",
       "  <tbody>\n",
       "    <tr>\n",
       "      <th>0</th>\n",
       "      <td>4</td>\n",
       "      <td>31</td>\n",
       "      <td>1.179880</td>\n",
       "      <td>1.303179</td>\n",
       "      <td>1.235872</td>\n",
       "      <td>1.945872</td>\n",
       "      <td>2.043018</td>\n",
       "      <td>4.503822</td>\n",
       "      <td>0.774845</td>\n",
       "      <td>0.874996</td>\n",
       "      <td>...</td>\n",
       "      <td>3.441377</td>\n",
       "      <td>6.999731</td>\n",
       "      <td>8</td>\n",
       "      <td>3</td>\n",
       "      <td>0</td>\n",
       "      <td>3</td>\n",
       "      <td>1</td>\n",
       "      <td>7</td>\n",
       "      <td>1</td>\n",
       "      <td>7</td>\n",
       "    </tr>\n",
       "    <tr>\n",
       "      <th>1</th>\n",
       "      <td>8</td>\n",
       "      <td>36</td>\n",
       "      <td>-1.425219</td>\n",
       "      <td>1.159942</td>\n",
       "      <td>0.368399</td>\n",
       "      <td>1.528399</td>\n",
       "      <td>-0.133417</td>\n",
       "      <td>2.520287</td>\n",
       "      <td>0.591072</td>\n",
       "      <td>0.821772</td>\n",
       "      <td>...</td>\n",
       "      <td>1.445419</td>\n",
       "      <td>4.610790</td>\n",
       "      <td>1</td>\n",
       "      <td>10</td>\n",
       "      <td>1</td>\n",
       "      <td>0</td>\n",
       "      <td>2</td>\n",
       "      <td>11</td>\n",
       "      <td>0</td>\n",
       "      <td>11</td>\n",
       "    </tr>\n",
       "    <tr>\n",
       "      <th>2</th>\n",
       "      <td>8</td>\n",
       "      <td>87</td>\n",
       "      <td>-0.149973</td>\n",
       "      <td>-0.430441</td>\n",
       "      <td>-0.203256</td>\n",
       "      <td>1.466744</td>\n",
       "      <td>-0.553961</td>\n",
       "      <td>1.415974</td>\n",
       "      <td>0.449360</td>\n",
       "      <td>0.812562</td>\n",
       "      <td>...</td>\n",
       "      <td>0.816069</td>\n",
       "      <td>4.335095</td>\n",
       "      <td>2</td>\n",
       "      <td>3</td>\n",
       "      <td>2</td>\n",
       "      <td>0</td>\n",
       "      <td>0</td>\n",
       "      <td>2</td>\n",
       "      <td>0</td>\n",
       "      <td>2</td>\n",
       "    </tr>\n",
       "    <tr>\n",
       "      <th>3</th>\n",
       "      <td>8</td>\n",
       "      <td>31</td>\n",
       "      <td>-1.435251</td>\n",
       "      <td>-1.390140</td>\n",
       "      <td>-1.164659</td>\n",
       "      <td>-0.054659</td>\n",
       "      <td>-1.060727</td>\n",
       "      <td>0.062333</td>\n",
       "      <td>0.237822</td>\n",
       "      <td>0.486339</td>\n",
       "      <td>...</td>\n",
       "      <td>0.312029</td>\n",
       "      <td>0.946808</td>\n",
       "      <td>0</td>\n",
       "      <td>0</td>\n",
       "      <td>0</td>\n",
       "      <td>0</td>\n",
       "      <td>0</td>\n",
       "      <td>2</td>\n",
       "      <td>0</td>\n",
       "      <td>2</td>\n",
       "    </tr>\n",
       "    <tr>\n",
       "      <th>4</th>\n",
       "      <td>6</td>\n",
       "      <td>57</td>\n",
       "      <td>0.430889</td>\n",
       "      <td>3.103699</td>\n",
       "      <td>2.091486</td>\n",
       "      <td>3.261486</td>\n",
       "      <td>2.177262</td>\n",
       "      <td>2.688953</td>\n",
       "      <td>0.890073</td>\n",
       "      <td>0.963084</td>\n",
       "      <td>...</td>\n",
       "      <td>8.096939</td>\n",
       "      <td>26.088278</td>\n",
       "      <td>4</td>\n",
       "      <td>25</td>\n",
       "      <td>4</td>\n",
       "      <td>0</td>\n",
       "      <td>11</td>\n",
       "      <td>38</td>\n",
       "      <td>11</td>\n",
       "      <td>0</td>\n",
       "    </tr>\n",
       "  </tbody>\n",
       "</table>\n",
       "<p>5 rows × 22 columns</p>\n",
       "</div>"
      ],
      "text/plain": [
       "   id1  id2        x1        x2     yhat0      yhat        y0         y  \\\n",
       "0    4   31  1.179880  1.303179  1.235872  1.945872  2.043018  4.503822   \n",
       "1    8   36 -1.425219  1.159942  0.368399  1.528399 -0.133417  2.520287   \n",
       "2    8   87 -0.149973 -0.430441 -0.203256  1.466744 -0.553961  1.415974   \n",
       "3    8   31 -1.435251 -1.390140 -1.164659 -0.054659 -1.060727  0.062333   \n",
       "4    6   57  0.430889  3.103699  2.091486  3.261486  2.177262  2.688953   \n",
       "\n",
       "        Eb0        Eb  ...       Ep0         Ep  p0   p  pz0  pz  nb0  nb  \\\n",
       "0  0.774845  0.874996  ...  3.441377   6.999731   8   3    0   3    1   7   \n",
       "1  0.591072  0.821772  ...  1.445419   4.610790   1  10    1   0    2  11   \n",
       "2  0.449360  0.812562  ...  0.816069   4.335095   2   3    2   0    0   2   \n",
       "3  0.237822  0.486339  ...  0.312029   0.946808   0   0    0   0    0   2   \n",
       "4  0.890073  0.963084  ...  8.096939  26.088278   4  25    4   0   11  38   \n",
       "\n",
       "   nbz0  nbz  \n",
       "0     1    7  \n",
       "1     0   11  \n",
       "2     0    2  \n",
       "3     0    2  \n",
       "4    11    0  \n",
       "\n",
       "[5 rows x 22 columns]"
      ]
     },
     "execution_count": 2,
     "metadata": {},
     "output_type": "execute_result"
    }
   ],
   "source": [
    "data = frt.dataset(N=500_000, K1=10, K2=100, seed=89320432)\n",
    "data.head()"
   ]
  },
  {
   "cell_type": "markdown",
   "metadata": {},
   "source": [
    "### Normal OLS"
   ]
  },
  {
   "cell_type": "code",
   "execution_count": 3,
   "metadata": {},
   "outputs": [
    {
     "name": "stdout",
     "output_type": "stream",
     "text": [
      "CPU times: user 267 ms, sys: 195 ms, total: 462 ms\n",
      "Wall time: 134 ms\n"
     ]
    },
    {
     "data": {
      "text/plain": [
       "Intercept    0.098888\n",
       "x1           0.299801\n",
       "x2           0.599727\n",
       "dtype: float64"
      ]
     },
     "execution_count": 3,
     "metadata": {},
     "output_type": "execute_result"
    }
   ],
   "source": [
    "%time smf.ols('y0 ~ x1 + x2', data=data).fit().params"
   ]
  },
  {
   "cell_type": "code",
   "execution_count": 4,
   "metadata": {},
   "outputs": [
    {
     "name": "stdout",
     "output_type": "stream",
     "text": [
      "CPU times: user 203 ms, sys: 202 ms, total: 404 ms\n",
      "Wall time: 41.4 ms\n"
     ]
    },
    {
     "data": {
      "text/html": [
       "<div>\n",
       "<style scoped>\n",
       "    .dataframe tbody tr th:only-of-type {\n",
       "        vertical-align: middle;\n",
       "    }\n",
       "\n",
       "    .dataframe tbody tr th {\n",
       "        vertical-align: top;\n",
       "    }\n",
       "\n",
       "    .dataframe thead th {\n",
       "        text-align: right;\n",
       "    }\n",
       "</style>\n",
       "<table border=\"1\" class=\"dataframe\">\n",
       "  <thead>\n",
       "    <tr style=\"text-align: right;\">\n",
       "      <th></th>\n",
       "      <th>coeff</th>\n",
       "      <th>stderr</th>\n",
       "      <th>low95</th>\n",
       "      <th>high95</th>\n",
       "      <th>pvalue</th>\n",
       "    </tr>\n",
       "  </thead>\n",
       "  <tbody>\n",
       "    <tr>\n",
       "      <th>one</th>\n",
       "      <td>0.098888</td>\n",
       "      <td>0.001416</td>\n",
       "      <td>0.096114</td>\n",
       "      <td>0.101662</td>\n",
       "      <td>0.0</td>\n",
       "    </tr>\n",
       "    <tr>\n",
       "      <th>x1</th>\n",
       "      <td>0.299801</td>\n",
       "      <td>0.001416</td>\n",
       "      <td>0.297026</td>\n",
       "      <td>0.302576</td>\n",
       "      <td>0.0</td>\n",
       "    </tr>\n",
       "    <tr>\n",
       "      <th>x2</th>\n",
       "      <td>0.599727</td>\n",
       "      <td>0.001414</td>\n",
       "      <td>0.596955</td>\n",
       "      <td>0.602500</td>\n",
       "      <td>0.0</td>\n",
       "    </tr>\n",
       "  </tbody>\n",
       "</table>\n",
       "</div>"
      ],
      "text/plain": [
       "        coeff    stderr     low95    high95  pvalue\n",
       "one  0.098888  0.001416  0.096114  0.101662     0.0\n",
       "x1   0.299801  0.001416  0.297026  0.302576     0.0\n",
       "x2   0.599727  0.001414  0.596955  0.602500     0.0"
      ]
     },
     "execution_count": 4,
     "metadata": {},
     "output_type": "execute_result"
    }
   ],
   "source": [
    "%time frl.ols(y='y0', x=['x1', 'x2'], data=data)"
   ]
  },
  {
   "cell_type": "markdown",
   "metadata": {},
   "source": [
    "### Sparse OLS"
   ]
  },
  {
   "cell_type": "code",
   "execution_count": 5,
   "metadata": {},
   "outputs": [
    {
     "name": "stdout",
     "output_type": "stream",
     "text": [
      "CPU times: user 540 ms, sys: 69.3 ms, total: 609 ms\n",
      "Wall time: 538 ms\n"
     ]
    },
    {
     "data": {
      "text/html": [
       "<div>\n",
       "<style scoped>\n",
       "    .dataframe tbody tr th:only-of-type {\n",
       "        vertical-align: middle;\n",
       "    }\n",
       "\n",
       "    .dataframe tbody tr th {\n",
       "        vertical-align: top;\n",
       "    }\n",
       "\n",
       "    .dataframe thead th {\n",
       "        text-align: right;\n",
       "    }\n",
       "</style>\n",
       "<table border=\"1\" class=\"dataframe\">\n",
       "  <thead>\n",
       "    <tr style=\"text-align: right;\">\n",
       "      <th></th>\n",
       "      <th>coeff</th>\n",
       "      <th>stderr</th>\n",
       "      <th>low95</th>\n",
       "      <th>high95</th>\n",
       "      <th>pvalue</th>\n",
       "    </tr>\n",
       "  </thead>\n",
       "  <tbody>\n",
       "    <tr>\n",
       "      <th>one</th>\n",
       "      <td>0.119351</td>\n",
       "      <td>0.014620</td>\n",
       "      <td>0.090696</td>\n",
       "      <td>0.148006</td>\n",
       "      <td>2.220446e-16</td>\n",
       "    </tr>\n",
       "    <tr>\n",
       "      <th>x1</th>\n",
       "      <td>0.298718</td>\n",
       "      <td>0.001413</td>\n",
       "      <td>0.295947</td>\n",
       "      <td>0.301488</td>\n",
       "      <td>0.000000e+00</td>\n",
       "    </tr>\n",
       "    <tr>\n",
       "      <th>x2</th>\n",
       "      <td>0.602568</td>\n",
       "      <td>0.001412</td>\n",
       "      <td>0.599800</td>\n",
       "      <td>0.605335</td>\n",
       "      <td>0.000000e+00</td>\n",
       "    </tr>\n",
       "    <tr>\n",
       "      <th>id1=1</th>\n",
       "      <td>0.098538</td>\n",
       "      <td>0.006325</td>\n",
       "      <td>0.086141</td>\n",
       "      <td>0.110935</td>\n",
       "      <td>0.000000e+00</td>\n",
       "    </tr>\n",
       "    <tr>\n",
       "      <th>id1=2</th>\n",
       "      <td>0.196159</td>\n",
       "      <td>0.006317</td>\n",
       "      <td>0.183778</td>\n",
       "      <td>0.208539</td>\n",
       "      <td>0.000000e+00</td>\n",
       "    </tr>\n",
       "    <tr>\n",
       "      <th>...</th>\n",
       "      <td>...</td>\n",
       "      <td>...</td>\n",
       "      <td>...</td>\n",
       "      <td>...</td>\n",
       "      <td>...</td>\n",
       "    </tr>\n",
       "    <tr>\n",
       "      <th>id2=95</th>\n",
       "      <td>0.924802</td>\n",
       "      <td>0.019847</td>\n",
       "      <td>0.885903</td>\n",
       "      <td>0.963700</td>\n",
       "      <td>0.000000e+00</td>\n",
       "    </tr>\n",
       "    <tr>\n",
       "      <th>id2=96</th>\n",
       "      <td>0.942108</td>\n",
       "      <td>0.019975</td>\n",
       "      <td>0.902958</td>\n",
       "      <td>0.981258</td>\n",
       "      <td>0.000000e+00</td>\n",
       "    </tr>\n",
       "    <tr>\n",
       "      <th>id2=97</th>\n",
       "      <td>0.958001</td>\n",
       "      <td>0.019905</td>\n",
       "      <td>0.918987</td>\n",
       "      <td>0.997015</td>\n",
       "      <td>0.000000e+00</td>\n",
       "    </tr>\n",
       "    <tr>\n",
       "      <th>id2=98</th>\n",
       "      <td>0.964065</td>\n",
       "      <td>0.019884</td>\n",
       "      <td>0.925092</td>\n",
       "      <td>1.003038</td>\n",
       "      <td>0.000000e+00</td>\n",
       "    </tr>\n",
       "    <tr>\n",
       "      <th>id2=99</th>\n",
       "      <td>0.965409</td>\n",
       "      <td>0.020022</td>\n",
       "      <td>0.926167</td>\n",
       "      <td>1.004651</td>\n",
       "      <td>0.000000e+00</td>\n",
       "    </tr>\n",
       "  </tbody>\n",
       "</table>\n",
       "<p>111 rows × 5 columns</p>\n",
       "</div>"
      ],
      "text/plain": [
       "           coeff    stderr     low95    high95        pvalue\n",
       "one     0.119351  0.014620  0.090696  0.148006  2.220446e-16\n",
       "x1      0.298718  0.001413  0.295947  0.301488  0.000000e+00\n",
       "x2      0.602568  0.001412  0.599800  0.605335  0.000000e+00\n",
       "id1=1   0.098538  0.006325  0.086141  0.110935  0.000000e+00\n",
       "id1=2   0.196159  0.006317  0.183778  0.208539  0.000000e+00\n",
       "...          ...       ...       ...       ...           ...\n",
       "id2=95  0.924802  0.019847  0.885903  0.963700  0.000000e+00\n",
       "id2=96  0.942108  0.019975  0.902958  0.981258  0.000000e+00\n",
       "id2=97  0.958001  0.019905  0.918987  0.997015  0.000000e+00\n",
       "id2=98  0.964065  0.019884  0.925092  1.003038  0.000000e+00\n",
       "id2=99  0.965409  0.020022  0.926167  1.004651  0.000000e+00\n",
       "\n",
       "[111 rows x 5 columns]"
      ]
     },
     "execution_count": 5,
     "metadata": {},
     "output_type": "execute_result"
    }
   ],
   "source": [
    "%time frl.ols(y='y', x=['x1', 'x2'], fe=['id1', 'id2'], data=data)"
   ]
  },
  {
   "cell_type": "code",
   "execution_count": 6,
   "metadata": {},
   "outputs": [
    {
     "name": "stdout",
     "output_type": "stream",
     "text": [
      "CPU times: user 844 ms, sys: 559 ms, total: 1.4 s\n",
      "Wall time: 390 ms\n"
     ]
    },
    {
     "data": {
      "text/html": [
       "<div>\n",
       "<style scoped>\n",
       "    .dataframe tbody tr th:only-of-type {\n",
       "        vertical-align: middle;\n",
       "    }\n",
       "\n",
       "    .dataframe tbody tr th {\n",
       "        vertical-align: top;\n",
       "    }\n",
       "\n",
       "    .dataframe thead th {\n",
       "        text-align: right;\n",
       "    }\n",
       "</style>\n",
       "<table border=\"1\" class=\"dataframe\">\n",
       "  <thead>\n",
       "    <tr style=\"text-align: right;\">\n",
       "      <th></th>\n",
       "      <th>coeff</th>\n",
       "      <th>stderr</th>\n",
       "      <th>low95</th>\n",
       "      <th>high95</th>\n",
       "      <th>pvalue</th>\n",
       "    </tr>\n",
       "  </thead>\n",
       "  <tbody>\n",
       "    <tr>\n",
       "      <th>one</th>\n",
       "      <td>1.044704</td>\n",
       "      <td>0.001307</td>\n",
       "      <td>1.042143</td>\n",
       "      <td>1.047265</td>\n",
       "      <td>0.0</td>\n",
       "    </tr>\n",
       "    <tr>\n",
       "      <th>x1</th>\n",
       "      <td>0.298718</td>\n",
       "      <td>0.001497</td>\n",
       "      <td>0.295784</td>\n",
       "      <td>0.301651</td>\n",
       "      <td>0.0</td>\n",
       "    </tr>\n",
       "    <tr>\n",
       "      <th>x2</th>\n",
       "      <td>0.602568</td>\n",
       "      <td>0.001458</td>\n",
       "      <td>0.599709</td>\n",
       "      <td>0.605426</td>\n",
       "      <td>0.0</td>\n",
       "    </tr>\n",
       "  </tbody>\n",
       "</table>\n",
       "</div>"
      ],
      "text/plain": [
       "        coeff    stderr     low95    high95  pvalue\n",
       "one  1.044704  0.001307  1.042143  1.047265     0.0\n",
       "x1   0.298718  0.001497  0.295784  0.301651     0.0\n",
       "x2   0.602568  0.001458  0.599709  0.605426     0.0"
      ]
     },
     "execution_count": 6,
     "metadata": {},
     "output_type": "execute_result"
    }
   ],
   "source": [
    "%time frl.ols(y='y', x=['x1', 'x2'], absorb=('id1', 'id2'), data=data)"
   ]
  },
  {
   "cell_type": "markdown",
   "metadata": {},
   "source": [
    "### Poisson"
   ]
  },
  {
   "cell_type": "code",
   "execution_count": 7,
   "metadata": {},
   "outputs": [
    {
     "name": "stdout",
     "output_type": "stream",
     "text": [
      "[  0] -0.8983: 0.1276\n",
      "[  1] -0.7575: 0.2407\n",
      "[  2] -0.6801: 0.2961\n",
      "[  3] -0.6413: 0.3186\n",
      "[  4] -0.6226: 0.3339\n",
      "[  5] -0.6190: 0.3349\n",
      "[  6] -0.6190: 0.3349\n",
      "[  7] -0.6190: 0.3349\n",
      "[  8] -0.6190: 0.3349\n",
      "[  9] -0.6190: 0.3349\n",
      "CPU times: user 14.1 s, sys: 3.73 s, total: 17.9 s\n",
      "Wall time: 14.7 s\n"
     ]
    }
   ],
   "source": [
    "%time beta, sigma = frg.poisson(y='p0', x=['x1', 'x2'], data=data, epochs=10)"
   ]
  },
  {
   "cell_type": "code",
   "execution_count": 10,
   "metadata": {},
   "outputs": [
    {
     "name": "stdout",
     "output_type": "stream",
     "text": [
      "[  0] 0.0926: 0.1289\n",
      "[  1] 1.5634: 0.2442\n",
      "[  2] 2.2152: 0.3182\n",
      "[  3] 2.4271: 0.3504\n",
      "[  4] 2.5161: 0.3748\n",
      "[  5] 2.5341: 0.3744\n",
      "[  6] 2.5352: 0.3714\n",
      "[  7] 2.5353: 0.3691\n",
      "[  8] 2.5353: 0.3672\n",
      "[  9] 2.5353: 0.3656\n",
      "CPU times: user 27.7 s, sys: 6.85 s, total: 34.6 s\n",
      "Wall time: 27.2 s\n"
     ]
    }
   ],
   "source": [
    "%time beta, sigma = frg.poisson(y='p', x=['x1', 'x2'], fe=['id1', 'id2'], data=data, epochs=10)"
   ]
  },
  {
   "cell_type": "code",
   "execution_count": 12,
   "metadata": {},
   "outputs": [
    {
     "data": {
      "image/png": "[encoded data removed]",
      "text/plain": [
       "<Figure size 432x288 with 1 Axes>"
      ]
     },
     "metadata": {
      "needs_background": "light"
     },
     "output_type": "display_data"
    }
   ],
   "source": [
    "bid1 = np.arange(10)/10\n",
    "plt.plot(bid1, beta['id1']-beta['id1'][0], marker='o')\n",
    "plt.plot(bid1, bid1, linestyle='--', linewidth=1, color='k');"
   ]
  },
  {
   "cell_type": "markdown",
   "metadata": {},
   "source": [
    "### Ultra Wide"
   ]
  },
  {
   "cell_type": "code",
   "execution_count": 33,
   "metadata": {},
   "outputs": [],
   "source": [
    "N = 2_000_000\n",
    "df = pd.DataFrame({ \n",
    "    'x1': np.random.rand(N), \n",
    "    'x2': np.random.rand(N), \n",
    "    'id1': np.ceil(np.arange(N)/200+1e-7).astype(np.int), \n",
    "    'id2': np.random.randint(1, 10001, size=N) \n",
    "})\n",
    "df['y'] = df['x1'] + 2*df['x2'] + np.log(df['id1']) + np.log10(df['id2']) + np.random.randn(N)"
   ]
  },
  {
   "cell_type": "code",
   "execution_count": 39,
   "metadata": {},
   "outputs": [
    {
     "name": "stdout",
     "output_type": "stream",
     "text": [
      "CPU times: user 4.39 s, sys: 2.18 s, total: 6.57 s\n",
      "Wall time: 5.7 s\n"
     ]
    },
    {
     "data": {
      "text/html": [
       "<div>\n",
       "<style scoped>\n",
       "    .dataframe tbody tr th:only-of-type {\n",
       "        vertical-align: middle;\n",
       "    }\n",
       "\n",
       "    .dataframe tbody tr th {\n",
       "        vertical-align: top;\n",
       "    }\n",
       "\n",
       "    .dataframe thead th {\n",
       "        text-align: right;\n",
       "    }\n",
       "</style>\n",
       "<table border=\"1\" class=\"dataframe\">\n",
       "  <thead>\n",
       "    <tr style=\"text-align: right;\">\n",
       "      <th></th>\n",
       "      <th>coeff</th>\n",
       "      <th>stderr</th>\n",
       "      <th>low95</th>\n",
       "      <th>high95</th>\n",
       "      <th>pvalue</th>\n",
       "    </tr>\n",
       "  </thead>\n",
       "  <tbody>\n",
       "    <tr>\n",
       "      <td>one</td>\n",
       "      <td>11.775893</td>\n",
       "      <td>0.001870</td>\n",
       "      <td>11.772228</td>\n",
       "      <td>11.779559</td>\n",
       "      <td>0.0</td>\n",
       "    </tr>\n",
       "    <tr>\n",
       "      <td>x1</td>\n",
       "      <td>1.000463</td>\n",
       "      <td>0.002449</td>\n",
       "      <td>0.995662</td>\n",
       "      <td>1.005264</td>\n",
       "      <td>0.0</td>\n",
       "    </tr>\n",
       "    <tr>\n",
       "      <td>x2</td>\n",
       "      <td>2.001758</td>\n",
       "      <td>0.002451</td>\n",
       "      <td>1.996954</td>\n",
       "      <td>2.006562</td>\n",
       "      <td>0.0</td>\n",
       "    </tr>\n",
       "  </tbody>\n",
       "</table>\n",
       "</div>"
      ],
      "text/plain": [
       "         coeff    stderr      low95     high95  pvalue\n",
       "one  11.775893  0.001870  11.772228  11.779559     0.0\n",
       "x1    1.000463  0.002449   0.995662   1.005264     0.0\n",
       "x2    2.001758  0.002451   1.996954   2.006562     0.0"
      ]
     },
     "execution_count": 39,
     "metadata": {},
     "output_type": "execute_result"
    }
   ],
   "source": [
    "%time frl.ols(y='y', x=['x1', 'x2'], absorb=['id1', 'id2'], data=df)"
   ]
  },
  {
   "cell_type": "code",
   "execution_count": null,
   "metadata": {},
   "outputs": [],
   "source": []
  }
 ],
 "metadata": {
  "kernelspec": {
   "display_name": "Python 3.8",
   "language": "python",
   "name": "python3.8"
  },
  "language_info": {
   "codemirror_mode": {
    "name": "ipython",
    "version": 3
   },
   "file_extension": ".py",
   "mimetype": "text/x-python",
   "name": "python",
   "nbconvert_exporter": "python",
   "pygments_lexer": "ipython3",
   "version": "3.8.2"
  }
 },
 "nbformat": 4,
 "nbformat_minor": 4
}
