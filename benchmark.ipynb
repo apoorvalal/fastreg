{
 "cells": [
  {
   "cell_type": "code",
   "execution_count": 1,
   "metadata": {},
   "outputs": [],
   "source": [
    "import statsmodels.formula.api as smf\n",
    "import matplotlib.pyplot as plt\n",
    "import fastreg.linear as frl\n",
    "import fastreg.general as frg\n",
    "import fastreg.testing as frt\n",
    "from fastreg.formula import I, R, C"
   ]
  },
  {
   "cell_type": "code",
   "execution_count": 48,
   "metadata": {},
   "outputs": [],
   "source": [
    "%config InlineBackend.figure_format = 'retina'\n",
    "%matplotlib inline"
   ]
  },
  {
   "cell_type": "markdown",
   "metadata": {},
   "source": [
    "### Generate Data"
   ]
  },
  {
   "cell_type": "code",
   "execution_count": 24,
   "metadata": {},
   "outputs": [
    {
     "data": {
      "text/html": [
       "<div>\n",
       "<style scoped>\n",
       "    .dataframe tbody tr th:only-of-type {\n",
       "        vertical-align: middle;\n",
       "    }\n",
       "\n",
       "    .dataframe tbody tr th {\n",
       "        vertical-align: top;\n",
       "    }\n",
       "\n",
       "    .dataframe thead th {\n",
       "        text-align: right;\n",
       "    }\n",
       "</style>\n",
       "<table border=\"1\" class=\"dataframe\">\n",
       "  <thead>\n",
       "    <tr style=\"text-align: right;\">\n",
       "      <th></th>\n",
       "      <th>id1</th>\n",
       "      <th>id2</th>\n",
       "      <th>x1</th>\n",
       "      <th>x2</th>\n",
       "      <th>yhat0</th>\n",
       "      <th>yhat</th>\n",
       "      <th>yhat1</th>\n",
       "      <th>y0</th>\n",
       "      <th>y</th>\n",
       "      <th>Ep0</th>\n",
       "      <th>...</th>\n",
       "      <th>Ep1</th>\n",
       "      <th>p0</th>\n",
       "      <th>p</th>\n",
       "      <th>p1</th>\n",
       "      <th>pz0</th>\n",
       "      <th>pz</th>\n",
       "      <th>nb0</th>\n",
       "      <th>nb</th>\n",
       "      <th>nbz0</th>\n",
       "      <th>nbz</th>\n",
       "    </tr>\n",
       "  </thead>\n",
       "  <tbody>\n",
       "    <tr>\n",
       "      <th>0</th>\n",
       "      <td>4</td>\n",
       "      <td>99</td>\n",
       "      <td>-0.232286</td>\n",
       "      <td>-1.106499</td>\n",
       "      <td>-0.633585</td>\n",
       "      <td>0.756415</td>\n",
       "      <td>-0.233585</td>\n",
       "      <td>1.997507</td>\n",
       "      <td>0.034401</td>\n",
       "      <td>0.530686</td>\n",
       "      <td>...</td>\n",
       "      <td>0.791690</td>\n",
       "      <td>1</td>\n",
       "      <td>3</td>\n",
       "      <td>3</td>\n",
       "      <td>1</td>\n",
       "      <td>0</td>\n",
       "      <td>1</td>\n",
       "      <td>1</td>\n",
       "      <td>1</td>\n",
       "      <td>1</td>\n",
       "    </tr>\n",
       "    <tr>\n",
       "      <th>1</th>\n",
       "      <td>8</td>\n",
       "      <td>98</td>\n",
       "      <td>0.457063</td>\n",
       "      <td>0.585081</td>\n",
       "      <td>0.588167</td>\n",
       "      <td>2.368167</td>\n",
       "      <td>1.388167</td>\n",
       "      <td>2.215314</td>\n",
       "      <td>2.489864</td>\n",
       "      <td>1.800685</td>\n",
       "      <td>...</td>\n",
       "      <td>4.007499</td>\n",
       "      <td>2</td>\n",
       "      <td>15</td>\n",
       "      <td>5</td>\n",
       "      <td>2</td>\n",
       "      <td>15</td>\n",
       "      <td>4</td>\n",
       "      <td>11</td>\n",
       "      <td>4</td>\n",
       "      <td>11</td>\n",
       "    </tr>\n",
       "    <tr>\n",
       "      <th>2</th>\n",
       "      <td>8</td>\n",
       "      <td>73</td>\n",
       "      <td>0.761536</td>\n",
       "      <td>-0.705039</td>\n",
       "      <td>-0.094563</td>\n",
       "      <td>1.435437</td>\n",
       "      <td>0.705437</td>\n",
       "      <td>0.518160</td>\n",
       "      <td>3.194336</td>\n",
       "      <td>0.909771</td>\n",
       "      <td>...</td>\n",
       "      <td>2.024732</td>\n",
       "      <td>1</td>\n",
       "      <td>8</td>\n",
       "      <td>0</td>\n",
       "      <td>1</td>\n",
       "      <td>0</td>\n",
       "      <td>2</td>\n",
       "      <td>5</td>\n",
       "      <td>0</td>\n",
       "      <td>0</td>\n",
       "    </tr>\n",
       "    <tr>\n",
       "      <th>3</th>\n",
       "      <td>8</td>\n",
       "      <td>40</td>\n",
       "      <td>-0.251006</td>\n",
       "      <td>-0.884939</td>\n",
       "      <td>-0.506265</td>\n",
       "      <td>0.693735</td>\n",
       "      <td>0.293735</td>\n",
       "      <td>-1.399765</td>\n",
       "      <td>0.015946</td>\n",
       "      <td>0.602743</td>\n",
       "      <td>...</td>\n",
       "      <td>1.341428</td>\n",
       "      <td>1</td>\n",
       "      <td>0</td>\n",
       "      <td>3</td>\n",
       "      <td>0</td>\n",
       "      <td>0</td>\n",
       "      <td>0</td>\n",
       "      <td>5</td>\n",
       "      <td>0</td>\n",
       "      <td>0</td>\n",
       "    </tr>\n",
       "    <tr>\n",
       "      <th>4</th>\n",
       "      <td>6</td>\n",
       "      <td>90</td>\n",
       "      <td>-1.211539</td>\n",
       "      <td>1.763510</td>\n",
       "      <td>0.794644</td>\n",
       "      <td>2.294644</td>\n",
       "      <td>1.394644</td>\n",
       "      <td>2.340393</td>\n",
       "      <td>2.163917</td>\n",
       "      <td>2.213653</td>\n",
       "      <td>...</td>\n",
       "      <td>4.033538</td>\n",
       "      <td>1</td>\n",
       "      <td>12</td>\n",
       "      <td>6</td>\n",
       "      <td>1</td>\n",
       "      <td>12</td>\n",
       "      <td>3</td>\n",
       "      <td>7</td>\n",
       "      <td>0</td>\n",
       "      <td>7</td>\n",
       "    </tr>\n",
       "  </tbody>\n",
       "</table>\n",
       "<p>5 rows × 21 columns</p>\n",
       "</div>"
      ],
      "text/plain": [
       "   id1  id2        x1        x2     yhat0      yhat     yhat1        y0  \\\n",
       "0    4   99 -0.232286 -1.106499 -0.633585  0.756415 -0.233585  1.997507   \n",
       "1    8   98  0.457063  0.585081  0.588167  2.368167  1.388167  2.215314   \n",
       "2    8   73  0.761536 -0.705039 -0.094563  1.435437  0.705437  0.518160   \n",
       "3    8   40 -0.251006 -0.884939 -0.506265  0.693735  0.293735 -1.399765   \n",
       "4    6   90 -1.211539  1.763510  0.794644  2.294644  1.394644  2.340393   \n",
       "\n",
       "          y       Ep0  ...       Ep1  p0   p  p1  pz0  pz  nb0  nb  nbz0  nbz  \n",
       "0  0.034401  0.530686  ...  0.791690   1   3   3    1   0    1   1     1    1  \n",
       "1  2.489864  1.800685  ...  4.007499   2  15   5    2  15    4  11     4   11  \n",
       "2  3.194336  0.909771  ...  2.024732   1   8   0    1   0    2   5     0    0  \n",
       "3  0.015946  0.602743  ...  1.341428   1   0   3    0   0    0   5     0    0  \n",
       "4  2.163917  2.213653  ...  4.033538   1  12   6    1  12    3   7     0    7  \n",
       "\n",
       "[5 rows x 21 columns]"
      ]
     },
     "execution_count": 24,
     "metadata": {},
     "output_type": "execute_result"
    }
   ],
   "source": [
    "models = ['linear', 'poisson', 'negbin', 'zinf_poisson', 'zinf_negbin']\n",
    "data = frt.dataset(N=1_000_000, K1=10, K2=100, models=models, seed=89320432)\n",
    "data.head()"
   ]
  },
  {
   "cell_type": "markdown",
   "metadata": {},
   "source": [
    "### Normal OLS"
   ]
  },
  {
   "cell_type": "code",
   "execution_count": 15,
   "metadata": {},
   "outputs": [
    {
     "name": "stdout",
     "output_type": "stream",
     "text": [
      "CPU times: user 434 ms, sys: 300 ms, total: 734 ms\n",
      "Wall time: 184 ms\n"
     ]
    },
    {
     "data": {
      "text/plain": [
       "Intercept    0.099722\n",
       "x1           0.299900\n",
       "x2           0.600421\n",
       "dtype: float64"
      ]
     },
     "execution_count": 15,
     "metadata": {},
     "output_type": "execute_result"
    }
   ],
   "source": [
    "%time smf.ols('y0 ~ 1 + x1 + x2', data=data).fit().params"
   ]
  },
  {
   "cell_type": "code",
   "execution_count": 16,
   "metadata": {},
   "outputs": [
    {
     "name": "stdout",
     "output_type": "stream",
     "text": [
      "CPU times: user 72.5 ms, sys: 36.2 ms, total: 109 ms\n",
      "Wall time: 32.2 ms\n"
     ]
    },
    {
     "data": {
      "text/html": [
       "<div>\n",
       "<style scoped>\n",
       "    .dataframe tbody tr th:only-of-type {\n",
       "        vertical-align: middle;\n",
       "    }\n",
       "\n",
       "    .dataframe tbody tr th {\n",
       "        vertical-align: top;\n",
       "    }\n",
       "\n",
       "    .dataframe thead th {\n",
       "        text-align: right;\n",
       "    }\n",
       "</style>\n",
       "<table border=\"1\" class=\"dataframe\">\n",
       "  <thead>\n",
       "    <tr style=\"text-align: right;\">\n",
       "      <th>y0</th>\n",
       "      <th>coeff</th>\n",
       "      <th>stderr</th>\n",
       "      <th>low95</th>\n",
       "      <th>high95</th>\n",
       "      <th>pvalue</th>\n",
       "    </tr>\n",
       "  </thead>\n",
       "  <tbody>\n",
       "    <tr>\n",
       "      <th>1</th>\n",
       "      <td>0.099722</td>\n",
       "      <td>0.001000</td>\n",
       "      <td>0.097763</td>\n",
       "      <td>0.101681</td>\n",
       "      <td>0.0</td>\n",
       "    </tr>\n",
       "    <tr>\n",
       "      <th>x1</th>\n",
       "      <td>0.299900</td>\n",
       "      <td>0.000999</td>\n",
       "      <td>0.297941</td>\n",
       "      <td>0.301858</td>\n",
       "      <td>0.0</td>\n",
       "    </tr>\n",
       "    <tr>\n",
       "      <th>x2</th>\n",
       "      <td>0.600421</td>\n",
       "      <td>0.000998</td>\n",
       "      <td>0.598465</td>\n",
       "      <td>0.602378</td>\n",
       "      <td>0.0</td>\n",
       "    </tr>\n",
       "  </tbody>\n",
       "</table>\n",
       "</div>"
      ],
      "text/plain": [
       "y0     coeff    stderr     low95    high95  pvalue\n",
       "1   0.099722  0.001000  0.097763  0.101681     0.0\n",
       "x1  0.299900  0.000999  0.297941  0.301858     0.0\n",
       "x2  0.600421  0.000998  0.598465  0.602378     0.0"
      ]
     },
     "execution_count": 16,
     "metadata": {},
     "output_type": "execute_result"
    }
   ],
   "source": [
    "%time frl.ols(y='y0', x=I+R('x1')+R('x2'), data=data)"
   ]
  },
  {
   "cell_type": "markdown",
   "metadata": {},
   "source": [
    "### Sparse OLS"
   ]
  },
  {
   "cell_type": "code",
   "execution_count": 17,
   "metadata": {},
   "outputs": [
    {
     "name": "stdout",
     "output_type": "stream",
     "text": [
      "CPU times: user 735 ms, sys: 38.1 ms, total: 773 ms\n",
      "Wall time: 721 ms\n"
     ]
    },
    {
     "data": {
      "text/html": [
       "<div>\n",
       "<style scoped>\n",
       "    .dataframe tbody tr th:only-of-type {\n",
       "        vertical-align: middle;\n",
       "    }\n",
       "\n",
       "    .dataframe tbody tr th {\n",
       "        vertical-align: top;\n",
       "    }\n",
       "\n",
       "    .dataframe thead th {\n",
       "        text-align: right;\n",
       "    }\n",
       "</style>\n",
       "<table border=\"1\" class=\"dataframe\">\n",
       "  <thead>\n",
       "    <tr style=\"text-align: right;\">\n",
       "      <th>y</th>\n",
       "      <th>coeff</th>\n",
       "      <th>stderr</th>\n",
       "      <th>low95</th>\n",
       "      <th>high95</th>\n",
       "      <th>pvalue</th>\n",
       "    </tr>\n",
       "  </thead>\n",
       "  <tbody>\n",
       "    <tr>\n",
       "      <th>1</th>\n",
       "      <td>0.101112</td>\n",
       "      <td>0.010406</td>\n",
       "      <td>0.080716</td>\n",
       "      <td>0.121507</td>\n",
       "      <td>0.0</td>\n",
       "    </tr>\n",
       "    <tr>\n",
       "      <th>x1</th>\n",
       "      <td>0.300678</td>\n",
       "      <td>0.001000</td>\n",
       "      <td>0.298719</td>\n",
       "      <td>0.302637</td>\n",
       "      <td>0.0</td>\n",
       "    </tr>\n",
       "    <tr>\n",
       "      <th>x2</th>\n",
       "      <td>0.598699</td>\n",
       "      <td>0.000999</td>\n",
       "      <td>0.596742</td>\n",
       "      <td>0.600656</td>\n",
       "      <td>0.0</td>\n",
       "    </tr>\n",
       "    <tr>\n",
       "      <th>id1=1</th>\n",
       "      <td>0.095159</td>\n",
       "      <td>0.004474</td>\n",
       "      <td>0.086391</td>\n",
       "      <td>0.103927</td>\n",
       "      <td>0.0</td>\n",
       "    </tr>\n",
       "    <tr>\n",
       "      <th>id1=2</th>\n",
       "      <td>0.194404</td>\n",
       "      <td>0.004468</td>\n",
       "      <td>0.185646</td>\n",
       "      <td>0.203162</td>\n",
       "      <td>0.0</td>\n",
       "    </tr>\n",
       "    <tr>\n",
       "      <th>...</th>\n",
       "      <td>...</td>\n",
       "      <td>...</td>\n",
       "      <td>...</td>\n",
       "      <td>...</td>\n",
       "      <td>...</td>\n",
       "    </tr>\n",
       "    <tr>\n",
       "      <th>id2=95</th>\n",
       "      <td>0.952153</td>\n",
       "      <td>0.014125</td>\n",
       "      <td>0.924469</td>\n",
       "      <td>0.979838</td>\n",
       "      <td>0.0</td>\n",
       "    </tr>\n",
       "    <tr>\n",
       "      <th>id2=96</th>\n",
       "      <td>0.962016</td>\n",
       "      <td>0.014155</td>\n",
       "      <td>0.934273</td>\n",
       "      <td>0.989759</td>\n",
       "      <td>0.0</td>\n",
       "    </tr>\n",
       "    <tr>\n",
       "      <th>id2=97</th>\n",
       "      <td>0.990319</td>\n",
       "      <td>0.014161</td>\n",
       "      <td>0.962564</td>\n",
       "      <td>1.018074</td>\n",
       "      <td>0.0</td>\n",
       "    </tr>\n",
       "    <tr>\n",
       "      <th>id2=98</th>\n",
       "      <td>0.984403</td>\n",
       "      <td>0.014150</td>\n",
       "      <td>0.956671</td>\n",
       "      <td>1.012136</td>\n",
       "      <td>0.0</td>\n",
       "    </tr>\n",
       "    <tr>\n",
       "      <th>id2=99</th>\n",
       "      <td>0.984027</td>\n",
       "      <td>0.014097</td>\n",
       "      <td>0.956397</td>\n",
       "      <td>1.011657</td>\n",
       "      <td>0.0</td>\n",
       "    </tr>\n",
       "  </tbody>\n",
       "</table>\n",
       "<p>111 rows × 5 columns</p>\n",
       "</div>"
      ],
      "text/plain": [
       "y          coeff    stderr     low95    high95  pvalue\n",
       "1       0.101112  0.010406  0.080716  0.121507     0.0\n",
       "x1      0.300678  0.001000  0.298719  0.302637     0.0\n",
       "x2      0.598699  0.000999  0.596742  0.600656     0.0\n",
       "id1=1   0.095159  0.004474  0.086391  0.103927     0.0\n",
       "id1=2   0.194404  0.004468  0.185646  0.203162     0.0\n",
       "...          ...       ...       ...       ...     ...\n",
       "id2=95  0.952153  0.014125  0.924469  0.979838     0.0\n",
       "id2=96  0.962016  0.014155  0.934273  0.989759     0.0\n",
       "id2=97  0.990319  0.014161  0.962564  1.018074     0.0\n",
       "id2=98  0.984403  0.014150  0.956671  1.012136     0.0\n",
       "id2=99  0.984027  0.014097  0.956397  1.011657     0.0\n",
       "\n",
       "[111 rows x 5 columns]"
      ]
     },
     "execution_count": 17,
     "metadata": {},
     "output_type": "execute_result"
    }
   ],
   "source": [
    "%time frl.ols(y='y', x=I+R('x1')+R('x2')+C('id1')+C('id2'), data=data)"
   ]
  },
  {
   "cell_type": "markdown",
   "metadata": {},
   "source": [
    "### Fancy OLS"
   ]
  },
  {
   "cell_type": "code",
   "execution_count": 18,
   "metadata": {},
   "outputs": [
    {
     "name": "stdout",
     "output_type": "stream",
     "text": [
      "CPU times: user 801 ms, sys: 444 ms, total: 1.25 s\n",
      "Wall time: 488 ms\n"
     ]
    },
    {
     "data": {
      "text/html": [
       "<div>\n",
       "<style scoped>\n",
       "    .dataframe tbody tr th:only-of-type {\n",
       "        vertical-align: middle;\n",
       "    }\n",
       "\n",
       "    .dataframe tbody tr th {\n",
       "        vertical-align: top;\n",
       "    }\n",
       "\n",
       "    .dataframe thead th {\n",
       "        text-align: right;\n",
       "    }\n",
       "</style>\n",
       "<table border=\"1\" class=\"dataframe\">\n",
       "  <thead>\n",
       "    <tr style=\"text-align: right;\">\n",
       "      <th>y</th>\n",
       "      <th>coeff</th>\n",
       "      <th>stderr</th>\n",
       "      <th>low95</th>\n",
       "      <th>high95</th>\n",
       "      <th>pvalue</th>\n",
       "    </tr>\n",
       "  </thead>\n",
       "  <tbody>\n",
       "    <tr>\n",
       "      <th>1</th>\n",
       "      <td>1.045036</td>\n",
       "      <td>0.000925</td>\n",
       "      <td>1.043223</td>\n",
       "      <td>1.046849</td>\n",
       "      <td>0.0</td>\n",
       "    </tr>\n",
       "    <tr>\n",
       "      <th>x1</th>\n",
       "      <td>0.300678</td>\n",
       "      <td>0.000990</td>\n",
       "      <td>0.298739</td>\n",
       "      <td>0.302618</td>\n",
       "      <td>0.0</td>\n",
       "    </tr>\n",
       "    <tr>\n",
       "      <th>x2</th>\n",
       "      <td>0.598699</td>\n",
       "      <td>0.000971</td>\n",
       "      <td>0.596796</td>\n",
       "      <td>0.600601</td>\n",
       "      <td>0.0</td>\n",
       "    </tr>\n",
       "  </tbody>\n",
       "</table>\n",
       "</div>"
      ],
      "text/plain": [
       "y      coeff    stderr     low95    high95  pvalue\n",
       "1   1.045036  0.000925  1.043223  1.046849     0.0\n",
       "x1  0.300678  0.000990  0.298739  0.302618     0.0\n",
       "x2  0.598699  0.000971  0.596796  0.600601     0.0"
      ]
     },
     "execution_count": 18,
     "metadata": {},
     "output_type": "execute_result"
    }
   ],
   "source": [
    "%time frl.ols(y='y', x=I+R('x1')+R('x2'), absorb=('id1', 'id2'), data=data)"
   ]
  },
  {
   "cell_type": "code",
   "execution_count": 19,
   "metadata": {},
   "outputs": [
    {
     "name": "stdout",
     "output_type": "stream",
     "text": [
      "CPU times: user 1.01 s, sys: 41.9 ms, total: 1.05 s\n",
      "Wall time: 985 ms\n"
     ]
    },
    {
     "data": {
      "text/html": [
       "<div>\n",
       "<style scoped>\n",
       "    .dataframe tbody tr th:only-of-type {\n",
       "        vertical-align: middle;\n",
       "    }\n",
       "\n",
       "    .dataframe tbody tr th {\n",
       "        vertical-align: top;\n",
       "    }\n",
       "\n",
       "    .dataframe thead th {\n",
       "        text-align: right;\n",
       "    }\n",
       "</style>\n",
       "<table border=\"1\" class=\"dataframe\">\n",
       "  <thead>\n",
       "    <tr style=\"text-align: right;\">\n",
       "      <th>y</th>\n",
       "      <th>coeff</th>\n",
       "      <th>stderr</th>\n",
       "      <th>low95</th>\n",
       "      <th>high95</th>\n",
       "      <th>pvalue</th>\n",
       "    </tr>\n",
       "  </thead>\n",
       "  <tbody>\n",
       "    <tr>\n",
       "      <th>1</th>\n",
       "      <td>0.101112</td>\n",
       "      <td>0.008526</td>\n",
       "      <td>0.084401</td>\n",
       "      <td>0.117823</td>\n",
       "      <td>0.0</td>\n",
       "    </tr>\n",
       "    <tr>\n",
       "      <th>x1</th>\n",
       "      <td>0.300678</td>\n",
       "      <td>0.000990</td>\n",
       "      <td>0.298739</td>\n",
       "      <td>0.302618</td>\n",
       "      <td>0.0</td>\n",
       "    </tr>\n",
       "    <tr>\n",
       "      <th>x2</th>\n",
       "      <td>0.598699</td>\n",
       "      <td>0.000971</td>\n",
       "      <td>0.596796</td>\n",
       "      <td>0.600601</td>\n",
       "      <td>0.0</td>\n",
       "    </tr>\n",
       "    <tr>\n",
       "      <th>id1=1</th>\n",
       "      <td>0.095159</td>\n",
       "      <td>0.004021</td>\n",
       "      <td>0.087278</td>\n",
       "      <td>0.103040</td>\n",
       "      <td>0.0</td>\n",
       "    </tr>\n",
       "    <tr>\n",
       "      <th>id1=2</th>\n",
       "      <td>0.194404</td>\n",
       "      <td>0.004191</td>\n",
       "      <td>0.186191</td>\n",
       "      <td>0.202617</td>\n",
       "      <td>0.0</td>\n",
       "    </tr>\n",
       "    <tr>\n",
       "      <th>...</th>\n",
       "      <td>...</td>\n",
       "      <td>...</td>\n",
       "      <td>...</td>\n",
       "      <td>...</td>\n",
       "      <td>...</td>\n",
       "    </tr>\n",
       "    <tr>\n",
       "      <th>id2=95</th>\n",
       "      <td>0.952153</td>\n",
       "      <td>0.012445</td>\n",
       "      <td>0.927762</td>\n",
       "      <td>0.976545</td>\n",
       "      <td>0.0</td>\n",
       "    </tr>\n",
       "    <tr>\n",
       "      <th>id2=96</th>\n",
       "      <td>0.962016</td>\n",
       "      <td>0.010592</td>\n",
       "      <td>0.941256</td>\n",
       "      <td>0.982776</td>\n",
       "      <td>0.0</td>\n",
       "    </tr>\n",
       "    <tr>\n",
       "      <th>id2=97</th>\n",
       "      <td>0.990319</td>\n",
       "      <td>0.011683</td>\n",
       "      <td>0.967420</td>\n",
       "      <td>1.013218</td>\n",
       "      <td>0.0</td>\n",
       "    </tr>\n",
       "    <tr>\n",
       "      <th>id2=98</th>\n",
       "      <td>0.984403</td>\n",
       "      <td>0.010255</td>\n",
       "      <td>0.964304</td>\n",
       "      <td>1.004503</td>\n",
       "      <td>0.0</td>\n",
       "    </tr>\n",
       "    <tr>\n",
       "      <th>id2=99</th>\n",
       "      <td>0.984027</td>\n",
       "      <td>0.012468</td>\n",
       "      <td>0.959590</td>\n",
       "      <td>1.008464</td>\n",
       "      <td>0.0</td>\n",
       "    </tr>\n",
       "  </tbody>\n",
       "</table>\n",
       "<p>111 rows × 5 columns</p>\n",
       "</div>"
      ],
      "text/plain": [
       "y          coeff    stderr     low95    high95  pvalue\n",
       "1       0.101112  0.008526  0.084401  0.117823     0.0\n",
       "x1      0.300678  0.000990  0.298739  0.302618     0.0\n",
       "x2      0.598699  0.000971  0.596796  0.600601     0.0\n",
       "id1=1   0.095159  0.004021  0.087278  0.103040     0.0\n",
       "id1=2   0.194404  0.004191  0.186191  0.202617     0.0\n",
       "...          ...       ...       ...       ...     ...\n",
       "id2=95  0.952153  0.012445  0.927762  0.976545     0.0\n",
       "id2=96  0.962016  0.010592  0.941256  0.982776     0.0\n",
       "id2=97  0.990319  0.011683  0.967420  1.013218     0.0\n",
       "id2=98  0.984403  0.010255  0.964304  1.004503     0.0\n",
       "id2=99  0.984027  0.012468  0.959590  1.008464     0.0\n",
       "\n",
       "[111 rows x 5 columns]"
      ]
     },
     "execution_count": 19,
     "metadata": {},
     "output_type": "execute_result"
    }
   ],
   "source": [
    "%time frl.ols(y='y', x=I+R('x1')+R('x2')+C('id1')+C('id2'), cluster=('id1', 'id2'), data=data)"
   ]
  },
  {
   "cell_type": "markdown",
   "metadata": {},
   "source": [
    "### Poisson"
   ]
  },
  {
   "cell_type": "code",
   "execution_count": 20,
   "metadata": {},
   "outputs": [
    {
     "name": "stdout",
     "output_type": "stream",
     "text": [
      "[  0] -0.6623: 0.3373 nan\n",
      "[  1] -0.6223: 0.3374 nan\n",
      "[  2] -0.6223: 0.3374 nan\n",
      "CPU times: user 1.87 s, sys: 276 ms, total: 2.15 s\n",
      "Wall time: 1.53 s\n",
      "[0.10007502 0.30764726 0.6043742 ]\n"
     ]
    }
   ],
   "source": [
    "%time param, sigma = frg.poisson(y='p0', x=I+R('x1')+R('x2'), data=data, epochs=3)\n",
    "print(param['real'])"
   ]
  },
  {
   "cell_type": "code",
   "execution_count": 21,
   "metadata": {},
   "outputs": [
    {
     "name": "stdout",
     "output_type": "stream",
     "text": [
      "[  0] 1.8925: 0.5160 0.4165\n",
      "[  1] 2.3893: 0.5152 0.4159\n",
      "[  2] 2.3893: 0.5151 0.4164\n",
      "CPU times: user 3.47 s, sys: 451 ms, total: 3.92 s\n",
      "Wall time: 2.74 s\n",
      "[0.65652   0.2995286 0.5891753]\n"
     ]
    }
   ],
   "source": [
    "%time param, sigma = frg.poisson(y='p', x=I+R('x1')+R('x2')+C('id1'), data=data, epochs=3)\n",
    "print(param['real'])"
   ]
  },
  {
   "cell_type": "code",
   "execution_count": 22,
   "metadata": {},
   "outputs": [
    {
     "data": {
      "image/png": "[encoded data removed]",
      "text/plain": [
       "<Figure size 432x288 with 1 Axes>"
      ]
     },
     "metadata": {
      "needs_background": "light"
     },
     "output_type": "display_data"
    }
   ],
   "source": [
    "bid1 = np.arange(10)/10\n",
    "beta = param['categ']['id1']-param['categ']['id1'][0]\n",
    "berr = beta - bid1\n",
    "stdv = np.sqrt(np.diagonal(sigma['categ']['id1']['categ']['id1']))\n",
    "line, = plt.plot(bid1, berr, marker='o')\n",
    "# plt.plot(bid1, bid1, linestyle='--', linewidth=1, color='k');\n",
    "plt.plot(bid1, np.zeros_like(bid1), linestyle='--', linewidth=1, color='k');\n",
    "plt.errorbar(bid1, berr, yerr=stdv, capsize=4, color=line.get_color());"
   ]
  },
  {
   "cell_type": "markdown",
   "metadata": {},
   "source": [
    "### Negative Binomial"
   ]
  },
  {
   "cell_type": "code",
   "execution_count": 32,
   "metadata": {},
   "outputs": [
    {
     "name": "stdout",
     "output_type": "stream",
     "text": [
      "[  0] -0.7324: 0.3673 nan\n",
      "[  1] -0.6073: 0.3546 nan\n",
      "[  2] -0.5943: 0.3426 nan\n",
      "[  3] -0.5927: 0.3371 nan\n",
      "[  4] -0.5924: 0.3351 nan\n",
      "[  5] -0.5924: 0.3341 nan\n",
      "[  6] -0.5924: 0.3336 nan\n",
      "[  7] -0.5924: 0.3332 nan\n",
      "[  8] -0.5924: 0.3330 nan\n",
      "[  9] -0.5924: 0.3328 nan\n",
      "CPU times: user 12.1 s, sys: 1.62 s, total: 13.7 s\n",
      "Wall time: 9.66 s\n",
      "[0.09992301 0.30031046 0.59815097]\n"
     ]
    }
   ],
   "source": [
    "%time param, sigma = frg.zinf_negbin(y='nb0', x=I+R('x1')+R('x2'), data=data, epochs=10)\n",
    "print(param['real'])"
   ]
  },
  {
   "cell_type": "code",
   "execution_count": 35,
   "metadata": {},
   "outputs": [
    {
     "name": "stdout",
     "output_type": "stream",
     "text": [
      "[  0] 1.4729: 0.3768 0.3292\n",
      "[  1] 1.7915: 0.3821 0.3200\n",
      "[  2] 1.8366: 0.3867 0.3111\n",
      "[  3] 1.8442: 0.3882 0.3061\n",
      "[  4] 1.8456: 0.3889 0.3032\n",
      "[  5] 1.8458: 0.3899 0.3013\n",
      "[  6] 1.8458: 0.3908 0.2996\n",
      "[  7] 1.8458: 0.3918 0.2980\n",
      "[  8] 1.8458: 0.3928 0.2964\n",
      "[  9] 1.8458: 0.3938 0.2948\n",
      "CPU times: user 20.5 s, sys: 2.58 s, total: 23.1 s\n",
      "Wall time: 18.1 s\n"
     ]
    }
   ],
   "source": [
    "%time param, sigma = frg.zinf_negbin(y='nb', x=I+R('x1')+R('x2')+C('id1')+C('id2'), data=data, epochs=10)"
   ]
  },
  {
   "cell_type": "code",
   "execution_count": 36,
   "metadata": {},
   "outputs": [
    {
     "name": "stderr",
     "output_type": "stream",
     "text": [
      "<ipython-input-36-12031c8b75c1>:3: RuntimeWarning: invalid value encountered in sqrt\n",
      "  stdv = np.sqrt(np.diagonal(sigma['categ']['id2']['categ']['id2']))\n",
      "/home/doug/.local/lib/python3.9/site-packages/matplotlib/axes/_base.py:2283: UserWarning: Warning: converting a masked element to nan.\n",
      "  xys = np.asarray(xys)\n"
     ]
    },
    {
     "data": {
      "image/png": "[encoded data removed]",
      "text/plain": [
       "<Figure size 432x288 with 1 Axes>"
      ]
     },
     "metadata": {
      "needs_background": "light"
     },
     "output_type": "display_data"
    }
   ],
   "source": [
    "bid1 = np.arange(100)/100\n",
    "beta = param['categ']['id2'] - param['categ']['id2'][0]\n",
    "stdv = np.sqrt(np.diagonal(sigma['categ']['id2']['categ']['id2']))\n",
    "line, = plt.plot(bid1, beta, marker='o')\n",
    "plt.plot(bid1, bid1, linestyle='--', linewidth=1, color='k');\n",
    "plt.errorbar(bid1, beta, yerr=stdv, capsize=4, color=line.get_color());"
   ]
  },
  {
   "cell_type": "markdown",
   "metadata": {},
   "source": [
    "### Ultra Wide"
   ]
  },
  {
   "cell_type": "code",
   "execution_count": 38,
   "metadata": {},
   "outputs": [],
   "source": [
    "N = 2_000_000\n",
    "df = pd.DataFrame({ \n",
    "    'x1': np.random.rand(N), \n",
    "    'x2': np.random.rand(N), \n",
    "    'id1': np.ceil(np.arange(N)/200+1e-7).astype(int),\n",
    "    'id2': np.random.randint(1, 10001, size=N)\n",
    "})\n",
    "df['y'] = df['x1'] + 2*df['x2'] + np.log10(df['id1']) + np.log10(df['id2']) + np.random.randn(N)"
   ]
  },
  {
   "cell_type": "code",
   "execution_count": 47,
   "metadata": {},
   "outputs": [
    {
     "name": "stdout",
     "output_type": "stream",
     "text": [
      "CPU times: user 2.6 s, sys: 1.39 s, total: 3.99 s\n",
      "Wall time: 3.21 s\n"
     ]
    },
    {
     "data": {
      "text/html": [
       "<div>\n",
       "<style scoped>\n",
       "    .dataframe tbody tr th:only-of-type {\n",
       "        vertical-align: middle;\n",
       "    }\n",
       "\n",
       "    .dataframe tbody tr th {\n",
       "        vertical-align: top;\n",
       "    }\n",
       "\n",
       "    .dataframe thead th {\n",
       "        text-align: right;\n",
       "    }\n",
       "</style>\n",
       "<table border=\"1\" class=\"dataframe\">\n",
       "  <thead>\n",
       "    <tr style=\"text-align: right;\">\n",
       "      <th>y</th>\n",
       "      <th>coeff</th>\n",
       "      <th>stderr</th>\n",
       "      <th>low95</th>\n",
       "      <th>high95</th>\n",
       "      <th>pvalue</th>\n",
       "    </tr>\n",
       "  </thead>\n",
       "  <tbody>\n",
       "    <tr>\n",
       "      <th>1</th>\n",
       "      <td>7.132834</td>\n",
       "      <td>0.001870</td>\n",
       "      <td>7.129168</td>\n",
       "      <td>7.136499</td>\n",
       "      <td>0.0</td>\n",
       "    </tr>\n",
       "    <tr>\n",
       "      <th>x1</th>\n",
       "      <td>0.998995</td>\n",
       "      <td>0.002448</td>\n",
       "      <td>0.994197</td>\n",
       "      <td>1.003793</td>\n",
       "      <td>0.0</td>\n",
       "    </tr>\n",
       "    <tr>\n",
       "      <th>x2</th>\n",
       "      <td>1.998739</td>\n",
       "      <td>0.002454</td>\n",
       "      <td>1.993930</td>\n",
       "      <td>2.003548</td>\n",
       "      <td>0.0</td>\n",
       "    </tr>\n",
       "  </tbody>\n",
       "</table>\n",
       "</div>"
      ],
      "text/plain": [
       "y      coeff    stderr     low95    high95  pvalue\n",
       "1   7.132834  0.001870  7.129168  7.136499     0.0\n",
       "x1  0.998995  0.002448  0.994197  1.003793     0.0\n",
       "x2  1.998739  0.002454  1.993930  2.003548     0.0"
      ]
     },
     "execution_count": 47,
     "metadata": {},
     "output_type": "execute_result"
    }
   ],
   "source": [
    "%time frl.ols(y='y', x=I+R('x1')+R('x2'), absorb=C('id1')*C('id2'), data=df)"
   ]
  },
  {
   "cell_type": "code",
   "execution_count": 46,
   "metadata": {},
   "outputs": [
    {
     "name": "stdout",
     "output_type": "stream",
     "text": [
      "[  0] -16.6229: 2.2732 0.6170\n",
      "[  1] -1.9090: 3.3842 0.7752\n",
      "[  2] -1.2006: 3.0342 0.7726\n",
      "[  3] -1.1452: 3.0492 0.7180\n",
      "[  4] -1.1365: 3.0947 0.6633\n",
      "[  5] -1.1340: 3.1194 0.6094\n",
      "[  6] -1.1229: 3.1615 0.5590\n",
      "[  7] -1.1200: 3.1829 0.5088\n",
      "[  8] -1.1102: 3.2142 0.4617\n",
      "[  9] -1.1049: 3.2316 0.4157\n",
      "CPU times: user 28.9 s, sys: 4.15 s, total: 33 s\n",
      "Wall time: 23.5 s\n",
      "[6.6544967 1.0176848 2.0225592]\n"
     ]
    }
   ],
   "source": [
    "%time beta, sigma = frg.ols(y='y', x=I+R('x1')+R('x2')+C('id1')+C('id2'), data=df, epochs=10, stderr=False)\n",
    "print(beta['real'])"
   ]
  },
  {
   "cell_type": "code",
   "execution_count": null,
   "metadata": {},
   "outputs": [],
   "source": []
  }
 ],
 "metadata": {
  "kernelspec": {
   "display_name": "Python 3",
   "language": "python",
   "name": "python3"
  },
  "language_info": {
   "codemirror_mode": {
    "name": "ipython",
    "version": 3
   },
   "file_extension": ".py",
   "mimetype": "text/x-python",
   "name": "python",
   "nbconvert_exporter": "python",
   "pygments_lexer": "ipython3",
   "version": "3.9.7"
  }
 },
 "nbformat": 4,
 "nbformat_minor": 4
}
