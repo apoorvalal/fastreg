{
 "cells": [
  {
   "cell_type": "code",
   "execution_count": 1,
   "metadata": {},
   "outputs": [],
   "source": [
    "import statsmodels.formula.api as smf\n",
    "import matplotlib.pyplot as plt\n",
    "import fastreg.design as frd\n",
    "import fastreg.linear as frl\n",
    "import fastreg.general as frg\n",
    "%matplotlib inline"
   ]
  },
  {
   "cell_type": "markdown",
   "metadata": {},
   "source": [
    "### Generate Data"
   ]
  },
  {
   "cell_type": "code",
   "execution_count": 2,
   "metadata": {},
   "outputs": [],
   "source": [
    "st = np.random.RandomState(89320432)\n",
    "N, K1, K2 = 1_000_000, 10, 100"
   ]
  },
  {
   "cell_type": "code",
   "execution_count": 3,
   "metadata": {},
   "outputs": [
    {
     "data": {
      "text/html": [
       "<div>\n",
       "<style scoped>\n",
       "    .dataframe tbody tr th:only-of-type {\n",
       "        vertical-align: middle;\n",
       "    }\n",
       "\n",
       "    .dataframe tbody tr th {\n",
       "        vertical-align: top;\n",
       "    }\n",
       "\n",
       "    .dataframe thead th {\n",
       "        text-align: right;\n",
       "    }\n",
       "</style>\n",
       "<table border=\"1\" class=\"dataframe\">\n",
       "  <thead>\n",
       "    <tr style=\"text-align: right;\">\n",
       "      <th></th>\n",
       "      <th>id1</th>\n",
       "      <th>id2</th>\n",
       "      <th>x1</th>\n",
       "      <th>x2</th>\n",
       "      <th>y</th>\n",
       "      <th>lEp</th>\n",
       "      <th>Ep</th>\n",
       "      <th>p</th>\n",
       "      <th>p0</th>\n",
       "    </tr>\n",
       "  </thead>\n",
       "  <tbody>\n",
       "    <tr>\n",
       "      <td>0</td>\n",
       "      <td>4</td>\n",
       "      <td>99</td>\n",
       "      <td>-0.232286</td>\n",
       "      <td>-1.106499</td>\n",
       "      <td>4.721238</td>\n",
       "      <td>-0.360671</td>\n",
       "      <td>0.697208</td>\n",
       "      <td>0</td>\n",
       "      <td>0</td>\n",
       "    </tr>\n",
       "    <tr>\n",
       "      <td>1</td>\n",
       "      <td>8</td>\n",
       "      <td>98</td>\n",
       "      <td>0.457063</td>\n",
       "      <td>0.585081</td>\n",
       "      <td>9.168498</td>\n",
       "      <td>0.391254</td>\n",
       "      <td>1.478834</td>\n",
       "      <td>2</td>\n",
       "      <td>0</td>\n",
       "    </tr>\n",
       "    <tr>\n",
       "      <td>2</td>\n",
       "      <td>8</td>\n",
       "      <td>73</td>\n",
       "      <td>0.761536</td>\n",
       "      <td>-0.705039</td>\n",
       "      <td>6.487252</td>\n",
       "      <td>0.315914</td>\n",
       "      <td>1.371512</td>\n",
       "      <td>1</td>\n",
       "      <td>1</td>\n",
       "    </tr>\n",
       "    <tr>\n",
       "      <td>3</td>\n",
       "      <td>8</td>\n",
       "      <td>40</td>\n",
       "      <td>-0.251006</td>\n",
       "      <td>-0.884939</td>\n",
       "      <td>1.583604</td>\n",
       "      <td>-0.327591</td>\n",
       "      <td>0.720657</td>\n",
       "      <td>3</td>\n",
       "      <td>3</td>\n",
       "    </tr>\n",
       "    <tr>\n",
       "      <td>4</td>\n",
       "      <td>6</td>\n",
       "      <td>90</td>\n",
       "      <td>-1.211539</td>\n",
       "      <td>1.763510</td>\n",
       "      <td>6.438151</td>\n",
       "      <td>-0.374222</td>\n",
       "      <td>0.687824</td>\n",
       "      <td>1</td>\n",
       "      <td>0</td>\n",
       "    </tr>\n",
       "  </tbody>\n",
       "</table>\n",
       "</div>"
      ],
      "text/plain": [
       "   id1  id2        x1        x2         y       lEp        Ep  p  p0\n",
       "0    4   99 -0.232286 -1.106499  4.721238 -0.360671  0.697208  0   0\n",
       "1    8   98  0.457063  0.585081  9.168498  0.391254  1.478834  2   0\n",
       "2    8   73  0.761536 -0.705039  6.487252  0.315914  1.371512  1   1\n",
       "3    8   40 -0.251006 -0.884939  1.583604 -0.327591  0.720657  3   3\n",
       "4    6   90 -1.211539  1.763510  6.438151 -0.374222  0.687824  1   0"
      ]
     },
     "execution_count": 3,
     "metadata": {},
     "output_type": "execute_result"
    }
   ],
   "source": [
    "df0 = pd.DataFrame({\n",
    "    'id1': st.randint(K1, size=N),\n",
    "    'id2': st.randint(K2, size=N),\n",
    "    'x1': st.randn(N),\n",
    "    'x2': st.randn(N)\n",
    "})\n",
    "df0['y'] = 5 + 3*df0['x1'] + 2*df0['x2'] + st.randn(N)\n",
    "df0['lEp'] = 0.6*df0['x1'] + 0.2*df0['x2']\n",
    "df0['Ep'] = np.exp(df0['lEp'])\n",
    "df0['p'] = np.random.poisson(df0['Ep'])\n",
    "df0['p0'] = np.where(st.rand(N) < 0.2, 0, df0['p'])\n",
    "df0.head()"
   ]
  },
  {
   "cell_type": "code",
   "execution_count": 4,
   "metadata": {},
   "outputs": [
    {
     "data": {
      "text/html": [
       "<div>\n",
       "<style scoped>\n",
       "    .dataframe tbody tr th:only-of-type {\n",
       "        vertical-align: middle;\n",
       "    }\n",
       "\n",
       "    .dataframe tbody tr th {\n",
       "        vertical-align: top;\n",
       "    }\n",
       "\n",
       "    .dataframe thead th {\n",
       "        text-align: right;\n",
       "    }\n",
       "</style>\n",
       "<table border=\"1\" class=\"dataframe\">\n",
       "  <thead>\n",
       "    <tr style=\"text-align: right;\">\n",
       "      <th></th>\n",
       "      <th>id1</th>\n",
       "      <th>id2</th>\n",
       "      <th>x1</th>\n",
       "      <th>x2</th>\n",
       "      <th>y</th>\n",
       "      <th>lEp</th>\n",
       "      <th>Ep</th>\n",
       "      <th>p</th>\n",
       "    </tr>\n",
       "  </thead>\n",
       "  <tbody>\n",
       "    <tr>\n",
       "      <td>0</td>\n",
       "      <td>4</td>\n",
       "      <td>91</td>\n",
       "      <td>-1.568084</td>\n",
       "      <td>-0.302746</td>\n",
       "      <td>0.198134</td>\n",
       "      <td>-0.538400</td>\n",
       "      <td>0.583682</td>\n",
       "      <td>0</td>\n",
       "    </tr>\n",
       "    <tr>\n",
       "      <td>1</td>\n",
       "      <td>8</td>\n",
       "      <td>34</td>\n",
       "      <td>2.149949</td>\n",
       "      <td>0.738744</td>\n",
       "      <td>15.280657</td>\n",
       "      <td>1.623718</td>\n",
       "      <td>5.071913</td>\n",
       "      <td>5</td>\n",
       "    </tr>\n",
       "    <tr>\n",
       "      <td>2</td>\n",
       "      <td>4</td>\n",
       "      <td>85</td>\n",
       "      <td>0.270684</td>\n",
       "      <td>1.181311</td>\n",
       "      <td>9.546037</td>\n",
       "      <td>0.831672</td>\n",
       "      <td>2.297157</td>\n",
       "      <td>5</td>\n",
       "    </tr>\n",
       "    <tr>\n",
       "      <td>3</td>\n",
       "      <td>4</td>\n",
       "      <td>21</td>\n",
       "      <td>-0.035878</td>\n",
       "      <td>-0.017614</td>\n",
       "      <td>3.982287</td>\n",
       "      <td>0.087950</td>\n",
       "      <td>1.091934</td>\n",
       "      <td>1</td>\n",
       "    </tr>\n",
       "    <tr>\n",
       "      <td>4</td>\n",
       "      <td>7</td>\n",
       "      <td>33</td>\n",
       "      <td>0.874663</td>\n",
       "      <td>-0.392154</td>\n",
       "      <td>7.437846</td>\n",
       "      <td>0.625367</td>\n",
       "      <td>1.868932</td>\n",
       "      <td>1</td>\n",
       "    </tr>\n",
       "  </tbody>\n",
       "</table>\n",
       "</div>"
      ],
      "text/plain": [
       "   id1  id2        x1        x2          y       lEp        Ep  p\n",
       "0    4   91 -1.568084 -0.302746   0.198134 -0.538400  0.583682  0\n",
       "1    8   34  2.149949  0.738744  15.280657  1.623718  5.071913  5\n",
       "2    4   85  0.270684  1.181311   9.546037  0.831672  2.297157  5\n",
       "3    4   21 -0.035878 -0.017614   3.982287  0.087950  1.091934  1\n",
       "4    7   33  0.874663 -0.392154   7.437846  0.625367  1.868932  1"
      ]
     },
     "execution_count": 4,
     "metadata": {},
     "output_type": "execute_result"
    }
   ],
   "source": [
    "df = pd.DataFrame({\n",
    "    'id1': st.randint(K1, size=N),\n",
    "    'id2': st.randint(K2, size=N),\n",
    "    'x1': st.randn(N),\n",
    "    'x2': st.randn(N)\n",
    "})\n",
    "df['y'] = 5 + 3*df['x1'] + 2*df['x2'] + 0.1*df['id1'] + 0.01*df['id2'] + st.randn(N)\n",
    "df['lEp'] = 0.6*df['x1'] + 0.2*df['x2'] + 0.2*df['id1']/100 + 0.5*df['id2']/100\n",
    "df['Ep'] = np.exp(df['lEp'])\n",
    "df['p'] = np.random.poisson(df['Ep'])\n",
    "df.head()"
   ]
  },
  {
   "cell_type": "markdown",
   "metadata": {},
   "source": [
    "### Normal OLS"
   ]
  },
  {
   "cell_type": "code",
   "execution_count": 6,
   "metadata": {},
   "outputs": [
    {
     "name": "stdout",
     "output_type": "stream",
     "text": [
      "CPU times: user 837 ms, sys: 619 ms, total: 1.46 s\n",
      "Wall time: 346 ms\n"
     ]
    },
    {
     "data": {
      "text/plain": [
       "Intercept    4.999722\n",
       "x1           2.999900\n",
       "x2           2.000421\n",
       "dtype: float64"
      ]
     },
     "execution_count": 6,
     "metadata": {},
     "output_type": "execute_result"
    }
   ],
   "source": [
    "%time smf.ols('y ~ x1 + x2', data=df0).fit().params"
   ]
  },
  {
   "cell_type": "code",
   "execution_count": 7,
   "metadata": {},
   "outputs": [
    {
     "name": "stdout",
     "output_type": "stream",
     "text": [
      "CPU times: user 139 ms, sys: 108 ms, total: 247 ms\n",
      "Wall time: 79.4 ms\n"
     ]
    },
    {
     "data": {
      "text/html": [
       "<div>\n",
       "<style scoped>\n",
       "    .dataframe tbody tr th:only-of-type {\n",
       "        vertical-align: middle;\n",
       "    }\n",
       "\n",
       "    .dataframe tbody tr th {\n",
       "        vertical-align: top;\n",
       "    }\n",
       "\n",
       "    .dataframe thead th {\n",
       "        text-align: right;\n",
       "    }\n",
       "</style>\n",
       "<table border=\"1\" class=\"dataframe\">\n",
       "  <thead>\n",
       "    <tr style=\"text-align: right;\">\n",
       "      <th></th>\n",
       "      <th>coeff</th>\n",
       "      <th>stderr</th>\n",
       "      <th>low95</th>\n",
       "      <th>high95</th>\n",
       "      <th>pvalue</th>\n",
       "    </tr>\n",
       "  </thead>\n",
       "  <tbody>\n",
       "    <tr>\n",
       "      <td>intercept</td>\n",
       "      <td>4.999722</td>\n",
       "      <td>0.001000</td>\n",
       "      <td>4.997763</td>\n",
       "      <td>5.001681</td>\n",
       "      <td>0.0</td>\n",
       "    </tr>\n",
       "    <tr>\n",
       "      <td>x1</td>\n",
       "      <td>2.999900</td>\n",
       "      <td>0.000999</td>\n",
       "      <td>2.997941</td>\n",
       "      <td>3.001858</td>\n",
       "      <td>0.0</td>\n",
       "    </tr>\n",
       "    <tr>\n",
       "      <td>x2</td>\n",
       "      <td>2.000421</td>\n",
       "      <td>0.000998</td>\n",
       "      <td>1.998465</td>\n",
       "      <td>2.002378</td>\n",
       "      <td>0.0</td>\n",
       "    </tr>\n",
       "  </tbody>\n",
       "</table>\n",
       "</div>"
      ],
      "text/plain": [
       "              coeff    stderr     low95    high95  pvalue\n",
       "intercept  4.999722  0.001000  4.997763  5.001681     0.0\n",
       "x1         2.999900  0.000999  2.997941  3.001858     0.0\n",
       "x2         2.000421  0.000998  1.998465  2.002378     0.0"
      ]
     },
     "execution_count": 7,
     "metadata": {},
     "output_type": "execute_result"
    }
   ],
   "source": [
    "%time frl.ols(y='y', x=['x1', 'x2'], data=df0)"
   ]
  },
  {
   "cell_type": "markdown",
   "metadata": {},
   "source": [
    "### Sparse OLS"
   ]
  },
  {
   "cell_type": "code",
   "execution_count": 78,
   "metadata": {},
   "outputs": [
    {
     "name": "stdout",
     "output_type": "stream",
     "text": [
      "CPU times: user 1.14 s, sys: 237 ms, total: 1.38 s\n",
      "Wall time: 1.1 s\n"
     ]
    },
    {
     "data": {
      "text/html": [
       "<div>\n",
       "<style scoped>\n",
       "    .dataframe tbody tr th:only-of-type {\n",
       "        vertical-align: middle;\n",
       "    }\n",
       "\n",
       "    .dataframe tbody tr th {\n",
       "        vertical-align: top;\n",
       "    }\n",
       "\n",
       "    .dataframe thead th {\n",
       "        text-align: right;\n",
       "    }\n",
       "</style>\n",
       "<table border=\"1\" class=\"dataframe\">\n",
       "  <thead>\n",
       "    <tr style=\"text-align: right;\">\n",
       "      <th></th>\n",
       "      <th>coeff</th>\n",
       "      <th>stderr</th>\n",
       "      <th>low95</th>\n",
       "      <th>high95</th>\n",
       "      <th>pvalue</th>\n",
       "    </tr>\n",
       "  </thead>\n",
       "  <tbody>\n",
       "    <tr>\n",
       "      <td>intercept</td>\n",
       "      <td>5.008952</td>\n",
       "      <td>0.010476</td>\n",
       "      <td>4.988420</td>\n",
       "      <td>5.029484</td>\n",
       "      <td>0.0</td>\n",
       "    </tr>\n",
       "    <tr>\n",
       "      <td>x1</td>\n",
       "      <td>3.002147</td>\n",
       "      <td>0.001001</td>\n",
       "      <td>3.000185</td>\n",
       "      <td>3.004109</td>\n",
       "      <td>0.0</td>\n",
       "    </tr>\n",
       "    <tr>\n",
       "      <td>x2</td>\n",
       "      <td>1.999583</td>\n",
       "      <td>0.001000</td>\n",
       "      <td>1.997623</td>\n",
       "      <td>2.001543</td>\n",
       "      <td>0.0</td>\n",
       "    </tr>\n",
       "    <tr>\n",
       "      <td>id1=1</td>\n",
       "      <td>0.103040</td>\n",
       "      <td>0.004468</td>\n",
       "      <td>0.094283</td>\n",
       "      <td>0.111798</td>\n",
       "      <td>0.0</td>\n",
       "    </tr>\n",
       "    <tr>\n",
       "      <td>id1=2</td>\n",
       "      <td>0.208639</td>\n",
       "      <td>0.004472</td>\n",
       "      <td>0.199874</td>\n",
       "      <td>0.217405</td>\n",
       "      <td>0.0</td>\n",
       "    </tr>\n",
       "    <tr>\n",
       "      <td>...</td>\n",
       "      <td>...</td>\n",
       "      <td>...</td>\n",
       "      <td>...</td>\n",
       "      <td>...</td>\n",
       "      <td>...</td>\n",
       "    </tr>\n",
       "    <tr>\n",
       "      <td>id2=95</td>\n",
       "      <td>0.942001</td>\n",
       "      <td>0.014201</td>\n",
       "      <td>0.914168</td>\n",
       "      <td>0.969834</td>\n",
       "      <td>0.0</td>\n",
       "    </tr>\n",
       "    <tr>\n",
       "      <td>id2=96</td>\n",
       "      <td>0.940008</td>\n",
       "      <td>0.014171</td>\n",
       "      <td>0.912233</td>\n",
       "      <td>0.967782</td>\n",
       "      <td>0.0</td>\n",
       "    </tr>\n",
       "    <tr>\n",
       "      <td>id2=97</td>\n",
       "      <td>0.967684</td>\n",
       "      <td>0.014171</td>\n",
       "      <td>0.939909</td>\n",
       "      <td>0.995458</td>\n",
       "      <td>0.0</td>\n",
       "    </tr>\n",
       "    <tr>\n",
       "      <td>id2=98</td>\n",
       "      <td>0.978038</td>\n",
       "      <td>0.014231</td>\n",
       "      <td>0.950145</td>\n",
       "      <td>1.005930</td>\n",
       "      <td>0.0</td>\n",
       "    </tr>\n",
       "    <tr>\n",
       "      <td>id2=99</td>\n",
       "      <td>0.985469</td>\n",
       "      <td>0.014154</td>\n",
       "      <td>0.957728</td>\n",
       "      <td>1.013211</td>\n",
       "      <td>0.0</td>\n",
       "    </tr>\n",
       "  </tbody>\n",
       "</table>\n",
       "<p>111 rows × 5 columns</p>\n",
       "</div>"
      ],
      "text/plain": [
       "              coeff    stderr     low95    high95  pvalue\n",
       "intercept  5.008952  0.010476  4.988420  5.029484     0.0\n",
       "x1         3.002147  0.001001  3.000185  3.004109     0.0\n",
       "x2         1.999583  0.001000  1.997623  2.001543     0.0\n",
       "id1=1      0.103040  0.004468  0.094283  0.111798     0.0\n",
       "id1=2      0.208639  0.004472  0.199874  0.217405     0.0\n",
       "...             ...       ...       ...       ...     ...\n",
       "id2=95     0.942001  0.014201  0.914168  0.969834     0.0\n",
       "id2=96     0.940008  0.014171  0.912233  0.967782     0.0\n",
       "id2=97     0.967684  0.014171  0.939909  0.995458     0.0\n",
       "id2=98     0.978038  0.014231  0.950145  1.005930     0.0\n",
       "id2=99     0.985469  0.014154  0.957728  1.013211     0.0\n",
       "\n",
       "[111 rows x 5 columns]"
      ]
     },
     "execution_count": 78,
     "metadata": {},
     "output_type": "execute_result"
    }
   ],
   "source": [
    "%time frl.ols(y='y', x=['x1', 'x2'], fe=['id1', 'id2'], data=df)"
   ]
  },
  {
   "cell_type": "code",
   "execution_count": 79,
   "metadata": {},
   "outputs": [
    {
     "name": "stdout",
     "output_type": "stream",
     "text": [
      "CPU times: user 1.57 s, sys: 537 ms, total: 2.11 s\n",
      "Wall time: 1.23 s\n"
     ]
    },
    {
     "data": {
      "text/html": [
       "<div>\n",
       "<style scoped>\n",
       "    .dataframe tbody tr th:only-of-type {\n",
       "        vertical-align: middle;\n",
       "    }\n",
       "\n",
       "    .dataframe tbody tr th {\n",
       "        vertical-align: top;\n",
       "    }\n",
       "\n",
       "    .dataframe thead th {\n",
       "        text-align: right;\n",
       "    }\n",
       "</style>\n",
       "<table border=\"1\" class=\"dataframe\">\n",
       "  <thead>\n",
       "    <tr style=\"text-align: right;\">\n",
       "      <th></th>\n",
       "      <th>coeff</th>\n",
       "      <th>stderr</th>\n",
       "      <th>low95</th>\n",
       "      <th>high95</th>\n",
       "      <th>pvalue</th>\n",
       "    </tr>\n",
       "  </thead>\n",
       "  <tbody>\n",
       "    <tr>\n",
       "      <td>intercept</td>\n",
       "      <td>0.000992</td>\n",
       "      <td>0.000002</td>\n",
       "      <td>0.000988</td>\n",
       "      <td>0.000995</td>\n",
       "      <td>0.0</td>\n",
       "    </tr>\n",
       "    <tr>\n",
       "      <td>x1</td>\n",
       "      <td>2.999914</td>\n",
       "      <td>0.001006</td>\n",
       "      <td>2.997943</td>\n",
       "      <td>3.001886</td>\n",
       "      <td>0.0</td>\n",
       "    </tr>\n",
       "    <tr>\n",
       "      <td>x2</td>\n",
       "      <td>2.000430</td>\n",
       "      <td>0.000978</td>\n",
       "      <td>1.998514</td>\n",
       "      <td>2.002347</td>\n",
       "      <td>0.0</td>\n",
       "    </tr>\n",
       "  </tbody>\n",
       "</table>\n",
       "</div>"
      ],
      "text/plain": [
       "              coeff    stderr     low95    high95  pvalue\n",
       "intercept  0.000992  0.000002  0.000988  0.000995     0.0\n",
       "x1         2.999914  0.001006  2.997943  3.001886     0.0\n",
       "x2         2.000430  0.000978  1.998514  2.002347     0.0"
      ]
     },
     "execution_count": 79,
     "metadata": {},
     "output_type": "execute_result"
    }
   ],
   "source": [
    "%time frl.ols(y='y', x=['x1', 'x2'], absorb=('id1', 'id2'), data=df0)"
   ]
  },
  {
   "cell_type": "markdown",
   "metadata": {},
   "source": [
    "### Poisson"
   ]
  },
  {
   "cell_type": "code",
   "execution_count": 10,
   "metadata": {},
   "outputs": [
    {
     "name": "stdout",
     "output_type": "stream",
     "text": [
      "  0: loss = 0.7366986274719238\n",
      "  1: loss = 0.7317739129066467\n",
      "  2: loss = 0.7317739129066467\n",
      "CPU times: user 38.2 s, sys: 614 ms, total: 38.9 s\n",
      "Wall time: 38.9 s\n"
     ]
    },
    {
     "data": {
      "text/html": [
       "<div>\n",
       "<style scoped>\n",
       "    .dataframe tbody tr th:only-of-type {\n",
       "        vertical-align: middle;\n",
       "    }\n",
       "\n",
       "    .dataframe tbody tr th {\n",
       "        vertical-align: top;\n",
       "    }\n",
       "\n",
       "    .dataframe thead th {\n",
       "        text-align: right;\n",
       "    }\n",
       "</style>\n",
       "<table border=\"1\" class=\"dataframe\">\n",
       "  <thead>\n",
       "    <tr style=\"text-align: right;\">\n",
       "      <th></th>\n",
       "      <th>coeff</th>\n",
       "      <th>stderr</th>\n",
       "      <th>low95</th>\n",
       "      <th>high95</th>\n",
       "      <th>pvalue</th>\n",
       "    </tr>\n",
       "  </thead>\n",
       "  <tbody>\n",
       "    <tr>\n",
       "      <td>intercept</td>\n",
       "      <td>-0.025178</td>\n",
       "      <td>0.001080</td>\n",
       "      <td>-0.027296</td>\n",
       "      <td>-0.023061</td>\n",
       "      <td>0.0</td>\n",
       "    </tr>\n",
       "    <tr>\n",
       "      <td>x1</td>\n",
       "      <td>0.576103</td>\n",
       "      <td>0.000919</td>\n",
       "      <td>0.574302</td>\n",
       "      <td>0.577904</td>\n",
       "      <td>0.0</td>\n",
       "    </tr>\n",
       "    <tr>\n",
       "      <td>x2</td>\n",
       "      <td>0.216270</td>\n",
       "      <td>0.000918</td>\n",
       "      <td>0.214471</td>\n",
       "      <td>0.218070</td>\n",
       "      <td>0.0</td>\n",
       "    </tr>\n",
       "  </tbody>\n",
       "</table>\n",
       "</div>"
      ],
      "text/plain": [
       "              coeff    stderr     low95    high95  pvalue\n",
       "intercept -0.025178  0.001080 -0.027296 -0.023061     0.0\n",
       "x1         0.576103  0.000919  0.574302  0.577904     0.0\n",
       "x2         0.216270  0.000918  0.214471  0.218070     0.0"
      ]
     },
     "execution_count": 10,
     "metadata": {},
     "output_type": "execute_result"
    }
   ],
   "source": [
    "%time frg.poisson(y='p', x=['x1', 'x2'], data=df0, device='cuda', output='table')"
   ]
  },
  {
   "cell_type": "code",
   "execution_count": 14,
   "metadata": {},
   "outputs": [
    {
     "name": "stdout",
     "output_type": "stream",
     "text": [
      "  0: loss = 0.522212564945221\n",
      "  1: loss = 0.5146617889404297\n",
      "  2: loss = 0.514546275138855\n",
      "CPU times: user 53.8 s, sys: 2.29 s, total: 56.1 s\n",
      "Wall time: 54.6 s\n"
     ]
    }
   ],
   "source": [
    "%time table, beta, sigma = frg.poisson(y='p', x=['x1', 'x2'], fe=['id1', 'id2'], data=df, device='cuda')"
   ]
  },
  {
   "cell_type": "code",
   "execution_count": 15,
   "metadata": {},
   "outputs": [],
   "source": [
    "coeff = table['coeff'].filter(regex='id2').rename('beta1').rename_axis('id2').reset_index()\n",
    "coeff['id2'] = coeff['id2'].apply(lambda s: s[4:]).astype(np.int)\n",
    "coeff['beta0'] = 0.5*coeff['id2']/100\n",
    "coeff['beta1'] += table.loc['intercept', 'coeff']"
   ]
  },
  {
   "cell_type": "code",
   "execution_count": 16,
   "metadata": {},
   "outputs": [
    {
     "data": {
      "image/png": "[encoded data removed]",
      "text/plain": [
       "<Figure size 432x360 with 1 Axes>"
      ]
     },
     "metadata": {
      "needs_background": "light"
     },
     "output_type": "display_data"
    }
   ],
   "source": [
    "bmax = 0.5*K2/100\n",
    "beta = np.linspace(0, bmax, 1000)\n",
    "fig, ax = plt.subplots(figsize=(6, 5))\n",
    "coeff.plot.scatter(x='beta0', y='beta1', ax=ax, alpha=0.5);\n",
    "ax.plot(beta, beta, c='r', linewidth=1, zorder=1);"
   ]
  },
  {
   "cell_type": "code",
   "execution_count": null,
   "metadata": {},
   "outputs": [],
   "source": []
  }
 ],
 "metadata": {
  "kernelspec": {
   "display_name": "Python 3.7",
   "language": "python",
   "name": "python3.7"
  },
  "language_info": {
   "codemirror_mode": {
    "name": "ipython",
    "version": 3
   },
   "file_extension": ".py",
   "mimetype": "text/x-python",
   "name": "python",
   "nbconvert_exporter": "python",
   "pygments_lexer": "ipython3",
   "version": "3.7.4"
  }
 },
 "nbformat": 4,
 "nbformat_minor": 4
}
